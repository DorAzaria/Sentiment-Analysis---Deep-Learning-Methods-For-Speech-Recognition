{
  "nbformat": 4,
  "nbformat_minor": 0,
  "metadata": {
    "colab": {
      "name": "preprocess.ipynb",
      "provenance": [],
      "authorship_tag": "ABX9TyPjFc0bKN/btHDEMFUl6wxg",
      "include_colab_link": true
    },
    "kernelspec": {
      "name": "python3",
      "display_name": "Python 3"
    },
    "language_info": {
      "name": "python"
    }
  },
  "cells": [
    {
      "cell_type": "markdown",
      "metadata": {
        "id": "view-in-github",
        "colab_type": "text"
      },
      "source": [
        "<a href=\"https://colab.research.google.com/github/DorAzaria/Sentiment-Analysis-Deep-Learning-Methods-For-Speech-Recognition/blob/main/preprocess.ipynb\" target=\"_parent\"><img src=\"https://colab.research.google.com/assets/colab-badge.svg\" alt=\"Open In Colab\"/></a>"
      ]
    },
    {
      "cell_type": "code",
      "execution_count": 1,
      "metadata": {
        "colab": {
          "base_uri": "https://localhost:8080/"
        },
        "id": "ZO5JOfpL9hiD",
        "outputId": "d83945ce-5fee-44e6-a454-143a4a0daaf7"
      },
      "outputs": [
        {
          "output_type": "stream",
          "name": "stdout",
          "text": [
            "Mounted at /content/data/\n"
          ]
        }
      ],
      "source": [
        "from google.colab import drive\n",
        "drive.mount('/content/data/')"
      ]
    },
    {
      "cell_type": "markdown",
      "source": [
        "# **IMPORTS**\n",
        "\n",
        "---"
      ],
      "metadata": {
        "id": "ru4q5AgG_jpA"
      }
    },
    {
      "cell_type": "code",
      "source": [
        "import numpy as np\n",
        "import pandas as pd\n",
        "import os\n",
        "import librosa\n",
        "import sys\n",
        "import IPython\n",
        "import matplotlib\n",
        "import matplotlib.pyplot as plt\n",
        "import requests\n",
        "import torch\n",
        "import pickle\n",
        "import torchaudio\n",
        "from pathlib import Path\n",
        "from tqdm import tqdm\n",
        "from sklearn.model_selection import train_test_split"
      ],
      "metadata": {
        "id": "pL6DmFwx_i3H"
      },
      "execution_count": 2,
      "outputs": []
    },
    {
      "cell_type": "markdown",
      "source": [
        "# **STATICS**\n",
        "---\n",
        "\n"
      ],
      "metadata": {
        "id": "LF3nZ02K_rU7"
      }
    },
    {
      "cell_type": "code",
      "source": [
        "torch.random.manual_seed(0)\n",
        "device = torch.device(\"cuda\" if torch.cuda.is_available() else \"cpu\")\n",
        "bundle = torchaudio.pipelines.WAV2VEC2_ASR_BASE_960H\n",
        "model = bundle.get_model().to(device)\n",
        "EMOTIONS = {0: 'surprise', 1: 'calm', 2: 'happy', 3: 'sad', 4: 'angry', 5: 'fear', 6: 'disgust'}  # surprise has been changed from 8 to 0\n",
        "RAVDESS_PATH = '/content/data/MyDrive/dl/ravdess'\n",
        "TESS_PATH = '/content/data/MyDrive/dl/tess'\n",
        "URDU_PATH = '/content/data/MyDrive/dl/urdu'\n",
        "SAMPLE_RATE = 16000\n",
        "count_calm = 0\n",
        "data = pd.DataFrame(columns=['Emotion', 'Gender', 'Path'])"
      ],
      "metadata": {
        "id": "7BEJhPMwAjDy"
      },
      "execution_count": null,
      "outputs": []
    },
    {
      "cell_type": "markdown",
      "source": [
        "# **IMPORT RAVDESS**\n",
        "---"
      ],
      "metadata": {
        "id": "ug0CEh1UAqPM"
      }
    },
    {
      "cell_type": "code",
      "source": [
        "for dirname, _, filenames in os.walk(RAVDESS_PATH):\n",
        "    for filename in filenames:\n",
        "        file_path = os.path.join('\\\\', dirname, filename)\n",
        "        identifiers = filename.split('.')[0].split('-')\n",
        "\n",
        "        emotion = (int(identifiers[2]))\n",
        "        flag_change = False\n",
        "\n",
        "        if emotion == 2:\n",
        "            emotion = 1\n",
        "\n",
        "        if emotion == 8:  # surprise has been changed from 8 to 0\n",
        "            emotion = 0\n",
        "            flag_change = True\n",
        "\n",
        "        if emotion == 1:\n",
        "            count_calm += 1\n",
        "            flag_change = True\n",
        "\n",
        "        if int(identifiers[6]) % 2 == 0:  # actor id. (even = female, odd = male)\n",
        "            gender = 'female'\n",
        "        else:\n",
        "            gender = 'male'\n",
        "\n",
        "        path_fix = file_path.split('\\\\')\n",
        "        file_path = path_fix[1]\n",
        "        file_path += '/' + path_fix[2]\n",
        "        file_path += '/' + path_fix[3]\n",
        "        file_path += '/' + path_fix[4]\n",
        "\n",
        "        if flag_change:\n",
        "            data = data.append({\"Emotion\": emotion,\n",
        "                                \"Gender\": gender,\n",
        "                                \"Path\": file_path\n",
        "                                },\n",
        "                               ignore_index=True\n",
        "                               )\n",
        "        else:\n",
        "            emotion -= 1\n",
        "            data = data.append({\"Emotion\": emotion,\n",
        "                                \"Gender\": gender,\n",
        "                                \"Path\": file_path\n",
        "                                },\n",
        "                               ignore_index=True\n",
        "                               )"
      ],
      "metadata": {
        "id": "6KV0CG8UApRE"
      },
      "execution_count": null,
      "outputs": []
    },
    {
      "cell_type": "markdown",
      "source": [
        "# **IMPORT TESS**\n",
        "---"
      ],
      "metadata": {
        "id": "qMm6NjxwBO_Y"
      }
    },
    {
      "cell_type": "code",
      "source": [
        "for dirname, _, filenames in os.walk(TESS_PATH):\n",
        "    for filename in filenames:\n",
        "        file_path = os.path.join('\\\\', dirname, filename)\n",
        "        identifiers = filename.split('.')[0].split('_')\n",
        "        emotion = identifiers[2]\n",
        "\n",
        "        if emotion == 'angry':\n",
        "            emotion = 4\n",
        "        if emotion == 'disgust':\n",
        "            emotion = 6\n",
        "        if emotion == 'fear':\n",
        "            emotion = 5\n",
        "        if emotion == 'happy':\n",
        "            emotion = 2\n",
        "        if emotion == 'neutral':\n",
        "            emotion = 1\n",
        "            count_calm += 1\n",
        "        if emotion == 'ps':\n",
        "            emotion = 0\n",
        "        if emotion == 'sad':\n",
        "            emotion = 3\n",
        "\n",
        "        if identifiers[0] == 'YAF':  # actor id. (even = female, odd = male)\n",
        "            gender = 'female'\n",
        "        else:\n",
        "            gender = 'male'\n",
        "\n",
        "        if emotion == 1 and count_calm > 592:\n",
        "            continue\n",
        "\n",
        "        path_fix = file_path.split('\\\\')\n",
        "        file_path = path_fix[1]\n",
        "        file_path += '/' + path_fix[2]\n",
        "        file_path += '/' + path_fix[3]\n",
        "        file_path += '/' + path_fix[4]\n",
        "\n",
        "        data = data.append({\"Emotion\": emotion,\n",
        "                            \"Gender\": gender,\n",
        "                            \"Path\": file_path\n",
        "                            },\n",
        "                           ignore_index=True\n",
        "                           )\n",
        "  "
      ],
      "metadata": {
        "id": "gFIbbV8wBURB"
      },
      "execution_count": null,
      "outputs": []
    },
    {
      "cell_type": "markdown",
      "source": [
        "# **IMPORT URDU**\n",
        "---"
      ],
      "metadata": {
        "id": "2aTGlIZnBR71"
      }
    },
    {
      "cell_type": "code",
      "source": [
        "for dirname, _, filenames in os.walk(URDU_PATH):\n",
        "    for filename in filenames:\n",
        "        file_path = os.path.join('\\\\', dirname, filename)\n",
        "        identifiers = filename.split('.')[0].split('_')\n",
        "        emotion = dirname[10:]\n",
        "\n",
        "        if emotion == 'Angry':\n",
        "            emotion = 4\n",
        "        if emotion == 'Happy':\n",
        "            emotion = 2\n",
        "        if emotion == 'Neutral':\n",
        "            emotion = 1\n",
        "        if emotion == 'Sad':\n",
        "            emotion = 3\n",
        "\n",
        "        if identifiers[0][1] == 'F':  # actor id. (even = female, odd = male)\n",
        "            gender = 'female'\n",
        "        else:\n",
        "            gender = 'male'\n",
        "\n",
        "        path_fix = file_path.split('\\\\')\n",
        "        file_path = path_fix[1]\n",
        "        file_path += '/' + path_fix[2]\n",
        "        file_path += '/' + path_fix[3]\n",
        "        file_path += '/' + path_fix[4]\n",
        "\n",
        "        data = data.append({\"Emotion\": emotion,\n",
        "                            \"Gender\": gender,\n",
        "                            \"Path\": file_path\n",
        "                            },\n",
        "                           ignore_index=True\n",
        "                           )"
      ],
      "metadata": {
        "id": "sv9MXawfBUqR"
      },
      "execution_count": null,
      "outputs": []
    },
    {
      "cell_type": "markdown",
      "source": [
        "# **SAMPLE & NORMALIZATION**\n",
        "---"
      ],
      "metadata": {
        "id": "S9GlEW1YBU8E"
      }
    },
    {
      "cell_type": "code",
      "source": [
        "def speech_file_to_array_fn(path):\n",
        "    waveform, sampling_rate = torchaudio.load(filepath=path, num_frames=SAMPLE_RATE * 3)\n",
        "    waveform = waveform.to(device)\n",
        "\n",
        "    if (len(waveform[0]) < 48000):\n",
        "        print(f'less than 3 seconds: {path}')\n",
        "\n",
        "    return waveform\n",
        "\n",
        "\n",
        "def normalize_features(features):\n",
        "    for i in range(len(features[0])):\n",
        "        mlist = features[0][i]\n",
        "        features[0][i] = 2 * (mlist - np.max(mlist)) / (np.max(mlist) - np.min(mlist)) + 1"
      ],
      "metadata": {
        "id": "oMwEplwzBmpo"
      },
      "execution_count": null,
      "outputs": []
    },
    {
      "cell_type": "markdown",
      "source": [
        ""
      ],
      "metadata": {
        "id": "mA9aJZZtBohm"
      }
    },
    {
      "cell_type": "code",
      "source": [
        "signals = []\n",
        "\n",
        "j = 1\n",
        "total_data = len(data)\n",
        "with torch.inference_mode():\n",
        "    for i, file_path in enumerate(data.Path):\n",
        "        emission, _ = model(speech_file_to_array_fn(file_path))\n",
        "        features = emission.detach().cpu().numpy()\n",
        "        normalize_features(features)\n",
        "        check = 0\n",
        "        if features.shape[1] != 149:\n",
        "            print(f'\\n{j} is not in shape of 149, current shape: {features.shape[1]}')\n",
        "            check += 1\n",
        "        if features.shape[2] != 29:\n",
        "            print(f'\\n{j} is not in shape of 29, current shape: {features.shape[2]}')\n",
        "            check += 1\n",
        "        max = np.max(features)\n",
        "        min = np.min(features)\n",
        "        if max > 1:\n",
        "            print(f'\\n{j} max is not 1, current max: {max}')\n",
        "            check += 1\n",
        "        if min < -1:\n",
        "            print(f'\\n{j} min is not -1, current min: {min}')\n",
        "            check += 1\n",
        "\n",
        "        if check == 0:\n",
        "            row = (file_path, features, data.iloc[i]['Emotion'])\n",
        "            signals.append(row)\n",
        "        else:\n",
        "            total_data -= 1\n",
        "\n",
        "        j += 1\n",
        "        percent = (len(signals) / total_data) * 100\n",
        "        print(\"\\r Processed {}/{} files. ({}%) \".format(len(signals), total_data, int(percent)), end='')\n"
      ],
      "metadata": {
        "id": "u7GkyWe9B4MU"
      },
      "execution_count": null,
      "outputs": []
    },
    {
      "cell_type": "markdown",
      "source": [
        "## SAVE DATA"
      ],
      "metadata": {
        "id": "4cjP-RpHB56x"
      }
    },
    {
      "cell_type": "code",
      "source": [
        "file_pth = open('/content/dataset.pth', 'wb')\n",
        "pickle.dump(signals, file_pth)"
      ],
      "metadata": {
        "id": "UG_kipMoB8Yh"
      },
      "execution_count": null,
      "outputs": []
    }
  ]
}