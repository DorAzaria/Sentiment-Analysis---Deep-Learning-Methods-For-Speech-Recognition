{
  "cells": [
    {
      "cell_type": "markdown",
      "metadata": {
        "id": "view-in-github",
        "colab_type": "text"
      },
      "source": [
        "<a href=\"https://colab.research.google.com/github/DorAzaria/Voice-Emotion-Recognition/blob/main/train_model.ipynb\" target=\"_parent\"><img src=\"https://colab.research.google.com/assets/colab-badge.svg\" alt=\"Open In Colab\"/></a>"
      ]
    },
    {
      "cell_type": "markdown",
      "source": [
        "# ***A Fine-tuned Wav2Vec2.0 For Speech Emotion Recognition***\n",
        "\n",
        "By Dolev Abuhazira and Dor Azaria."
      ],
      "metadata": {
        "id": "5bXeVn3XzUHM"
      }
    },
    {
      "cell_type": "code",
      "execution_count": 1,
      "metadata": {
        "colab": {
          "base_uri": "https://localhost:8080/"
        },
        "id": "685hzZYY0Oua",
        "outputId": "dac8f130-9f73-44f0-b6b3-f0cfa52efacc"
      },
      "outputs": [
        {
          "output_type": "stream",
          "name": "stdout",
          "text": [
            "Mounted at /content/data/\n"
          ]
        }
      ],
      "source": [
        "from google.colab import drive\n",
        "drive.mount('/content/data/')"
      ]
    },
    {
      "cell_type": "markdown",
      "metadata": {
        "id": "W3h7Ml8w1u_g"
      },
      "source": [
        "#### ***Imports***"
      ]
    },
    {
      "cell_type": "code",
      "execution_count": 9,
      "metadata": {
        "id": "jCj-OhuD1uyS"
      },
      "outputs": [],
      "source": [
        "%%capture\n",
        "\n",
        "import torch\n",
        "import torch.nn as nn\n",
        "import torch.optim as optim\n",
        "from torch.utils.data import TensorDataset, DataLoader\n",
        "import torchaudio\n",
        "from sklearn.model_selection import train_test_split\n",
        "import pickle\n",
        "import pandas as pd\n",
        "import matplotlib.pyplot as plt\n",
        "import numpy as np\n",
        "from numpy import mat\n",
        "np.set_printoptions(suppress=True)\n",
        "\n",
        "\n",
        "device = torch.device('cuda' if torch.cuda.is_available() else 'cpu')\n",
        "classes = {0: 'positive', 1:'neutral', 2:'negative'}\n",
        "bundle = torchaudio.pipelines.WAV2VEC2_ASR_BASE_960H\n",
        "model = bundle.get_model().to(device)"
      ]
    },
    {
      "cell_type": "markdown",
      "metadata": {
        "id": "lS4QYGCi02Y7"
      },
      "source": [
        "### ***Preprocessed Data***\n",
        "---\n",
        "\n",
        "Data class contains the dataset (for each audio file: audio_path, features, label). ``dataset5.pth`` contains extracted features used by Wav2Vec2 pretrained model,  the audio files are from RAVDESS, TESS and URDU datasets. - for more details about the preprocess [click here](https://github.com/DorAzaria/Voice-Emotion-Recognition/blob/main/preprocess.ipynb).\n",
        "\n",
        "\n",
        "***Train-Valid-Test Split***\n",
        "\n",
        "* You need to separate your input data into training, validation, and testing subsets to prevent your model from overfitting and to evaluate your model effectively.\n",
        "\n",
        "* We split ``self.data`` into random 80% train, 10% test and 10% valid subsets using the ``train_test_split``.\n",
        "\n",
        "***DataLoader***\n",
        "\n",
        "Each subset (train, test, valid) will be a ``TensorLoader`` type that represents a Python iterable over a dataset.\n",
        "\n",
        "By using ``TensorLoader`` we can easily:\n",
        "1. Activate an automatic batching method (Using ``batch_size=32``).\n",
        "2. Drop the last incomplete batch, if the dataset size is not divisible by the batch size (Using ``drop_last=True``).\n",
        "3. To have the data reshuffled at every epoch (Using ``shuffle=True``). For Example, you are writing a classifier for 10 different category and see category 1 as first 1000 examples and so on for rest of the category. In such a cases, networks is first overfitting to category 1 and then to other category. Network in such cases, is not able to generalize it’s learning for all the categories."
      ]
    },
    {
      "cell_type": "code",
      "execution_count": 10,
      "metadata": {
        "id": "820sVvYW1E5o"
      },
      "outputs": [],
      "source": [
        "class Data:\n",
        "\n",
        "    def __init__(self):\n",
        "        file_handler = open('/content/data/MyDrive/dl/dataset5.pth', 'rb')\n",
        "        self.data = pickle.load(file_handler)\n",
        "\n",
        "        x_dataset = [embedding[1] for embedding in self.data]\n",
        "        y_dataset = [label[2] for label in self.data]\n",
        "\n",
        "        #[80% train, 10% valid, 10% test]\n",
        "        train_x, rem_x, train_y, rem_y = train_test_split(np.array(x_dataset), np.array(y_dataset), train_size=0.80) \n",
        "        valid_x, test_x, valid_y, test_y = train_test_split(rem_x, rem_y, test_size=0.5)\n",
        "\n",
        "        # Convert numpy to torch.Tensor type\n",
        "        self.train_x = torch.from_numpy(train_x)\n",
        "        self.train_y = torch.from_numpy(train_y)\n",
        "\n",
        "        self.valid_x = torch.from_numpy(valid_x)\n",
        "        self.valid_y = torch.from_numpy(valid_y)\n",
        "\n",
        "        self.test_x = torch.from_numpy(test_x)\n",
        "        self.test_y = torch.from_numpy(test_y)\n",
        "\n",
        "        # Create a DataLoader for each subset (train, valid, test)\n",
        "        torch_train = TensorDataset(self.train_x, self.train_y)\n",
        "        torch_valid = TensorDataset(self.valid_x, self.valid_y)\n",
        "        torch_test = TensorDataset(self.test_x, self.test_y)\n",
        "\n",
        "        self.train_loader = DataLoader(torch_train, batch_size=32, drop_last=True, shuffle=True)\n",
        "        self.valid_loader = DataLoader(torch_valid, batch_size=32, drop_last=True, shuffle=True)\n",
        "        self.test_loader = DataLoader(torch_test, batch_size=32, drop_last=True, shuffle=False)"
      ]
    },
    {
      "cell_type": "markdown",
      "source": [
        "**Plot**\n",
        "\n",
        "Prints the train loss vs. valid loss when an earlystopping occurs."
      ],
      "metadata": {
        "id": "Ad32J_Fi1gK9"
      }
    },
    {
      "cell_type": "code",
      "source": [
        "def plotEarlyStopping(train_loss, valid_loss):\n",
        "  epochs_x_axis = np.linspace(1, len(train_loss), len(train_loss)).astype(int)\n",
        "  plt.plot(epochs_x_axis, train_loss)\n",
        "  plt.plot(epochs_x_axis, valid_loss)\n",
        "  plt.title('Train VS Valid Loss')\n",
        "  plt.ylabel('loss')\n",
        "  plt.xlabel('epoch')\n",
        "  plt.legend(['train loss', 'validation loss'], loc='upper left')\n",
        "  plt.savefig(\"model_plot.png\")"
      ],
      "metadata": {
        "id": "ZxC8IagDCrDZ"
      },
      "execution_count": 11,
      "outputs": []
    },
    {
      "cell_type": "markdown",
      "metadata": {
        "id": "I9NoyVXt2F_6"
      },
      "source": [
        "### ***ConvNet Class Model***\n",
        "---\n",
        "\n",
        "The ``ConvNet`` model is a convolutional neural network. The model subclass ``torch.nn.Module`` which is a base class for all neural network modules.\n",
        "The model architecture using ``BatchNorm2d()``,  ``MaxPool2d()`` , ``ReLU()``and more methods from ``nn.Module``.\n",
        "\n",
        "* ***Epoch*** - The number of epochs is a hyperparameter that defines the number times that the learning algorithm will work through the entire training dataset. One epoch means that each sample in the training dataset has had an opportunity to update the internal model parameters. An epoch is comprised of one or more batches.\n",
        "\n",
        "* ***Batch*** - A training dataset can be divided into one or more batches. It requires less memory. Typically networks train faster with mini-batches, that's because we update the weights after each propagation. But on the other hand, the smaller the batch the less accurate the estimate of the gradient will be.\n",
        "\n",
        "* ***Learning Rate*** - The learning rate is a hyperparameter that controls how much to change the model in response to the estimated error each time the model weights are updated.\n",
        "\n",
        "* ***ReLU*** - Why to use this activition function?\n",
        "  1.  It helps to prevent the exponential growth in the computation required to operate the neural network. If the CNN scales in size, the computational cost of adding extra ReLUs increases linearly.\n",
        "  2.  Unlike the $tanh$ and $sigmoid$ activation functions that learn to approximate a zero output, it's capable of outputting a true zero value. Having a true zero values can speed up learning and simplify the model. \n",
        "  3. It's mostly looks and acts like a linear activation function. Because of this linearity, gradients flow well on the active paths of neurons (there is no gradient vanishing effect due to activation non-linearities of $sigmoid$ or $tanh$ units). \n",
        "\n",
        "The input size of the network is (1, 149, 32)."
      ]
    },
    {
      "cell_type": "code",
      "execution_count": 12,
      "metadata": {
        "id": "56-6NfI62iiW"
      },
      "outputs": [],
      "source": [
        "DROP_OUT = 0.8\n",
        "NUM_OF_CLASSES = 3\n",
        "\n",
        "class ConvNet(nn.Module):\n",
        "\n",
        "    def __init__(self):\n",
        "        super().__init__()\n",
        "\n",
        "        # Hyper parameters\n",
        "        self.epochs = 20\n",
        "        self.batch_size = 32\n",
        "        self.learning_rate = 0.0001\n",
        "\n",
        "        # Model Architecture\n",
        "        self.first_conv = nn.Conv2d(1, 96, kernel_size=(5, 5), padding=1) # (96, 147, 30)\n",
        "        self.first_bn = nn.BatchNorm2d(96)\n",
        "        self.first_polling = nn.MaxPool2d(kernel_size=(3, 3), stride=(2, 2)) # (96, 73, 14)\n",
        "\n",
        "        self.second_conv = nn.Conv2d(96, 256, kernel_size=(5, 5), padding=1) # (256, 71, 12)\n",
        "        self.second_bn = nn.BatchNorm2d(256)\n",
        "        self.second_polling = nn.MaxPool2d(kernel_size=(3, 3), stride=(1, 1)) # (256, 69, 10)\n",
        "\n",
        "        self.third_conv = nn.Conv2d(256, 384, kernel_size=(3, 3), padding=1) # (384, 69, 10 )\n",
        "        self.third_bn = nn.BatchNorm2d(384)\n",
        "\n",
        "        self.forth_conv = nn.Conv2d(384, 256, kernel_size=(3, 3), padding=1) # (256, 69, 10)\n",
        "        self.forth_bn = nn.BatchNorm2d(256)\n",
        "\n",
        "        self.fifth_conv = nn.Conv2d(256, 256, kernel_size=(3, 3), padding=1) # (256, 69, 10)\n",
        "        self.fifth_bn = nn.BatchNorm2d(256)\n",
        "        self.fifth_polling = nn.MaxPool2d(kernel_size=(2, 2), stride=(1, 1)) # (256, 68, 9)\n",
        "\n",
        "        self.sixth_conv = nn.Conv2d(256, 64, kernel_size=(2, 2), padding=1) # (64, 69, 10)\n",
        "        self.sixth_bn = nn.BatchNorm2d(64)\n",
        "\n",
        "        self.seventh_conv = nn.Conv2d(64, 64, kernel_size=(3,3), padding=1) # (64, 69, 10)\n",
        "        self.seventh_bn = nn.BatchNorm2d(64)\n",
        "        self.seventh_polling = nn.MaxPool2d(kernel_size=(2,2), stride=(2, 2)) # (64, 34, 5)\n",
        "\n",
        "        self.eighth_conv = nn.Conv2d(64, 32, kernel_size=(3,3), padding=1) # (32, 34, 5)\n",
        "        self.eighth_bn = nn.BatchNorm2d(32)\n",
        "        self.first_drop = nn.Dropout(p=DROP_OUT)\n",
        "\n",
        "        self.avg_polling = nn.AdaptiveAvgPool2d((1, 1))\n",
        "        self.first_dense = nn.Linear(32, 1024)\n",
        "        self.second_drop = nn.Dropout(p=DROP_OUT)\n",
        "\n",
        "        self.second_dense = nn.Linear(1024, NUM_OF_CLASSES)\n",
        "\n",
        "    def forward(self, X):\n",
        "        x = self.first_conv(X)\n",
        "        x = nn.ReLU()(self.first_bn(x))\n",
        "        x = self.first_polling(x)\n",
        "\n",
        "        x = self.second_conv(x)\n",
        "        x = nn.ReLU()(self.second_bn(x))\n",
        "        x = self.second_polling(x)\n",
        "        \n",
        "        x = self.third_conv(x)\n",
        "        x = nn.ReLU()(self.third_bn(x))\n",
        "\n",
        "        x = self.forth_conv(x)\n",
        "        x = nn.ReLU()(self.forth_bn(x))\n",
        "\n",
        "        x = self.fifth_conv(x)\n",
        "        x = nn.ReLU()(self.fifth_bn(x))\n",
        "        x = self.fifth_polling(x)\n",
        "\n",
        "        x = self.sixth_conv(x)\n",
        "        x = nn.ReLU()(self.sixth_bn(x))\n",
        "\n",
        "        x = self.seventh_conv(x)\n",
        "        x = nn.ReLU()(self.seventh_bn(x))\n",
        "        x = self.seventh_polling(x)\n",
        "\n",
        "        x = self.eighth_conv(x)\n",
        "        x = nn.ReLU()(self.eighth_bn(x))\n",
        "\n",
        "        x = self.first_drop(x)\n",
        "        x = self.avg_polling(x)\n",
        "\n",
        "        x = x.view(-1, x.shape[1])  # output channel for flatten before entering the dense layer\n",
        "\n",
        "        x = nn.ReLU()(self.first_dense(x))\n",
        "        x = self.second_drop(x)\n",
        "\n",
        "        x = self.second_dense(x)\n",
        "        y = nn.LogSoftmax(dim=1)(x)  # torch.Size([32, 3])\n",
        "\n",
        "        return y\n",
        "\n",
        "    def get_epochs(self):\n",
        "        return self.epochs\n",
        "\n",
        "    def get_learning_rate(self):\n",
        "        return self.learning_rate\n",
        "\n",
        "    def get_batch_size(self):\n",
        "        return self.batch_size"
      ]
    },
    {
      "cell_type": "markdown",
      "source": [
        "### ***Validation***\n",
        "---\n",
        "\n",
        "* ``validation()`` gets the model, dataset and the loss function and returns the loss.\n",
        "\n",
        "\n",
        "* The valid dataset is a set of data used to provide an unbiased evaluation of a model fitted on the training dataset while tuning model hyperparameters. It's also play a role in the EarlyStopping technique."
      ],
      "metadata": {
        "id": "tq7sCSuj_I8l"
      }
    },
    {
      "cell_type": "code",
      "source": [
        "def validation(convnet_model, dataset, loss_function):\n",
        "    model.eval()\n",
        "    loss_total = 0\n",
        "\n",
        "    with torch.no_grad():\n",
        "        for embedding, labels in dataset.valid_loader:\n",
        "            embedding = embedding.type(torch.FloatTensor)\n",
        "            labels = labels.type(torch.LongTensor)\n",
        "            labels = labels.to(device)\n",
        "            embedding = embedding.to(device)\n",
        "\n",
        "            outputs = convnet_model(embedding)\n",
        "            loss = loss_function(outputs, labels)\n",
        "            loss_total += loss.item()\n",
        "\n",
        "    return loss_total / len(dataset.valid_loader)"
      ],
      "metadata": {
        "id": "z2IV8w_o_Iu8"
      },
      "execution_count": 13,
      "outputs": []
    },
    {
      "cell_type": "markdown",
      "source": [
        "### ***Train***\n",
        "---\n"
      ],
      "metadata": {
        "id": "Fmjphp7Uc8UM"
      }
    },
    {
      "cell_type": "code",
      "source": [
        "def train_model(convnet_model, dataset):\n",
        "    loss_vals_train = []\n",
        "    loss_valid = []\n",
        "\n",
        "    optimizer = torch.optim.Adam(convnet_model.parameters(), lr=convnet_model.learning_rate, weight_decay=1e-4)\n",
        "    criterion = torch.nn.CrossEntropyLoss(weight=torch.tensor([1.99, 3.0, 1.0])).to(device) # [1184, 688, 2363] --> 4235 examples\n",
        "    \n",
        "    n_total_steps = len(dataset.train_loader)\n",
        "\n",
        "    for epoch in range(convnet_model.get_epochs()):\n",
        "\n",
        "        convnet_model.train()\n",
        "        epoch_acc = []\n",
        "        epoch_loss = []\n",
        "\n",
        "        for i, (embedding, labels) in enumerate(dataset.train_loader):\n",
        "\n",
        "            embedding = embedding.type(torch.FloatTensor)\n",
        "            labels = labels.type(torch.LongTensor)\n",
        "        \n",
        "            labels = labels.to(device)\n",
        "            embedding = embedding.to(device)\n",
        "\n",
        "            # Forward pass\n",
        "            outputs = convnet_model.forward(embedding)\n",
        "            loss = criterion(outputs, labels)\n",
        "\n",
        "            # Backward and optimize\n",
        "            optimizer.zero_grad()\n",
        "            loss.backward()\n",
        "            optimizer.step()\n",
        "\n",
        "            epoch_loss.append(loss.item())\n",
        "            if i == 90:\n",
        "                print(f'Epoch [{epoch + 1}/{convnet_model.epochs}], Loss: {loss.item():.4f}')\n",
        "                \n",
        "        loss_vals_train.append(sum(epoch_loss)/len(epoch_loss))\n",
        "\n",
        "\n",
        "        #### EARLY STOPPING ~~~~~~~~~~~~~~~~~~~\n",
        "        the_last_loss = 100\n",
        "        the_current_loss = validation(convnet_model, dataset, criterion)\n",
        "        loss_valid.append(the_current_loss)\n",
        "\n",
        "        if the_current_loss > loss_vals_train[-1]:\n",
        "            print('Early stopping!')\n",
        "            torch.save(cnn, \"/content/model444.pth\")\n",
        "            plotEarlyStopping(loss_vals_train,loss_valid)\n",
        "            print(f'saved model444.pth')\n",
        "            break\n",
        "\n",
        "        the_last_loss = the_current_loss\n",
        "        ##### ~~~~~~~~~~~~~~~~~~~~~~~~~~~~~~~~\n"
      ],
      "metadata": {
        "id": "PasvGTEAc5AE"
      },
      "execution_count": 14,
      "outputs": []
    },
    {
      "cell_type": "markdown",
      "metadata": {
        "id": "MCDZ2CSE4Mit"
      },
      "source": [
        "***Start Train***\n",
        "\n"
      ]
    },
    {
      "cell_type": "code",
      "execution_count": 22,
      "metadata": {
        "id": "SOYlypNI4RD2",
        "colab": {
          "base_uri": "https://localhost:8080/",
          "height": 451
        },
        "outputId": "1e76a4e4-bcbd-484e-90b9-e72b28ea2216"
      },
      "outputs": [
        {
          "output_type": "stream",
          "name": "stdout",
          "text": [
            "Epoch [1/20], Loss: 1.0848\n",
            "Epoch [2/20], Loss: 1.0739\n",
            "Epoch [3/20], Loss: 0.8078\n",
            "Epoch [4/20], Loss: 0.8914\n",
            "Epoch [5/20], Loss: 0.4611\n",
            "Epoch [6/20], Loss: 0.6037\n",
            "Epoch [7/20], Loss: 0.6918\n",
            "Early stopping!\n",
            "saved model444.pth\n"
          ]
        },
        {
          "output_type": "display_data",
          "data": {
            "text/plain": [
              "<Figure size 432x288 with 1 Axes>"
            ],
            "image/png": "[encoded data removed]"
          },
          "metadata": {
            "needs_background": "light"
          }
        }
      ],
      "source": [
        "dataset = Data()\n",
        "cnn = ConvNet()\n",
        "cnn.to(device)\n",
        "train_model(cnn, dataset)"
      ]
    },
    {
      "cell_type": "markdown",
      "metadata": {
        "id": "fpaZ7PlR3CRK"
      },
      "source": [
        "### ***Test***\n",
        "---\n",
        "\n",
        "* You can’t evaluate the predictive performance of a model with the same data you used for training. It would be best if you evaluated the model with new data that hasn’t been seen by the model before. Randomly splitting the data is the most commonly used method for that unbiased evaluation.\n",
        "\n",
        "* ``torch.max()`` returns a namedtuple (values, indices) where values is the maximum value of each row of the input tensor in the given dimension dim. And indices is the index location of each maximum value found (argmax)."
      ]
    },
    {
      "cell_type": "code",
      "execution_count": 16,
      "metadata": {
        "id": "oO0UNKVK2-3S"
      },
      "outputs": [],
      "source": [
        "def test(convnet_model, dataset):\n",
        "\n",
        "    example_class = [0] * len(dataset.test_y) \n",
        "    text_results = []\n",
        "    acc_classes = [0,0,0]\n",
        "    \n",
        "    with torch.no_grad():\n",
        "        total_correct = 0\n",
        "        example_index = 0\n",
        "        label_correct = [0, 0 , 0]\n",
        "        label_samples = [0, 0 , 0]\n",
        "        \n",
        "        for embedding, labels in dataset.test_loader:\n",
        "            \n",
        "            embedding = embedding.type(torch.FloatTensor)\n",
        "            labels = labels.type(torch.LongTensor)\n",
        "            embedding = embedding.to(device)\n",
        "            labels = labels.to(device)\n",
        "            \n",
        "            outputs = convnet_model(embedding)\n",
        "            _, predicted = torch.max(input= outputs, dim=1)\n",
        "\n",
        "            total_correct += (predicted == labels).sum().item()\n",
        "\n",
        "            for i in range(convnet_model.batch_size):\n",
        "                label = labels[i]\n",
        "                pred = predicted[i]\n",
        "\n",
        "                if label == pred:\n",
        "                    label_correct[label] += 1\n",
        "\n",
        "                label_samples[label] += 1\n",
        "                example_class[example_index] = pred.cpu()\n",
        "                example_index += 1\n",
        "\n",
        "        acc = 100.0 * total_correct / len(dataset.test_y)\n",
        "        text_results.append(f'Accuracy of the network: {acc} %')\n",
        "\n",
        "        for i in range(3):\n",
        "            acc = 100.0 * label_correct[i] / label_samples[i]\n",
        "            text_results.append(f'Accuracy of {classes[i]}: {acc} %')\n",
        "            acc_classes[i] = acc\n",
        "        \n",
        "        return example_class, text_results, acc_classes"
      ]
    },
    {
      "cell_type": "markdown",
      "source": [
        "In case you want to test a trained model:"
      ],
      "metadata": {
        "id": "4AplCpTMY-hi"
      }
    },
    {
      "cell_type": "code",
      "source": [
        "model_import = torch.load(\"/content/data/MyDrive/dl/model208.pth\")"
      ],
      "metadata": {
        "id": "mrUVc4DLlOTz"
      },
      "execution_count": null,
      "outputs": []
    },
    {
      "cell_type": "markdown",
      "metadata": {
        "id": "LTWNPkZ04UCp"
      },
      "source": [
        "***Start Test***\n",
        "\n",
        "\n",
        "Accuracy of the network: 70.4326923076923 %\n",
        "\n",
        "Accuracy of positive: 72.88135593220339 %\n",
        "\n",
        "Accuracy of neutral: 81.48148148148148 %\n",
        "\n",
        "Accuracy of negative: 66.80327868852459 %\n",
        "\n"
      ]
    },
    {
      "cell_type": "code",
      "execution_count": 24,
      "metadata": {
        "colab": {
          "base_uri": "https://localhost:8080/"
        },
        "id": "Md2c1Cu8n2Wv",
        "outputId": "a5ae2eaf-4f59-4cea-ccbc-028d69e28a58"
      },
      "outputs": [
        {
          "output_type": "stream",
          "name": "stdout",
          "text": [
            "Accuracy of the network: 71.4622641509434 %\n",
            "Accuracy of positive: 69.16666666666667 %\n",
            "Accuracy of neutral: 83.82352941176471 %\n",
            "Accuracy of negative: 71.49122807017544 %\n"
          ]
        }
      ],
      "source": [
        "n_class, text_results, acc_classes  = test(cnn, dataset)\n",
        "\n",
        "for text in text_results:\n",
        "  print(text)"
      ]
    },
    {
      "cell_type": "code",
      "source": [
        "from sklearn.metrics import confusion_matrix\n",
        "import matplotlib.pyplot as plt\n",
        "import seaborn as sns\n",
        "arr = confusion_matrix(dataset.test_y.detach().cpu().numpy(), n_class)\n",
        "class_names = ['Positive', 'Neutral ', 'Negative']\n",
        "\n",
        "def confusion_matrix(n_class):\n",
        "    # Display the confusion matrix as a heatmap\n",
        "    df_cm = pd.DataFrame(arr, class_names, class_names)\n",
        "    plt.figure(figsize = (9,6))\n",
        "    sns.heatmap(df_cm, annot=True, fmt=\"d\", cmap='BuGn')\n",
        "    plt.xlabel(\"prediction\")\n",
        "    plt.ylabel(\"label (ground truth)\")\n",
        "    plt.show()\n",
        "\n",
        "def summary(acc_classes):\n",
        "  f1_score = [0,0,0]\n",
        "  accuracy = [0,0,0]\n",
        "  recall = [0,0,0]\n",
        "  precision = [0,0,0]\n",
        "  print(\"Class         Precision      Recall     F1-Score      Accuracy\")\n",
        "  print(\"-----------------------------------------------------------------\")\n",
        "  for i in range (3):\n",
        "    numerator = arr[i][i]\n",
        "    recall_denominator = 0\n",
        "    precision_denominator = 0\n",
        "    for j in range(3):\n",
        "      recall_denominator += arr[i][j]\n",
        "      precision_denominator += arr[j][i]\n",
        "    \n",
        "    recall[i] = round(numerator/recall_denominator,2)\n",
        "    precision[i] = round(numerator/precision_denominator,2)\n",
        "    f1_score[i] = round((2*recall[i]*precision[i])/(recall[i]+precision[i]),2)\n",
        "    print(f'{class_names[i]}    |    {precision[i]}    |    {recall[i]}    |    {f1_score[i]}    |    {round(acc_classes[i],2)}')\n",
        "  print('')"
      ],
      "metadata": {
        "id": "b3Ok6cs_J9K_"
      },
      "execution_count": 25,
      "outputs": []
    },
    {
      "cell_type": "code",
      "source": [
        "summary(acc_classes)\n",
        "confusion_matrix(n_class)"
      ],
      "metadata": {
        "id": "og6LmT5ADq66",
        "outputId": "dd87e68a-4d78-4c70-a14b-07616676f14a",
        "colab": {
          "base_uri": "https://localhost:8080/",
          "height": 492
        }
      },
      "execution_count": 26,
      "outputs": [
        {
          "output_type": "stream",
          "name": "stdout",
          "text": [
            "Class         Precision      Recall     F1-Score      Accuracy\n",
            "-----------------------------------------------------------------\n",
            "Positive    |    0.7    |    0.69    |    0.69    |    69.17\n",
            "Neutral     |    0.5    |    0.84    |    0.63    |    83.82\n",
            "Negative    |    0.86    |    0.69    |    0.77    |    71.49\n",
            "\n"
          ]
        },
        {
          "output_type": "display_data",
          "data": {
            "text/plain": [
              "<Figure size 648x432 with 2 Axes>"
            ],
            "image/png": "[encoded data removed]"
          },
          "metadata": {
            "needs_background": "light"
          }
        }
      ]
    },
    {
      "cell_type": "markdown",
      "metadata": {
        "id": "awUU1AREn3fk"
      },
      "source": [
        "### ***Inference And Normalization***\n",
        "\n",
        "---\n",
        "\n"
      ]
    },
    {
      "cell_type": "code",
      "execution_count": 27,
      "metadata": {
        "id": "sj2SqEan3-Gz"
      },
      "outputs": [],
      "source": [
        "def inference(file_name):\n",
        "    SAMPLE_RATE = 16000\n",
        "    waveform, sample_rate = torchaudio.load(filepath=file_name,  num_frames=SAMPLE_RATE * 3)\n",
        "    # waveform = waveform.view(1, 96000)\n",
        "    waveform = waveform.to(device)\n",
        "    \n",
        "    if (len(waveform[0]) < 48000):\n",
        "        print(f'less than 3 seconds: {file_name}')\n",
        "\n",
        "    if sample_rate != bundle.sample_rate:\n",
        "        waveform = torchaudio.functional.resample(waveform, sample_rate, bundle.sample_rate)\n",
        "\n",
        "    with torch.inference_mode():\n",
        "        embedding, _ = model(waveform)\n",
        "\n",
        "    return embedding.unsqueeze(0)\n",
        "\n",
        "\n",
        "def Norm(X):\n",
        "    embedding = X.detach().cpu().numpy()\n",
        "    for i in range(len(embedding)):\n",
        "        mlist = embedding[0][i]\n",
        "        embedding[0][i] = 2 * (mlist - np.max(mlist)) / (np.max(mlist) - np.min(mlist)) + 1\n",
        "\n",
        "    return torch.from_numpy(embedding).to(device)"
      ]
    },
    {
      "cell_type": "code",
      "source": [
        "def print_results(y):\n",
        "  predict = [np.exp(c) for c in y]\n",
        "  max = np.argmax(predict)\n",
        "  print(f'Predicted: {classes[max].capitalize()}')\n",
        "  print(f'Positive: {round(predict[0][0]*100, 4)}%')\n",
        "  print(f'Neutral: {round(predict[0][1]*100, 4)}%')\n",
        "  print(f'Negative: {round(predict[0][2]*100, 4)}%')"
      ],
      "metadata": {
        "id": "Ph6iOQImBFJF"
      },
      "execution_count": 28,
      "outputs": []
    },
    {
      "cell_type": "markdown",
      "source": [
        "Emotion (01 = neutral, 02 = calm, 03 = happy, 04 = sad, 05 = angry, 06 = fearful, 07 = disgust, 08 = surprised)."
      ],
      "metadata": {
        "id": "n9w_o2lLtPYP"
      }
    },
    {
      "cell_type": "code",
      "execution_count": 40,
      "metadata": {
        "colab": {
          "base_uri": "https://localhost:8080/"
        },
        "id": "oH-sKsHj4ZwS",
        "outputId": "97d7a8be-4edd-4fe7-f33f-b170bab5f77b"
      },
      "outputs": [
        {
          "output_type": "stream",
          "name": "stdout",
          "text": [
            "Predicted: Negative\n",
            "Positive: 39.9621%\n",
            "Neutral: 12.1915%\n",
            "Negative: 47.8464%\n"
          ]
        }
      ],
      "source": [
        "# NEGATIVE TRUTH\n",
        "inf_X = inference('/content/data/MyDrive/dl/ravdess/Actor_01/03-01-05-01-01-02-01.wav')\n",
        "X = Norm(inf_X)\n",
        "y = cnn.forward(X)\n",
        "y = y.cpu().detach().numpy()\n",
        "print_results(y)"
      ]
    }
  ],
  "metadata": {
    "accelerator": "GPU",
    "colab": {
      "machine_shape": "hm",
      "name": "train_model.ipynb",
      "provenance": [],
      "include_colab_link": true
    },
    "kernelspec": {
      "display_name": "Python 3",
      "name": "python3"
    },
    "language_info": {
      "name": "python"
    }
  },
  "nbformat": 4,
  "nbformat_minor": 0
}