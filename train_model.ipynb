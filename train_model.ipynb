{
  "cells": [
    {
      "cell_type": "markdown",
      "metadata": {
        "id": "view-in-github",
        "colab_type": "text"
      },
      "source": [
        "<a href=\"https://colab.research.google.com/github/DorAzaria/Voice-Emotion-Recognition/blob/main/train_model.ipynb\" target=\"_parent\"><img src=\"https://colab.research.google.com/assets/colab-badge.svg\" alt=\"Open In Colab\"/></a>"
      ]
    },
    {
      "cell_type": "code",
      "execution_count": 1,
      "metadata": {
        "colab": {
          "base_uri": "https://localhost:8080/"
        },
        "id": "685hzZYY0Oua",
        "outputId": "21ef7224-34e7-4977-8cc6-8143d76df7c8"
      },
      "outputs": [
        {
          "output_type": "stream",
          "name": "stdout",
          "text": [
            "Mounted at /content/data/\n"
          ]
        }
      ],
      "source": [
        "from google.colab import drive\n",
        "drive.mount('/content/data/')"
      ]
    },
    {
      "cell_type": "markdown",
      "metadata": {
        "id": "W3h7Ml8w1u_g"
      },
      "source": [
        "# **IMPORTS**\n",
        "---"
      ]
    },
    {
      "cell_type": "code",
      "execution_count": 2,
      "metadata": {
        "id": "jCj-OhuD1uyS"
      },
      "outputs": [],
      "source": [
        "%%capture\n",
        "\n",
        "import torch\n",
        "import torch.nn as nn\n",
        "from torch.utils.data import TensorDataset, DataLoader\n",
        "from sklearn.model_selection import train_test_split\n",
        "import pickle\n",
        "import numpy as np\n",
        "import pandas as pd\n",
        "import os\n",
        "import datetime\n",
        "import torchaudio\n",
        "import matplotlib.pyplot as plt\n",
        "from numpy import mat\n",
        "np.set_printoptions(suppress=True)\n",
        "\n",
        "!sudo apt-get install libportaudio2\n",
        "!sudo apt-get install python-scipy\n",
        "\n",
        "!pip install sounddevice\n",
        "!pip install scipy\n",
        "\n",
        "import sounddevice\n",
        "from scipy.io.wavfile import write\n",
        "\n",
        "device = torch.device('cuda' if torch.cuda.is_available() else 'cpu')\n",
        "classes = {0: 'positive', 1:'neutral', 2:'negative'}"
      ]
    },
    {
      "cell_type": "markdown",
      "metadata": {
        "id": "lS4QYGCi02Y7"
      },
      "source": [
        "# **PREPROCESS**\n",
        "\n",
        "---\n",
        "\n"
      ]
    },
    {
      "cell_type": "code",
      "execution_count": 7,
      "metadata": {
        "id": "820sVvYW1E5o"
      },
      "outputs": [],
      "source": [
        "class Data:\n",
        "\n",
        "    def __init__(self):\n",
        "        file_handler = open('/content/data/MyDrive/dl/dataset5.pth', 'rb')\n",
        "        self.data = pickle.load(file_handler)\n",
        "        x_dataset = [embedding[1] for embedding in self.data]\n",
        "        y_dataset = [label[2] for label in self.data]\n",
        "        train_x, test_x, train_y, test_y = train_test_split(np.array(x_dataset), np.array(y_dataset), test_size=0.30)\n",
        "        self.train_x = torch.from_numpy(train_x)\n",
        "        self.train_y = torch.from_numpy(train_y)\n",
        "        torch_train = TensorDataset(self.train_x, self.train_y)\n",
        "        \n",
        "        self.test_x = torch.from_numpy(test_x)\n",
        "        self.test_y = torch.from_numpy(test_y)\n",
        "        torch_test = TensorDataset(self.test_x, self.test_y)\n",
        "        \n",
        "\n",
        "        self.train_loader = DataLoader(torch_train, batch_size=32, drop_last=True, shuffle=True)\n",
        "        self.test_loader = DataLoader(torch_test, batch_size=32, drop_last=True, shuffle=False)"
      ]
    },
    {
      "cell_type": "markdown",
      "source": [
        "**PLOT**"
      ],
      "metadata": {
        "id": "Ad32J_Fi1gK9"
      }
    },
    {
      "cell_type": "code",
      "source": [
        "def my_plot(train_acc, test_acc, train_loss):\n",
        "    epochs_x_axis = np.linspace(1, len(train_acc), len(train_acc)).astype(int)\n",
        "\n",
        "    fig, axes = plt.subplots(nrows=1, ncols=2, figsize=(15, 5))\n",
        "    axes[0].plot(epochs_x_axis, train_acc)\n",
        "    axes[0].plot(epochs_x_axis, test_acc)\n",
        "    axes[0].set_ylabel(\"Accuracy\")\n",
        "    axes[0].set_xlabel(\"epochs\")\n",
        "    axes[0].legend(['train', 'test'])\n",
        "    \n",
        "\n",
        "    axes[1].plot(epochs_x_axis, train_loss)\n",
        "    axes[1].set_ylabel(\"Training loss\")\n",
        "    axes[1].set_xlabel(\"epochs\")\n",
        "    fig.tight_layout()"
      ],
      "metadata": {
        "id": "0bAutrVXMY1o"
      },
      "execution_count": 23,
      "outputs": []
    },
    {
      "cell_type": "markdown",
      "metadata": {
        "id": "I9NoyVXt2F_6"
      },
      "source": [
        "# **Model**\n",
        "\n",
        "1, 149, 32\n",
        "---\n",
        "\n"
      ]
    },
    {
      "cell_type": "code",
      "execution_count": 26,
      "metadata": {
        "id": "56-6NfI62iiW"
      },
      "outputs": [],
      "source": [
        "DROP_OUT = 0.5\n",
        "NUM_OF_CLASSES = 3\n",
        "\n",
        "class ConvNet(nn.Module):\n",
        "\n",
        "    def __init__(self, num_of_classes, dataset):\n",
        "        super().__init__()\n",
        "\n",
        "        # Hyper parameters\n",
        "        self.epochs = 300\n",
        "        self.batch_size = 32\n",
        "        self.learning_rate = 0.0001\n",
        "        self.dataset = dataset\n",
        "\n",
        "        # Model Architecture\n",
        "        self.first_conv = nn.Conv2d(1, 96, kernel_size=(5, 5), padding=1) # (96, 147, 30)\n",
        "        self.first_bn = nn.BatchNorm2d(96)\n",
        "        self.first_polling = nn.MaxPool2d(kernel_size=(3, 3), stride=(2, 2)) # (96, 73, 14)\n",
        "\n",
        "        self.second_conv = nn.Conv2d(96, 256, kernel_size=(5, 5), padding=1) # (256, 71, 12)\n",
        "        self.second_bn = nn.BatchNorm2d(256)\n",
        "        self.second_polling = nn.MaxPool2d(kernel_size=(3, 3), stride=(1, 1)) # (256, 69, 10)\n",
        "\n",
        "        self.third_conv = nn.Conv2d(256, 384, kernel_size=(3, 3), padding=1) # (384, 69, 10 )\n",
        "        self.third_bn = nn.BatchNorm2d(384)\n",
        "\n",
        "        self.forth_conv = nn.Conv2d(384, 256, kernel_size=(3, 3), padding=1) # (256, 69, 10)\n",
        "        self.forth_bn = nn.BatchNorm2d(256)\n",
        "\n",
        "        self.fifth_conv = nn.Conv2d(256, 256, kernel_size=(3, 3), padding=1) # (256, 69, 10)\n",
        "        self.fifth_bn = nn.BatchNorm2d(256)\n",
        "        self.fifth_polling = nn.MaxPool2d(kernel_size=(2, 2), stride=(1, 1)) # (256, 68, 9)\n",
        "\n",
        "        self.sixth_conv = nn.Conv2d(256, 64, kernel_size=(2, 2), padding=1) # (64, 69, 10)\n",
        "\n",
        "        self.seventh_conv = nn.Conv2d(64, 64, kernel_size=(3,3), padding=1) # (64, 69, 10)\n",
        "        self.seventh_polling = nn.MaxPool2d(kernel_size=(2,2), stride=(2, 2)) # (64, 34, 5)\n",
        "\n",
        "        self.eighth_conv = nn.Conv2d(64, 32, kernel_size=(3,3), padding=1) # (32, 34, 5)\n",
        "        self.first_drop = nn.Dropout(p=DROP_OUT)\n",
        "\n",
        "        self.avg_polling = nn.AdaptiveAvgPool2d((1, 1))\n",
        "        self.first_dense = nn.Linear(32, 1024)\n",
        "        self.second_drop = nn.Dropout(p=DROP_OUT)\n",
        "\n",
        "        self.second_dense = nn.Linear(1024, num_of_classes)\n",
        "\n",
        "    def forward(self, X):\n",
        "        x = nn.ReLU()(self.first_conv(X))\n",
        "        x = self.first_bn(x)\n",
        "        x = self.first_polling(x)\n",
        "\n",
        "        x = nn.ReLU()(self.second_conv(x))\n",
        "        x = self.second_bn(x)\n",
        "        x = self.second_polling(x)\n",
        "\n",
        "        x = nn.ReLU()(self.third_conv(x))\n",
        "        x = self.third_bn(x)\n",
        "\n",
        "        x = nn.ReLU()(self.forth_conv(x))\n",
        "        x = self.forth_bn(x)\n",
        "\n",
        "        x = nn.ReLU()(self.fifth_conv(x))\n",
        "        x = self.fifth_bn(x)\n",
        "        x = self.fifth_polling(x)\n",
        "\n",
        "        x = nn.ReLU()(self.sixth_conv(x))\n",
        "\n",
        "        x = nn.ReLU()(self.seventh_conv(x))\n",
        "        x = self.seventh_polling(x)\n",
        "\n",
        "        x = nn.ReLU()(self.eighth_conv(x))\n",
        "\n",
        "        x = self.first_drop(x)\n",
        "        x = self.avg_polling(x)\n",
        "\n",
        "        x = x.view(-1, x.shape[1])  # output channel for flatten before entering the dense layer\n",
        "\n",
        "        x = nn.ReLU()(self.first_dense(x))\n",
        "        x = self.second_drop(x)\n",
        "\n",
        "        x = self.second_dense(x)\n",
        "        y = nn.LogSoftmax(dim=1)(x)  # consider using Log-Softmax\n",
        "\n",
        "        return y\n",
        "\n",
        "    def get_epochs(self):\n",
        "        return self.epochs\n",
        "\n",
        "    def get_learning_rate(self):\n",
        "        return self.learning_rate\n",
        "\n",
        "    def get_batch_size(self):\n",
        "        return self.batch_size"
      ]
    },
    {
      "cell_type": "code",
      "source": [
        "def accuracy(predictions, labels):\n",
        "    classes = torch.argmax(predictions, dim=1)\n",
        "    return torch.mean((classes == labels).float()).to('cpu')"
      ],
      "metadata": {
        "id": "jQ36CsINjRlf"
      },
      "execution_count": 27,
      "outputs": []
    },
    {
      "cell_type": "markdown",
      "metadata": {
        "id": "fpaZ7PlR3CRK"
      },
      "source": [
        "# **TEST**\n",
        "\n",
        "---\n",
        "\n"
      ]
    },
    {
      "cell_type": "code",
      "execution_count": 28,
      "metadata": {
        "id": "oO0UNKVK2-3S"
      },
      "outputs": [],
      "source": [
        "def test(convnet_model):\n",
        "    results = []\n",
        "    test_batch_acc = []\n",
        "\n",
        "    with torch.no_grad():\n",
        "        n_correct = 0\n",
        "        n_samples = 0\n",
        "        n_class_correct = [0 for i in range(3)]\n",
        "        n_class_samples = [0 for i in range(3)]\n",
        "        \n",
        "        n_class = [0 for i in range(len(convnet_model.dataset.test_y))]\n",
        "        j = 0\n",
        "        \n",
        "        for embedding, labels in convnet_model.dataset.test_loader:\n",
        "            \n",
        "            embedding = embedding.type(torch.FloatTensor)\n",
        "            labels = labels.type(torch.LongTensor)\n",
        "            labels = labels.to(device)\n",
        "            embedding = embedding.to(device)\n",
        "            outputs = convnet_model(embedding)\n",
        "\n",
        "            # max returns (value ,index)\n",
        "            _, predicted = torch.max(outputs, 1)\n",
        "            n_samples += labels.size(0)\n",
        "            n_correct += (predicted == labels).sum().item()\n",
        "\n",
        "            test_batch_acc.append(accuracy(outputs, labels))\n",
        "\n",
        "            for i in range(convnet_model.batch_size):\n",
        "                label = labels[i]\n",
        "                pred = predicted[i]\n",
        "                if label == pred:\n",
        "                    n_class_correct[label] += 1\n",
        "                n_class_samples[label] += 1\n",
        "                n_class[j] = pred.view(-1).detach().cpu().numpy()[0]\n",
        "                j += 1\n",
        "        returned_acc = sum(test_batch_acc)/len(test_batch_acc)\n",
        "\n",
        "        acc = 100.0 * n_correct / n_samples\n",
        "        results.append(f'Accuracy of the network: {acc} %')\n",
        "\n",
        "        for i in range(3):\n",
        "            acc = 100.0 * n_class_correct[i] / n_class_samples[i]\n",
        "            results.append(f'Accuracy of {classes[i]}: {acc} %')\n",
        "        \n",
        "        return n_class, results, returned_acc"
      ]
    },
    {
      "cell_type": "markdown",
      "source": [
        "# **Train**\n",
        "---\n"
      ],
      "metadata": {
        "id": "Fmjphp7Uc8UM"
      }
    },
    {
      "cell_type": "code",
      "source": [
        "def train_model(convnet_model):\n",
        "    acc_vals_train = []\n",
        "    loss_vals_train = []\n",
        "    acc_vals_test = []\n",
        "    optimizer = torch.optim.Adam(convnet_model.parameters(), lr=convnet_model.learning_rate, weight_decay=1e-4)\n",
        "    # [3304, 2895, 9004] --> 15k examples\n",
        "    # [1184, 688, 2363] --> 4235 examples\n",
        "    # criterion = torch.nn.CrossEntropyLoss(weight=torch.tensor([2.72518159806, 3.11018998273, 1])).to(device)\n",
        "    criterion = torch.nn.CrossEntropyLoss(weight=torch.tensor([1.99, 5.43, 1])).to(device)\n",
        "\n",
        "    n_total_steps = len(convnet_model.dataset.train_loader)\n",
        "\n",
        "    for epoch in range(convnet_model.get_epochs()):\n",
        "        epoch_acc = []\n",
        "        epoch_loss = []\n",
        "        for i, (embedding, labels) in enumerate(convnet_model.dataset.train_loader):\n",
        "\n",
        "            embedding = embedding.type(torch.FloatTensor)\n",
        "            labels = labels.type(torch.LongTensor)\n",
        "        \n",
        "            labels = labels.to(device)\n",
        "            embedding = embedding.to(device)\n",
        "\n",
        "            # Forward pass\n",
        "            outputs = convnet_model.forward(embedding)\n",
        "            loss = criterion(outputs, labels)\n",
        "\n",
        "            # Backward and optimize\n",
        "            optimizer.zero_grad()\n",
        "            loss.backward()\n",
        "            optimizer.step()\n",
        "            epoch_acc.append(accuracy(outputs, labels))\n",
        "            epoch_loss.append(loss.item())\n",
        "            if i == 90:\n",
        "                print(f'Epoch [{epoch + 1}/{convnet_model.epochs}], Loss: {loss.item():.4f}')\n",
        "                \n",
        "        acc_vals_train.append(sum(epoch_acc)/len(epoch_acc))\n",
        "        loss_vals_train.append(sum(epoch_loss)/len(epoch_loss))\n",
        "        \n",
        "        _ , _, test_acc = test(convnet_model)\n",
        "        acc_vals_test.append(test_acc)\n",
        "    \n",
        "    my_plot(acc_vals_train, acc_vals_test, loss_vals_train)"
      ],
      "metadata": {
        "id": "PasvGTEAc5AE"
      },
      "execution_count": 29,
      "outputs": []
    },
    {
      "cell_type": "markdown",
      "metadata": {
        "id": "FbdGGMiq35tS"
      },
      "source": [
        "# **Main**\n",
        "\n",
        "---\n"
      ]
    },
    {
      "cell_type": "markdown",
      "metadata": {
        "id": "McQMhz2iXxNQ"
      },
      "source": [
        "## NORM AND INFERENCE"
      ]
    },
    {
      "cell_type": "code",
      "execution_count": 30,
      "metadata": {
        "id": "sj2SqEan3-Gz",
        "colab": {
          "base_uri": "https://localhost:8080/",
          "height": 86,
          "referenced_widgets": [
            "7cad4ba87d3c4599b0351f5ad3d688c2",
            "d2af527bb6d84af98e320e1f7fab304b",
            "0507911ef2c8410f9ca6a2378ad92095",
            "08f5b0386d564bc9b6115693db3fb278",
            "2775dfa719a94a96b93ef6c0853efe59",
            "b1e231c298074cb192f23c6baa2c8999",
            "05e1a0f018e7491d801f90c7e5382aa1",
            "2b064cd5f76a4b7cb274d84e438635ae",
            "555d0594fdcc4876bb35e54a4a5693a4",
            "41845116e7fe47caa9333c5496b21e00",
            "6a808f8eef63448da9a892917b160f3c"
          ]
        },
        "outputId": "cf1593df-e337-45fa-8029-d5de0096e304"
      },
      "outputs": [
        {
          "output_type": "stream",
          "name": "stderr",
          "text": [
            "Downloading: \"https://download.pytorch.org/torchaudio/models/wav2vec2_fairseq_base_ls960_asr_ls960.pth\" to /root/.cache/torch/hub/checkpoints/wav2vec2_fairseq_base_ls960_asr_ls960.pth\n"
          ]
        },
        {
          "output_type": "display_data",
          "data": {
            "text/plain": [
              "  0%|          | 0.00/360M [00:00<?, ?B/s]"
            ],
            "application/vnd.jupyter.widget-view+json": {
              "version_major": 2,
              "version_minor": 0,
              "model_id": "7cad4ba87d3c4599b0351f5ad3d688c2"
            }
          },
          "metadata": {}
        }
      ],
      "source": [
        "bundle = torchaudio.pipelines.WAV2VEC2_ASR_BASE_960H\n",
        "model = bundle.get_model().to(device)\n",
        "\n",
        "\n",
        "def inference(file_name):\n",
        "    SAMPLE_RATE = 16000\n",
        "    waveform, sample_rate = torchaudio.load(filepath=file_name,  num_frames=SAMPLE_RATE * 3)\n",
        "    waveform = waveform.view(1, 96000)\n",
        "    waveform = waveform.to(device)\n",
        "    \n",
        "    if (len(waveform[0]) < 48000):\n",
        "        print(f'less than 3 seconds: {file_name}')\n",
        "\n",
        "    if sample_rate != bundle.sample_rate:\n",
        "        waveform = torchaudio.functional.resample(waveform, sample_rate, bundle.sample_rate)\n",
        "\n",
        "    with torch.inference_mode():\n",
        "        embedding, _ = model(waveform)\n",
        "\n",
        "    return embedding.unsqueeze(0)\n",
        "\n",
        "\n",
        "def Norm(X):\n",
        "    embedding = X.detach().cpu().numpy()\n",
        "    for i in range(len(embedding)):\n",
        "        mlist = embedding[0][i]\n",
        "        embedding[0][i] = 2 * (mlist - np.max(mlist)) / (np.max(mlist) - np.min(mlist)) + 1\n",
        "\n",
        "    return torch.from_numpy(embedding).to(device)"
      ]
    },
    {
      "cell_type": "markdown",
      "metadata": {
        "id": "MCDZ2CSE4Mit"
      },
      "source": [
        "## START TRAIN\n",
        "\n",
        "---\n",
        "\n"
      ]
    },
    {
      "cell_type": "code",
      "execution_count": 31,
      "metadata": {
        "id": "SOYlypNI4RD2",
        "outputId": "789a5535-5f89-4421-ed65-8aca0659c039",
        "colab": {
          "base_uri": "https://localhost:8080/",
          "height": 1000
        }
      },
      "outputs": [
        {
          "output_type": "stream",
          "name": "stdout",
          "text": [
            "Epoch [1/300], Loss: 1.1037\n",
            "Epoch [2/300], Loss: 0.7082\n",
            "Epoch [3/300], Loss: 0.7328\n",
            "Epoch [4/300], Loss: 0.4830\n",
            "Epoch [5/300], Loss: 0.4183\n",
            "Epoch [6/300], Loss: 0.5150\n",
            "Epoch [7/300], Loss: 0.4161\n",
            "Epoch [8/300], Loss: 0.4314\n",
            "Epoch [9/300], Loss: 0.2902\n",
            "Epoch [10/300], Loss: 0.5277\n",
            "Epoch [11/300], Loss: 0.3478\n",
            "Epoch [12/300], Loss: 0.3521\n",
            "Epoch [13/300], Loss: 0.5303\n",
            "Epoch [14/300], Loss: 0.3406\n",
            "Epoch [15/300], Loss: 0.2716\n",
            "Epoch [16/300], Loss: 0.4026\n",
            "Epoch [17/300], Loss: 0.4495\n",
            "Epoch [18/300], Loss: 0.4241\n",
            "Epoch [19/300], Loss: 0.3761\n",
            "Epoch [20/300], Loss: 0.3345\n",
            "Epoch [21/300], Loss: 0.2539\n",
            "Epoch [22/300], Loss: 0.3367\n",
            "Epoch [23/300], Loss: 0.4241\n",
            "Epoch [24/300], Loss: 0.5249\n",
            "Epoch [25/300], Loss: 0.4104\n",
            "Epoch [26/300], Loss: 0.2711\n",
            "Epoch [27/300], Loss: 0.2973\n",
            "Epoch [28/300], Loss: 0.5033\n",
            "Epoch [29/300], Loss: 0.3416\n",
            "Epoch [30/300], Loss: 0.3937\n",
            "Epoch [31/300], Loss: 0.4853\n",
            "Epoch [32/300], Loss: 0.3095\n",
            "Epoch [33/300], Loss: 0.3396\n",
            "Epoch [34/300], Loss: 0.7284\n",
            "Epoch [35/300], Loss: 0.5918\n",
            "Epoch [36/300], Loss: 0.3511\n",
            "Epoch [37/300], Loss: 0.2118\n",
            "Epoch [38/300], Loss: 0.3012\n",
            "Epoch [39/300], Loss: 0.2748\n",
            "Epoch [40/300], Loss: 0.3919\n",
            "Epoch [41/300], Loss: 0.3703\n",
            "Epoch [42/300], Loss: 0.3253\n",
            "Epoch [43/300], Loss: 0.3821\n",
            "Epoch [44/300], Loss: 0.4178\n",
            "Epoch [45/300], Loss: 0.3643\n",
            "Epoch [46/300], Loss: 0.2598\n",
            "Epoch [47/300], Loss: 0.5434\n",
            "Epoch [48/300], Loss: 0.3533\n",
            "Epoch [49/300], Loss: 0.3452\n",
            "Epoch [50/300], Loss: 0.3384\n",
            "Epoch [51/300], Loss: 0.5648\n",
            "Epoch [52/300], Loss: 0.2359\n",
            "Epoch [53/300], Loss: 0.5463\n",
            "Epoch [54/300], Loss: 0.2547\n",
            "Epoch [55/300], Loss: 0.3009\n",
            "Epoch [56/300], Loss: 0.2394\n",
            "Epoch [57/300], Loss: 0.4342\n",
            "Epoch [58/300], Loss: 0.3395\n",
            "Epoch [59/300], Loss: 0.4779\n",
            "Epoch [60/300], Loss: 0.1810\n",
            "Epoch [61/300], Loss: 0.3032\n",
            "Epoch [62/300], Loss: 0.4129\n",
            "Epoch [63/300], Loss: 0.3544\n",
            "Epoch [64/300], Loss: 0.4130\n",
            "Epoch [65/300], Loss: 0.2011\n",
            "Epoch [66/300], Loss: 0.4211\n",
            "Epoch [67/300], Loss: 0.3212\n",
            "Epoch [68/300], Loss: 0.2478\n",
            "Epoch [69/300], Loss: 0.2945\n",
            "Epoch [70/300], Loss: 0.2554\n",
            "Epoch [71/300], Loss: 0.2226\n",
            "Epoch [72/300], Loss: 0.2240\n",
            "Epoch [73/300], Loss: 0.3054\n",
            "Epoch [74/300], Loss: 0.1592\n",
            "Epoch [75/300], Loss: 0.1530\n",
            "Epoch [76/300], Loss: 0.4525\n",
            "Epoch [77/300], Loss: 0.2924\n",
            "Epoch [78/300], Loss: 0.1660\n",
            "Epoch [79/300], Loss: 0.1712\n",
            "Epoch [80/300], Loss: 0.1443\n",
            "Epoch [81/300], Loss: 0.1309\n",
            "Epoch [82/300], Loss: 0.2739\n",
            "Epoch [83/300], Loss: 0.2941\n",
            "Epoch [84/300], Loss: 0.2064\n",
            "Epoch [86/300], Loss: 0.2619\n",
            "Epoch [87/300], Loss: 0.3922\n",
            "Epoch [88/300], Loss: 0.3595\n",
            "Epoch [89/300], Loss: 0.3486\n",
            "Epoch [90/300], Loss: 0.1320\n",
            "Epoch [91/300], Loss: 0.5160\n",
            "Epoch [92/300], Loss: 0.0839\n",
            "Epoch [93/300], Loss: 0.1716\n",
            "Epoch [94/300], Loss: 0.5066\n",
            "Epoch [95/300], Loss: 0.2147\n",
            "Epoch [96/300], Loss: 0.1393\n",
            "Epoch [97/300], Loss: 0.1542\n",
            "Epoch [98/300], Loss: 0.2745\n",
            "Epoch [99/300], Loss: 0.3733\n",
            "Epoch [100/300], Loss: 0.2233\n",
            "Epoch [101/300], Loss: 0.1950\n",
            "Epoch [102/300], Loss: 0.2264\n",
            "Epoch [103/300], Loss: 0.1726\n",
            "Epoch [104/300], Loss: 0.3255\n",
            "Epoch [105/300], Loss: 0.1210\n",
            "Epoch [106/300], Loss: 0.4530\n",
            "Epoch [107/300], Loss: 0.2131\n",
            "Epoch [108/300], Loss: 0.6181\n",
            "Epoch [109/300], Loss: 0.1689\n",
            "Epoch [110/300], Loss: 0.2048\n",
            "Epoch [111/300], Loss: 0.4489\n",
            "Epoch [112/300], Loss: 0.1950\n",
            "Epoch [113/300], Loss: 0.1638\n",
            "Epoch [114/300], Loss: 0.1889\n",
            "Epoch [115/300], Loss: 0.1802\n",
            "Epoch [116/300], Loss: 0.0431\n",
            "Epoch [117/300], Loss: 0.3548\n",
            "Epoch [118/300], Loss: 0.2702\n",
            "Epoch [119/300], Loss: 0.2320\n",
            "Epoch [120/300], Loss: 0.1935\n",
            "Epoch [121/300], Loss: 0.2937\n",
            "Epoch [122/300], Loss: 0.2805\n",
            "Epoch [123/300], Loss: 0.2215\n",
            "Epoch [124/300], Loss: 0.1388\n",
            "Epoch [125/300], Loss: 0.2223\n",
            "Epoch [126/300], Loss: 0.2436\n",
            "Epoch [127/300], Loss: 0.2578\n",
            "Epoch [128/300], Loss: 0.1932\n",
            "Epoch [129/300], Loss: 0.2050\n",
            "Epoch [130/300], Loss: 0.6245\n",
            "Epoch [131/300], Loss: 0.4287\n",
            "Epoch [132/300], Loss: 0.1550\n",
            "Epoch [133/300], Loss: 0.1141\n",
            "Epoch [134/300], Loss: 0.2180\n",
            "Epoch [135/300], Loss: 0.1615\n",
            "Epoch [136/300], Loss: 0.1474\n",
            "Epoch [137/300], Loss: 0.1833\n",
            "Epoch [138/300], Loss: 0.2077\n",
            "Epoch [139/300], Loss: 1.4488\n",
            "Epoch [140/300], Loss: 0.0465\n",
            "Epoch [141/300], Loss: 0.0968\n",
            "Epoch [142/300], Loss: 0.1011\n",
            "Epoch [143/300], Loss: 0.1337\n",
            "Epoch [144/300], Loss: 0.2436\n",
            "Epoch [145/300], Loss: 0.1245\n",
            "Epoch [146/300], Loss: 0.1679\n",
            "Epoch [147/300], Loss: 0.2103\n",
            "Epoch [148/300], Loss: 0.1615\n",
            "Epoch [149/300], Loss: 0.1220\n",
            "Epoch [150/300], Loss: 0.0572\n",
            "Epoch [151/300], Loss: 0.2025\n",
            "Epoch [152/300], Loss: 0.1649\n",
            "Epoch [153/300], Loss: 0.4539\n",
            "Epoch [154/300], Loss: 0.1092\n",
            "Epoch [155/300], Loss: 0.2215\n",
            "Epoch [156/300], Loss: 0.1365\n",
            "Epoch [157/300], Loss: 0.1086\n",
            "Epoch [158/300], Loss: 0.1055\n",
            "Epoch [159/300], Loss: 0.1730\n",
            "Epoch [160/300], Loss: 0.2173\n",
            "Epoch [161/300], Loss: 0.0752\n",
            "Epoch [162/300], Loss: 0.1469\n",
            "Epoch [163/300], Loss: 0.0661\n",
            "Epoch [164/300], Loss: 0.3102\n",
            "Epoch [165/300], Loss: 0.0875\n",
            "Epoch [166/300], Loss: 0.0558\n",
            "Epoch [167/300], Loss: 0.1971\n",
            "Epoch [168/300], Loss: 0.2664\n",
            "Epoch [169/300], Loss: 0.1704\n",
            "Epoch [170/300], Loss: 0.0200\n",
            "Epoch [171/300], Loss: 0.1617\n",
            "Epoch [172/300], Loss: 0.0511\n",
            "Epoch [173/300], Loss: 0.0455\n",
            "Epoch [174/300], Loss: 0.0403\n",
            "Epoch [175/300], Loss: 0.2165\n",
            "Epoch [176/300], Loss: 0.3326\n",
            "Epoch [177/300], Loss: 0.0670\n",
            "Epoch [178/300], Loss: 0.1536\n",
            "Epoch [179/300], Loss: 0.0952\n",
            "Epoch [180/300], Loss: 0.1911\n",
            "Epoch [181/300], Loss: 0.0652\n",
            "Epoch [182/300], Loss: 0.1068\n",
            "Epoch [183/300], Loss: 0.1152\n",
            "Epoch [184/300], Loss: 0.0998\n",
            "Epoch [185/300], Loss: 0.2690\n",
            "Epoch [186/300], Loss: 0.0964\n",
            "Epoch [187/300], Loss: 0.1362\n",
            "Epoch [188/300], Loss: 0.0343\n",
            "Epoch [189/300], Loss: 0.0671\n",
            "Epoch [190/300], Loss: 0.1286\n",
            "Epoch [191/300], Loss: 0.0713\n",
            "Epoch [192/300], Loss: 0.1209\n",
            "Epoch [193/300], Loss: 0.1667\n",
            "Epoch [194/300], Loss: 0.3125\n",
            "Epoch [195/300], Loss: 0.0640\n",
            "Epoch [196/300], Loss: 0.1479\n",
            "Epoch [197/300], Loss: 0.1503\n",
            "Epoch [198/300], Loss: 0.0955\n",
            "Epoch [199/300], Loss: 0.0409\n",
            "Epoch [200/300], Loss: 0.0057\n",
            "Epoch [201/300], Loss: 0.0860\n",
            "Epoch [202/300], Loss: 0.0687\n",
            "Epoch [203/300], Loss: 0.1866\n",
            "Epoch [204/300], Loss: 0.0213\n",
            "Epoch [205/300], Loss: 0.2623\n",
            "Epoch [206/300], Loss: 0.0323\n",
            "Epoch [207/300], Loss: 0.0546\n",
            "Epoch [208/300], Loss: 0.1032\n",
            "Epoch [209/300], Loss: 0.0422\n",
            "Epoch [210/300], Loss: 0.1058\n",
            "Epoch [211/300], Loss: 0.0290\n",
            "Epoch [212/300], Loss: 0.1004\n",
            "Epoch [213/300], Loss: 0.0303\n",
            "Epoch [214/300], Loss: 0.1260\n",
            "Epoch [215/300], Loss: 0.1762\n",
            "Epoch [216/300], Loss: 0.0511\n",
            "Epoch [217/300], Loss: 0.0336\n",
            "Epoch [218/300], Loss: 0.1224\n",
            "Epoch [219/300], Loss: 0.1179\n",
            "Epoch [220/300], Loss: 0.0956\n",
            "Epoch [221/300], Loss: 0.1357\n",
            "Epoch [222/300], Loss: 0.1495\n",
            "Epoch [223/300], Loss: 0.1477\n",
            "Epoch [224/300], Loss: 0.0551\n",
            "Epoch [225/300], Loss: 0.0299\n",
            "Epoch [226/300], Loss: 0.2766\n",
            "Epoch [227/300], Loss: 0.0294\n",
            "Epoch [228/300], Loss: 0.0936\n",
            "Epoch [229/300], Loss: 0.0705\n",
            "Epoch [230/300], Loss: 0.0737\n",
            "Epoch [231/300], Loss: 0.0329\n",
            "Epoch [232/300], Loss: 0.0128\n",
            "Epoch [233/300], Loss: 0.1323\n",
            "Epoch [234/300], Loss: 0.0318\n",
            "Epoch [235/300], Loss: 0.0341\n",
            "Epoch [236/300], Loss: 0.1149\n",
            "Epoch [237/300], Loss: 0.0368\n",
            "Epoch [238/300], Loss: 0.1162\n",
            "Epoch [239/300], Loss: 0.0590\n",
            "Epoch [240/300], Loss: 0.0189\n",
            "Epoch [241/300], Loss: 0.0194\n",
            "Epoch [242/300], Loss: 0.0586\n",
            "Epoch [243/300], Loss: 0.0235\n",
            "Epoch [244/300], Loss: 0.0841\n",
            "Epoch [245/300], Loss: 0.0913\n",
            "Epoch [246/300], Loss: 0.0324\n",
            "Epoch [247/300], Loss: 0.0768\n",
            "Epoch [248/300], Loss: 0.2552\n",
            "Epoch [249/300], Loss: 0.0708\n",
            "Epoch [250/300], Loss: 0.1898\n",
            "Epoch [251/300], Loss: 0.0156\n",
            "Epoch [252/300], Loss: 0.0610\n",
            "Epoch [253/300], Loss: 0.0175\n",
            "Epoch [254/300], Loss: 0.0016\n",
            "Epoch [255/300], Loss: 0.0399\n",
            "Epoch [256/300], Loss: 0.0144\n",
            "Epoch [257/300], Loss: 0.0624\n",
            "Epoch [258/300], Loss: 0.0754\n",
            "Epoch [259/300], Loss: 0.0780\n",
            "Epoch [260/300], Loss: 0.1103\n",
            "Epoch [261/300], Loss: 0.0074\n",
            "Epoch [262/300], Loss: 0.0242\n",
            "Epoch [263/300], Loss: 0.0051\n",
            "Epoch [264/300], Loss: 0.0275\n",
            "Epoch [265/300], Loss: 0.0014\n",
            "Epoch [266/300], Loss: 0.0504\n",
            "Epoch [267/300], Loss: 0.0339\n",
            "Epoch [268/300], Loss: 0.0832\n",
            "Epoch [269/300], Loss: 0.0403\n",
            "Epoch [270/300], Loss: 0.1362\n",
            "Epoch [271/300], Loss: 0.0044\n",
            "Epoch [272/300], Loss: 0.0266\n",
            "Epoch [273/300], Loss: 0.0876\n",
            "Epoch [274/300], Loss: 0.1645\n",
            "Epoch [275/300], Loss: 0.0176\n",
            "Epoch [276/300], Loss: 0.0012\n",
            "Epoch [277/300], Loss: 0.0006\n",
            "Epoch [278/300], Loss: 0.0120\n",
            "Epoch [279/300], Loss: 0.0697\n",
            "Epoch [280/300], Loss: 0.1325\n",
            "Epoch [281/300], Loss: 0.0339\n",
            "Epoch [282/300], Loss: 0.0271\n",
            "Epoch [283/300], Loss: 0.1536\n",
            "Epoch [284/300], Loss: 0.0262\n",
            "Epoch [285/300], Loss: 0.0395\n",
            "Epoch [286/300], Loss: 0.0254\n",
            "Epoch [287/300], Loss: 0.0064\n",
            "Epoch [288/300], Loss: 0.0031\n",
            "Epoch [289/300], Loss: 0.1389\n",
            "Epoch [290/300], Loss: 0.0508\n",
            "Epoch [291/300], Loss: 0.0203\n",
            "Epoch [292/300], Loss: 0.0019\n",
            "Epoch [293/300], Loss: 0.0328\n",
            "Epoch [294/300], Loss: 0.0992\n",
            "Epoch [295/300], Loss: 0.0506\n",
            "Epoch [296/300], Loss: 0.2439\n",
            "Epoch [297/300], Loss: 0.1274\n",
            "Epoch [298/300], Loss: 0.0196\n",
            "Epoch [299/300], Loss: 0.0542\n"
          ]
        },
        {
          "output_type": "display_data",
          "data": {
            "text/plain": [
              "<Figure size 1080x360 with 2 Axes>"
            ],
            "image/png": "[encoded data removed]"
          },
          "metadata": {
            "needs_background": "light"
          }
        }
      ],
      "source": [
        "aer_dataset = Data()\n",
        "cnn = ConvNet(3, aer_dataset)\n",
        "cnn.to(device)\n",
        "train_model(cnn)"
      ]
    },
    {
      "cell_type": "code",
      "source": [
        "torch.save(cnn, \"/content/data/MyDrive/dl/modelStam.pth\")"
      ],
      "metadata": {
        "id": "JEZvqhOZbHFl"
      },
      "execution_count": null,
      "outputs": []
    },
    {
      "cell_type": "markdown",
      "metadata": {
        "id": "LTWNPkZ04UCp"
      },
      "source": [
        "## START TEST\n",
        "\n",
        "\n",
        "Accuracy of the network: 76.20192307692308 %\n",
        "\n",
        "Accuracy of positive: 65.60693641618496 %\n",
        "\n",
        "Accuracy of neutral: 71.14427860696517 %\n",
        "\n",
        "Accuracy of negative: 82.88159771754636 %\n",
        "\n",
        "---\n",
        "\n"
      ]
    },
    {
      "cell_type": "code",
      "execution_count": 32,
      "metadata": {
        "colab": {
          "base_uri": "https://localhost:8080/"
        },
        "id": "Md2c1Cu8n2Wv",
        "outputId": "3b55c737-c91c-4a83-bd08-1208bd2748df"
      },
      "outputs": [
        {
          "output_type": "stream",
          "name": "stdout",
          "text": [
            "Accuracy of the network: 74.35897435897436 %\n",
            "Accuracy of positive: 70.14084507042253 %\n",
            "Accuracy of neutral: 70.10309278350516 %\n",
            "Accuracy of negative: 77.6824034334764 %\n"
          ]
        }
      ],
      "source": [
        "n_class, results,  _ = test(cnn)\n",
        "\n",
        "for text in results:\n",
        "  print(text)"
      ]
    },
    {
      "cell_type": "code",
      "source": [
        "from sklearn.metrics import confusion_matrix\n",
        "import matplotlib.pyplot as plt\n",
        "import seaborn as sns\n",
        "\n",
        "# Display the confusion matrix as a heatmap\n",
        "arr = confusion_matrix(aer_dataset.test_y.detach().cpu().numpy(), n_class)\n",
        "class_names = ['Positive', 'Neutral', ' Negative']\n",
        "print(arr)\n",
        "df_cm = pd.DataFrame(arr, class_names, class_names)\n",
        "plt.figure(figsize = (9,6))\n",
        "sns.heatmap(df_cm, annot=True, fmt=\"d\", cmap='BuGn')\n",
        "plt.xlabel(\"prediction\")\n",
        "plt.ylabel(\"label (ground truth)\")\n",
        "plt.show()"
      ],
      "metadata": {
        "colab": {
          "base_uri": "https://localhost:8080/",
          "height": 440
        },
        "id": "b3Ok6cs_J9K_",
        "outputId": "accf1b1c-4788-4f81-c6aa-b325723188c1"
      },
      "execution_count": 33,
      "outputs": [
        {
          "output_type": "stream",
          "name": "stdout",
          "text": [
            "[[259  37  69]\n",
            " [ 25 136  35]\n",
            " [ 93  74 543]]\n"
          ]
        },
        {
          "output_type": "display_data",
          "data": {
            "text/plain": [
              "<Figure size 648x432 with 2 Axes>"
            ],
            "image/png": "[encoded data removed]"
          },
          "metadata": {
            "needs_background": "light"
          }
        }
      ]
    },
    {
      "cell_type": "markdown",
      "metadata": {
        "id": "awUU1AREn3fk"
      },
      "source": [
        "## INFERENCE\n",
        "\n",
        "---\n",
        "\n"
      ]
    },
    {
      "cell_type": "code",
      "source": [
        "def print_results(y):\n",
        "  predict = [np.exp(c) for c in y]\n",
        "  max = np.argmax(predict)\n",
        "  print(f'Predicted: {classes[max].capitalize()}')\n",
        "  print(f'Positive: {round(predict[0][0]*100, 4)}%')\n",
        "  print(f'Neutral: {round(predict[0][1]*100, 4)}%')\n",
        "  print(f'Negative: {round(predict[0][2]*100, 4)}%')"
      ],
      "metadata": {
        "id": "Ph6iOQImBFJF"
      },
      "execution_count": 34,
      "outputs": []
    },
    {
      "cell_type": "code",
      "execution_count": 35,
      "metadata": {
        "colab": {
          "base_uri": "https://localhost:8080/"
        },
        "id": "oH-sKsHj4ZwS",
        "outputId": "6ef420be-6e1b-4e3a-fb47-d43b474d39dd"
      },
      "outputs": [
        {
          "output_type": "stream",
          "name": "stdout",
          "text": [
            "Predicted: Negative\n",
            "Positive: 1.4489%\n",
            "Neutral: 0.6626%\n",
            "Negative: 97.8885%\n"
          ]
        }
      ],
      "source": [
        "inf_X = inference('/content/data/MyDrive/dl/EMOVO/positive/gio-m1-n5.wav')\n",
        "X = Norm(inf_X)\n",
        "y = cnn.forward(X)\n",
        "y = y.cpu().detach().numpy()\n",
        "print_results(y)"
      ]
    }
  ],
  "metadata": {
    "accelerator": "GPU",
    "colab": {
      "machine_shape": "hm",
      "name": "train_model.ipynb",
      "provenance": [],
      "include_colab_link": true
    },
    "kernelspec": {
      "display_name": "Python 3",
      "name": "python3"
    },
    "language_info": {
      "name": "python"
    },
    "widgets": {
      "application/vnd.jupyter.widget-state+json": {
        "7cad4ba87d3c4599b0351f5ad3d688c2": {
          "model_module": "@jupyter-widgets/controls",
          "model_name": "HBoxModel",
          "model_module_version": "1.5.0",
          "state": {
            "_dom_classes": [],
            "_model_module": "@jupyter-widgets/controls",
            "_model_module_version": "1.5.0",
            "_model_name": "HBoxModel",
            "_view_count": null,
            "_view_module": "@jupyter-widgets/controls",
            "_view_module_version": "1.5.0",
            "_view_name": "HBoxView",
            "box_style": "",
            "children": [
              "IPY_MODEL_d2af527bb6d84af98e320e1f7fab304b",
              "IPY_MODEL_0507911ef2c8410f9ca6a2378ad92095",
              "IPY_MODEL_08f5b0386d564bc9b6115693db3fb278"
            ],
            "layout": "IPY_MODEL_2775dfa719a94a96b93ef6c0853efe59"
          }
        },
        "d2af527bb6d84af98e320e1f7fab304b": {
          "model_module": "@jupyter-widgets/controls",
          "model_name": "HTMLModel",
          "model_module_version": "1.5.0",
          "state": {
            "_dom_classes": [],
            "_model_module": "@jupyter-widgets/controls",
            "_model_module_version": "1.5.0",
            "_model_name": "HTMLModel",
            "_view_count": null,
            "_view_module": "@jupyter-widgets/controls",
            "_view_module_version": "1.5.0",
            "_view_name": "HTMLView",
            "description": "",
            "description_tooltip": null,
            "layout": "IPY_MODEL_b1e231c298074cb192f23c6baa2c8999",
            "placeholder": "​",
            "style": "IPY_MODEL_05e1a0f018e7491d801f90c7e5382aa1",
            "value": "100%"
          }
        },
        "0507911ef2c8410f9ca6a2378ad92095": {
          "model_module": "@jupyter-widgets/controls",
          "model_name": "FloatProgressModel",
          "model_module_version": "1.5.0",
          "state": {
            "_dom_classes": [],
            "_model_module": "@jupyter-widgets/controls",
            "_model_module_version": "1.5.0",
            "_model_name": "FloatProgressModel",
            "_view_count": null,
            "_view_module": "@jupyter-widgets/controls",
            "_view_module_version": "1.5.0",
            "_view_name": "ProgressView",
            "bar_style": "success",
            "description": "",
            "description_tooltip": null,
            "layout": "IPY_MODEL_2b064cd5f76a4b7cb274d84e438635ae",
            "max": 377664473,
            "min": 0,
            "orientation": "horizontal",
            "style": "IPY_MODEL_555d0594fdcc4876bb35e54a4a5693a4",
            "value": 377664473
          }
        },
        "08f5b0386d564bc9b6115693db3fb278": {
          "model_module": "@jupyter-widgets/controls",
          "model_name": "HTMLModel",
          "model_module_version": "1.5.0",
          "state": {
            "_dom_classes": [],
            "_model_module": "@jupyter-widgets/controls",
            "_model_module_version": "1.5.0",
            "_model_name": "HTMLModel",
            "_view_count": null,
            "_view_module": "@jupyter-widgets/controls",
            "_view_module_version": "1.5.0",
            "_view_name": "HTMLView",
            "description": "",
            "description_tooltip": null,
            "layout": "IPY_MODEL_41845116e7fe47caa9333c5496b21e00",
            "placeholder": "​",
            "style": "IPY_MODEL_6a808f8eef63448da9a892917b160f3c",
            "value": " 360M/360M [00:02&lt;00:00, 162MB/s]"
          }
        },
        "2775dfa719a94a96b93ef6c0853efe59": {
          "model_module": "@jupyter-widgets/base",
          "model_name": "LayoutModel",
          "model_module_version": "1.2.0",
          "state": {
            "_model_module": "@jupyter-widgets/base",
            "_model_module_version": "1.2.0",
            "_model_name": "LayoutModel",
            "_view_count": null,
            "_view_module": "@jupyter-widgets/base",
            "_view_module_version": "1.2.0",
            "_view_name": "LayoutView",
            "align_content": null,
            "align_items": null,
            "align_self": null,
            "border": null,
            "bottom": null,
            "display": null,
            "flex": null,
            "flex_flow": null,
            "grid_area": null,
            "grid_auto_columns": null,
            "grid_auto_flow": null,
            "grid_auto_rows": null,
            "grid_column": null,
            "grid_gap": null,
            "grid_row": null,
            "grid_template_areas": null,
            "grid_template_columns": null,
            "grid_template_rows": null,
            "height": null,
            "justify_content": null,
            "justify_items": null,
            "left": null,
            "margin": null,
            "max_height": null,
            "max_width": null,
            "min_height": null,
            "min_width": null,
            "object_fit": null,
            "object_position": null,
            "order": null,
            "overflow": null,
            "overflow_x": null,
            "overflow_y": null,
            "padding": null,
            "right": null,
            "top": null,
            "visibility": null,
            "width": null
          }
        },
        "b1e231c298074cb192f23c6baa2c8999": {
          "model_module": "@jupyter-widgets/base",
          "model_name": "LayoutModel",
          "model_module_version": "1.2.0",
          "state": {
            "_model_module": "@jupyter-widgets/base",
            "_model_module_version": "1.2.0",
            "_model_name": "LayoutModel",
            "_view_count": null,
            "_view_module": "@jupyter-widgets/base",
            "_view_module_version": "1.2.0",
            "_view_name": "LayoutView",
            "align_content": null,
            "align_items": null,
            "align_self": null,
            "border": null,
            "bottom": null,
            "display": null,
            "flex": null,
            "flex_flow": null,
            "grid_area": null,
            "grid_auto_columns": null,
            "grid_auto_flow": null,
            "grid_auto_rows": null,
            "grid_column": null,
            "grid_gap": null,
            "grid_row": null,
            "grid_template_areas": null,
            "grid_template_columns": null,
            "grid_template_rows": null,
            "height": null,
            "justify_content": null,
            "justify_items": null,
            "left": null,
            "margin": null,
            "max_height": null,
            "max_width": null,
            "min_height": null,
            "min_width": null,
            "object_fit": null,
            "object_position": null,
            "order": null,
            "overflow": null,
            "overflow_x": null,
            "overflow_y": null,
            "padding": null,
            "right": null,
            "top": null,
            "visibility": null,
            "width": null
          }
        },
        "05e1a0f018e7491d801f90c7e5382aa1": {
          "model_module": "@jupyter-widgets/controls",
          "model_name": "DescriptionStyleModel",
          "model_module_version": "1.5.0",
          "state": {
            "_model_module": "@jupyter-widgets/controls",
            "_model_module_version": "1.5.0",
            "_model_name": "DescriptionStyleModel",
            "_view_count": null,
            "_view_module": "@jupyter-widgets/base",
            "_view_module_version": "1.2.0",
            "_view_name": "StyleView",
            "description_width": ""
          }
        },
        "2b064cd5f76a4b7cb274d84e438635ae": {
          "model_module": "@jupyter-widgets/base",
          "model_name": "LayoutModel",
          "model_module_version": "1.2.0",
          "state": {
            "_model_module": "@jupyter-widgets/base",
            "_model_module_version": "1.2.0",
            "_model_name": "LayoutModel",
            "_view_count": null,
            "_view_module": "@jupyter-widgets/base",
            "_view_module_version": "1.2.0",
            "_view_name": "LayoutView",
            "align_content": null,
            "align_items": null,
            "align_self": null,
            "border": null,
            "bottom": null,
            "display": null,
            "flex": null,
            "flex_flow": null,
            "grid_area": null,
            "grid_auto_columns": null,
            "grid_auto_flow": null,
            "grid_auto_rows": null,
            "grid_column": null,
            "grid_gap": null,
            "grid_row": null,
            "grid_template_areas": null,
            "grid_template_columns": null,
            "grid_template_rows": null,
            "height": null,
            "justify_content": null,
            "justify_items": null,
            "left": null,
            "margin": null,
            "max_height": null,
            "max_width": null,
            "min_height": null,
            "min_width": null,
            "object_fit": null,
            "object_position": null,
            "order": null,
            "overflow": null,
            "overflow_x": null,
            "overflow_y": null,
            "padding": null,
            "right": null,
            "top": null,
            "visibility": null,
            "width": null
          }
        },
        "555d0594fdcc4876bb35e54a4a5693a4": {
          "model_module": "@jupyter-widgets/controls",
          "model_name": "ProgressStyleModel",
          "model_module_version": "1.5.0",
          "state": {
            "_model_module": "@jupyter-widgets/controls",
            "_model_module_version": "1.5.0",
            "_model_name": "ProgressStyleModel",
            "_view_count": null,
            "_view_module": "@jupyter-widgets/base",
            "_view_module_version": "1.2.0",
            "_view_name": "StyleView",
            "bar_color": null,
            "description_width": ""
          }
        },
        "41845116e7fe47caa9333c5496b21e00": {
          "model_module": "@jupyter-widgets/base",
          "model_name": "LayoutModel",
          "model_module_version": "1.2.0",
          "state": {
            "_model_module": "@jupyter-widgets/base",
            "_model_module_version": "1.2.0",
            "_model_name": "LayoutModel",
            "_view_count": null,
            "_view_module": "@jupyter-widgets/base",
            "_view_module_version": "1.2.0",
            "_view_name": "LayoutView",
            "align_content": null,
            "align_items": null,
            "align_self": null,
            "border": null,
            "bottom": null,
            "display": null,
            "flex": null,
            "flex_flow": null,
            "grid_area": null,
            "grid_auto_columns": null,
            "grid_auto_flow": null,
            "grid_auto_rows": null,
            "grid_column": null,
            "grid_gap": null,
            "grid_row": null,
            "grid_template_areas": null,
            "grid_template_columns": null,
            "grid_template_rows": null,
            "height": null,
            "justify_content": null,
            "justify_items": null,
            "left": null,
            "margin": null,
            "max_height": null,
            "max_width": null,
            "min_height": null,
            "min_width": null,
            "object_fit": null,
            "object_position": null,
            "order": null,
            "overflow": null,
            "overflow_x": null,
            "overflow_y": null,
            "padding": null,
            "right": null,
            "top": null,
            "visibility": null,
            "width": null
          }
        },
        "6a808f8eef63448da9a892917b160f3c": {
          "model_module": "@jupyter-widgets/controls",
          "model_name": "DescriptionStyleModel",
          "model_module_version": "1.5.0",
          "state": {
            "_model_module": "@jupyter-widgets/controls",
            "_model_module_version": "1.5.0",
            "_model_name": "DescriptionStyleModel",
            "_view_count": null,
            "_view_module": "@jupyter-widgets/base",
            "_view_module_version": "1.2.0",
            "_view_name": "StyleView",
            "description_width": ""
          }
        }
      }
    }
  },
  "nbformat": 4,
  "nbformat_minor": 0
}