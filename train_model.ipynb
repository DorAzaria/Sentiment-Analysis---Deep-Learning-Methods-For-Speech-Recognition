{
  "cells": [
    {
      "cell_type": "markdown",
      "metadata": {
        "id": "view-in-github",
        "colab_type": "text"
      },
      "source": [
        "<a href=\"https://colab.research.google.com/github/DorAzaria/Voice-Emotion-Recognition/blob/main/train_model.ipynb\" target=\"_parent\"><img src=\"https://colab.research.google.com/assets/colab-badge.svg\" alt=\"Open In Colab\"/></a>"
      ]
    },
    {
      "cell_type": "code",
      "execution_count": 1,
      "metadata": {
        "colab": {
          "base_uri": "https://localhost:8080/"
        },
        "id": "685hzZYY0Oua",
        "outputId": "8e5f5fd0-412c-48da-a906-2f893177346c"
      },
      "outputs": [
        {
          "output_type": "stream",
          "name": "stdout",
          "text": [
            "Mounted at /content/data/\n"
          ]
        }
      ],
      "source": [
        "from google.colab import drive\n",
        "drive.mount('/content/data/')"
      ]
    },
    {
      "cell_type": "markdown",
      "metadata": {
        "id": "W3h7Ml8w1u_g"
      },
      "source": [
        "# **IMPORTS**\n",
        "---"
      ]
    },
    {
      "cell_type": "code",
      "execution_count": 5,
      "metadata": {
        "id": "jCj-OhuD1uyS"
      },
      "outputs": [],
      "source": [
        "%%capture\n",
        "\n",
        "import torch\n",
        "import torch.nn as nn\n",
        "from torch.utils.data import TensorDataset, DataLoader\n",
        "from sklearn.model_selection import train_test_split\n",
        "import pickle\n",
        "import numpy as np\n",
        "import pandas as pd\n",
        "import os\n",
        "import datetime\n",
        "import torchaudio\n",
        "import matplotlib.pyplot as plt\n",
        "from numpy import mat\n",
        "np.set_printoptions(suppress=True)\n",
        "\n",
        "!sudo apt-get install libportaudio2\n",
        "!sudo apt-get install python-scipy\n",
        "\n",
        "!pip install sounddevice\n",
        "!pip install scipy\n",
        "\n",
        "import sounddevice\n",
        "from scipy.io.wavfile import write\n",
        "\n",
        "device = torch.device('cuda' if torch.cuda.is_available() else 'cpu')\n",
        "classes = {0: 'positive', 1:'neutral', 2:'negative'}"
      ]
    },
    {
      "cell_type": "markdown",
      "metadata": {
        "id": "lS4QYGCi02Y7"
      },
      "source": [
        "# **PREPROCESS**\n",
        "\n",
        "---\n",
        "\n"
      ]
    },
    {
      "cell_type": "code",
      "execution_count": 6,
      "metadata": {
        "id": "820sVvYW1E5o"
      },
      "outputs": [],
      "source": [
        "class Data:\n",
        "\n",
        "    def __init__(self):\n",
        "        file_handler = open('/content/data/MyDrive/dl/dataset5.pth', 'rb')\n",
        "        self.data = pickle.load(file_handler)\n",
        "        x_dataset = [embedding[1] for embedding in self.data]\n",
        "        y_dataset = [label[2] for label in self.data]\n",
        "        train_x, test_x, train_y, test_y = train_test_split(np.array(x_dataset), np.array(y_dataset), test_size=0.30)\n",
        "        self.train_x = torch.from_numpy(train_x)\n",
        "        self.train_y = torch.from_numpy(train_y)\n",
        "        torch_train = TensorDataset(self.train_x, self.train_y)\n",
        "        \n",
        "        self.test_x = torch.from_numpy(test_x)\n",
        "        self.test_y = torch.from_numpy(test_y)\n",
        "        torch_test = TensorDataset(self.test_x, self.test_y)\n",
        "        \n",
        "\n",
        "        self.train_loader = DataLoader(torch_train, batch_size=32, drop_last=True, shuffle=True)\n",
        "        self.test_loader = DataLoader(torch_test, batch_size=32, drop_last=True, shuffle=False)"
      ]
    },
    {
      "cell_type": "code",
      "source": [
        "def my_plot(train_acc, test_acc):\n",
        "    epochs_x_axis = np.linspace(1, len(train_acc), len(train_acc)).astype(int)\n",
        "    plt.plot(epochs_x_axis, train_acc)\n",
        "    plt.plot(epochs_x_axis, test_acc)\n",
        "    plt.legend(['train', 'test'])"
      ],
      "metadata": {
        "id": "0bAutrVXMY1o"
      },
      "execution_count": 52,
      "outputs": []
    },
    {
      "cell_type": "markdown",
      "metadata": {
        "id": "I9NoyVXt2F_6"
      },
      "source": [
        "# **Model**\n",
        "\n",
        "1, 149, 32\n",
        "---\n",
        "\n"
      ]
    },
    {
      "cell_type": "code",
      "execution_count": 65,
      "metadata": {
        "id": "56-6NfI62iiW"
      },
      "outputs": [],
      "source": [
        "DROP_OUT = 0.5\n",
        "NUM_OF_CLASSES = 3\n",
        "\n",
        "class ConvNet(nn.Module):\n",
        "\n",
        "    def __init__(self, num_of_classes, dataset):\n",
        "        super().__init__()\n",
        "\n",
        "        # Hyper parameters\n",
        "        self.epochs = 300\n",
        "        self.batch_size = 32\n",
        "        self.learning_rate = 0.0001\n",
        "        self.dataset = dataset\n",
        "\n",
        "        # Model Architecture\n",
        "        self.first_conv = nn.Conv2d(1, 96, kernel_size=(5, 5), padding=1) # (96, 147, 30)\n",
        "        self.first_bn = nn.BatchNorm2d(96)\n",
        "        self.first_polling = nn.MaxPool2d(kernel_size=(3, 3), stride=(2, 2)) # (96, 73, 14)\n",
        "\n",
        "        self.second_conv = nn.Conv2d(96, 256, kernel_size=(5, 5), padding=1) # (256, 71, 12)\n",
        "        self.second_bn = nn.BatchNorm2d(256)\n",
        "        self.second_polling = nn.MaxPool2d(kernel_size=(3, 3), stride=(1, 1)) # (256, 69, 10)\n",
        "\n",
        "        self.third_conv = nn.Conv2d(256, 384, kernel_size=(3, 3), padding=1) # (384, 69, 10 )\n",
        "        self.third_bn = nn.BatchNorm2d(384)\n",
        "\n",
        "        self.forth_conv = nn.Conv2d(384, 256, kernel_size=(3, 3), padding=1) # (256, 69, 10)\n",
        "        self.forth_bn = nn.BatchNorm2d(256)\n",
        "\n",
        "        self.fifth_conv = nn.Conv2d(256, 256, kernel_size=(3, 3), padding=1) # (256, 69, 10)\n",
        "        self.fifth_bn = nn.BatchNorm2d(256)\n",
        "        self.fifth_polling = nn.MaxPool2d(kernel_size=(2, 2), stride=(1, 1)) # (256, 68, 9)\n",
        "\n",
        "        self.sixth_conv = nn.Conv2d(256, 64, kernel_size=(2, 2), padding=1) # (64, 69, 10)\n",
        "\n",
        "        self.seventh_conv = nn.Conv2d(64, 64, kernel_size=(3,3), padding=1) # (64, 69, 10)\n",
        "        self.seventh_polling = nn.MaxPool2d(kernel_size=(2,2), stride=(2, 2)) # (64, 34, 5)\n",
        "\n",
        "        self.eighth_conv = nn.Conv2d(64, 32, kernel_size=(3,3), padding=1) # (32, 34, 5)\n",
        "        self.first_drop = nn.Dropout(p=DROP_OUT)\n",
        "\n",
        "        self.avg_polling = nn.AdaptiveAvgPool2d((1, 1))\n",
        "        self.first_dense = nn.Linear(32, 1024)\n",
        "        self.second_drop = nn.Dropout(p=DROP_OUT)\n",
        "\n",
        "        self.second_dense = nn.Linear(1024, num_of_classes)\n",
        "\n",
        "    def forward(self, X):\n",
        "        x = nn.ReLU()(self.first_conv(X))\n",
        "        x = self.first_bn(x)\n",
        "        x = self.first_polling(x)\n",
        "\n",
        "        x = nn.ReLU()(self.second_conv(x))\n",
        "        x = self.second_bn(x)\n",
        "        x = self.second_polling(x)\n",
        "\n",
        "        x = nn.ReLU()(self.third_conv(x))\n",
        "        x = self.third_bn(x)\n",
        "\n",
        "        x = nn.ReLU()(self.forth_conv(x))\n",
        "        x = self.forth_bn(x)\n",
        "\n",
        "        x = nn.ReLU()(self.fifth_conv(x))\n",
        "        x = self.fifth_bn(x)\n",
        "        x = self.fifth_polling(x)\n",
        "\n",
        "        x = nn.ReLU()(self.sixth_conv(x))\n",
        "\n",
        "        x = nn.ReLU()(self.seventh_conv(x))\n",
        "        x = self.seventh_polling(x)\n",
        "\n",
        "        x = nn.ReLU()(self.eighth_conv(x))\n",
        "\n",
        "        x = self.first_drop(x)\n",
        "        x = self.avg_polling(x)\n",
        "\n",
        "        x = x.view(-1, x.shape[1])  # output channel for flatten before entering the dense layer\n",
        "\n",
        "        x = nn.ReLU()(self.first_dense(x))\n",
        "        x = self.second_drop(x)\n",
        "\n",
        "        x = self.second_dense(x)\n",
        "        y = nn.LogSoftmax(dim=1)(x)  # consider using Log-Softmax\n",
        "\n",
        "        return y\n",
        "\n",
        "    def get_epochs(self):\n",
        "        return self.epochs\n",
        "\n",
        "    def get_learning_rate(self):\n",
        "        return self.learning_rate\n",
        "\n",
        "    def get_batch_size(self):\n",
        "        return self.batch_size"
      ]
    },
    {
      "cell_type": "code",
      "source": [
        "def accuracy(predictions, labels):\n",
        "    classes = torch.argmax(predictions, dim=1)\n",
        "    return torch.mean((classes == labels).float()).to('cpu')"
      ],
      "metadata": {
        "id": "jQ36CsINjRlf"
      },
      "execution_count": 66,
      "outputs": []
    },
    {
      "cell_type": "markdown",
      "metadata": {
        "id": "fpaZ7PlR3CRK"
      },
      "source": [
        "# **TEST**\n",
        "\n",
        "---\n",
        "\n"
      ]
    },
    {
      "cell_type": "code",
      "execution_count": 67,
      "metadata": {
        "id": "oO0UNKVK2-3S"
      },
      "outputs": [],
      "source": [
        "def test(convnet_model):\n",
        "    results = []\n",
        "    test_batch_acc = []\n",
        "\n",
        "    with torch.no_grad():\n",
        "        n_correct = 0\n",
        "        n_samples = 0\n",
        "        n_class_correct = [0 for i in range(3)]\n",
        "        n_class_samples = [0 for i in range(3)]\n",
        "        \n",
        "        n_class = [0 for i in range(len(convnet_model.dataset.test_y))]\n",
        "        j = 0\n",
        "        \n",
        "        for embedding, labels in convnet_model.dataset.test_loader:\n",
        "            \n",
        "            embedding = embedding.type(torch.FloatTensor)\n",
        "            labels = labels.type(torch.LongTensor)\n",
        "            labels = labels.to(device)\n",
        "            embedding = embedding.to(device)\n",
        "            outputs = convnet_model(embedding)\n",
        "            test_batch_acc.append(accuracy(outputs, labels))\n",
        "\n",
        "            # max returns (value ,index)\n",
        "            _, predicted = torch.max(outputs, 1)\n",
        "            n_samples += labels.size(0)\n",
        "            n_correct += (predicted == labels).sum().item()\n",
        "\n",
        "            for i in range(convnet_model.batch_size):\n",
        "                label = labels[i]\n",
        "                pred = predicted[i]\n",
        "                if label == pred:\n",
        "                    n_class_correct[label] += 1\n",
        "                n_class_samples[label] += 1\n",
        "                n_class[j] = pred.view(-1).detach().cpu().numpy()[0]\n",
        "                j += 1\n",
        "        returned_acc = sum(test_batch_acc)/len(test_batch_acc)\n",
        "\n",
        "        acc = 100.0 * n_correct / n_samples\n",
        "        results.append(f'Accuracy of the network: {acc} %')\n",
        "\n",
        "        for i in range(3):\n",
        "            acc = 100.0 * n_class_correct[i] / n_class_samples[i]\n",
        "            results.append(f'Accuracy of {classes[i]}: {acc} %')\n",
        "        \n",
        "        return n_class, results, returned_acc"
      ]
    },
    {
      "cell_type": "markdown",
      "source": [
        "# **Train**\n",
        "---\n"
      ],
      "metadata": {
        "id": "Fmjphp7Uc8UM"
      }
    },
    {
      "cell_type": "code",
      "source": [
        "def train_model(convnet_model):\n",
        "    acc_vals_train = []\n",
        "    acc_vals_test = []\n",
        "    optimizer = torch.optim.Adam(convnet_model.parameters(), lr=convnet_model.learning_rate, weight_decay=1e-4)\n",
        "    # [3304, 2895, 9004] --> 15k examples\n",
        "    # [1184, 688, 2363] --> 4235 examples\n",
        "    # criterion = torch.nn.CrossEntropyLoss(weight=torch.tensor([2.72518159806, 3.11018998273, 1])).to(device)\n",
        "    criterion = torch.nn.CrossEntropyLoss(weight=torch.tensor([1.99, 5.43, 1])).to(device)\n",
        "\n",
        "    n_total_steps = len(convnet_model.dataset.train_loader)\n",
        "\n",
        "    for epoch in range(convnet_model.get_epochs()):\n",
        "        epoch_acc = []\n",
        "        for i, (embedding, labels) in enumerate(convnet_model.dataset.train_loader):\n",
        "\n",
        "            embedding = embedding.type(torch.FloatTensor)\n",
        "            labels = labels.type(torch.LongTensor)\n",
        "        \n",
        "            labels = labels.to(device)\n",
        "            embedding = embedding.to(device)\n",
        "\n",
        "            # Forward pass\n",
        "            outputs = convnet_model.forward(embedding)\n",
        "            loss = criterion(outputs, labels)\n",
        "\n",
        "            # Backward and optimize\n",
        "            optimizer.zero_grad()\n",
        "            loss.backward()\n",
        "            optimizer.step()\n",
        "            epoch_acc.append(accuracy(outputs, labels))\n",
        "\n",
        "            if i == 90:\n",
        "                print(f'Epoch [{epoch + 1}/{convnet_model.epochs}], Loss: {loss.item():.4f}')\n",
        "                \n",
        "        acc_vals_train.append(sum(epoch_acc)/len(epoch_acc))\n",
        "        _ , _, test_acc = test(convnet_model)\n",
        "        acc_vals_test.append(test_acc)\n",
        "    \n",
        "    my_plot(acc_vals_train, acc_vals_test)"
      ],
      "metadata": {
        "id": "PasvGTEAc5AE"
      },
      "execution_count": 68,
      "outputs": []
    },
    {
      "cell_type": "markdown",
      "metadata": {
        "id": "FbdGGMiq35tS"
      },
      "source": [
        "# **Main**\n",
        "\n",
        "---\n"
      ]
    },
    {
      "cell_type": "markdown",
      "metadata": {
        "id": "McQMhz2iXxNQ"
      },
      "source": [
        "## NORM AND INFERENCE"
      ]
    },
    {
      "cell_type": "code",
      "execution_count": 69,
      "metadata": {
        "id": "sj2SqEan3-Gz"
      },
      "outputs": [],
      "source": [
        "bundle = torchaudio.pipelines.WAV2VEC2_ASR_BASE_960H\n",
        "model = bundle.get_model().to(device)\n",
        "\n",
        "\n",
        "def inference(file_name):\n",
        "    SAMPLE_RATE = 16000\n",
        "    waveform, sample_rate = torchaudio.load(filepath=file_name,  num_frames=SAMPLE_RATE * 3)\n",
        "    waveform = waveform.view(1, 96000)\n",
        "    waveform = waveform.to(device)\n",
        "    \n",
        "    if (len(waveform[0]) < 48000):\n",
        "        print(f'less than 3 seconds: {file_name}')\n",
        "\n",
        "    if sample_rate != bundle.sample_rate:\n",
        "        waveform = torchaudio.functional.resample(waveform, sample_rate, bundle.sample_rate)\n",
        "\n",
        "    with torch.inference_mode():\n",
        "        embedding, _ = model(waveform)\n",
        "\n",
        "    return embedding.unsqueeze(0)\n",
        "\n",
        "\n",
        "def Norm(X):\n",
        "    embedding = X.detach().cpu().numpy()\n",
        "    for i in range(len(embedding)):\n",
        "        mlist = embedding[0][i]\n",
        "        embedding[0][i] = 2 * (mlist - np.max(mlist)) / (np.max(mlist) - np.min(mlist)) + 1\n",
        "\n",
        "    return torch.from_numpy(embedding).to(device)"
      ]
    },
    {
      "cell_type": "markdown",
      "metadata": {
        "id": "MCDZ2CSE4Mit"
      },
      "source": [
        "## START TRAIN\n",
        "\n",
        "---\n",
        "\n"
      ]
    },
    {
      "cell_type": "code",
      "execution_count": 70,
      "metadata": {
        "id": "SOYlypNI4RD2",
        "outputId": "83c63bbd-6d14-479e-e11b-d6eacea21bfc",
        "colab": {
          "base_uri": "https://localhost:8080/",
          "height": 1000
        }
      },
      "outputs": [
        {
          "output_type": "stream",
          "name": "stdout",
          "text": [
            "Epoch [1/300], Loss: 1.1491\n",
            "Epoch [2/300], Loss: 0.6908\n",
            "Epoch [3/300], Loss: 0.8453\n",
            "Epoch [4/300], Loss: 0.7586\n",
            "Epoch [5/300], Loss: 0.7060\n",
            "Epoch [6/300], Loss: 0.3705\n",
            "Epoch [7/300], Loss: 0.4945\n",
            "Epoch [8/300], Loss: 0.5499\n",
            "Epoch [9/300], Loss: 0.4980\n",
            "Epoch [10/300], Loss: 0.5229\n",
            "Epoch [11/300], Loss: 0.3718\n",
            "Epoch [12/300], Loss: 0.4922\n",
            "Epoch [13/300], Loss: 0.4398\n",
            "Epoch [14/300], Loss: 0.3259\n",
            "Epoch [15/300], Loss: 0.3247\n",
            "Epoch [16/300], Loss: 0.6983\n",
            "Epoch [17/300], Loss: 0.4756\n",
            "Epoch [18/300], Loss: 0.4025\n",
            "Epoch [19/300], Loss: 0.4201\n",
            "Epoch [20/300], Loss: 0.3493\n",
            "Epoch [21/300], Loss: 0.2713\n",
            "Epoch [22/300], Loss: 0.3827\n",
            "Epoch [23/300], Loss: 0.4683\n",
            "Epoch [24/300], Loss: 0.2795\n",
            "Epoch [25/300], Loss: 0.3347\n",
            "Epoch [26/300], Loss: 0.3234\n",
            "Epoch [27/300], Loss: 0.2132\n",
            "Epoch [28/300], Loss: 0.2117\n",
            "Epoch [29/300], Loss: 0.3731\n",
            "Epoch [30/300], Loss: 0.5455\n",
            "Epoch [31/300], Loss: 0.3936\n",
            "Epoch [32/300], Loss: 0.3672\n",
            "Epoch [34/300], Loss: 0.5268\n",
            "Epoch [35/300], Loss: 0.3608\n",
            "Epoch [36/300], Loss: 0.1753\n",
            "Epoch [37/300], Loss: 0.3423\n",
            "Epoch [38/300], Loss: 0.4222\n",
            "Epoch [39/300], Loss: 0.1842\n",
            "Epoch [40/300], Loss: 0.2330\n",
            "Epoch [41/300], Loss: 0.3258\n",
            "Epoch [42/300], Loss: 0.2138\n",
            "Epoch [43/300], Loss: 0.3373\n",
            "Epoch [44/300], Loss: 0.2155\n",
            "Epoch [45/300], Loss: 0.4094\n",
            "Epoch [46/300], Loss: 0.1055\n",
            "Epoch [47/300], Loss: 0.3207\n",
            "Epoch [48/300], Loss: 0.2354\n",
            "Epoch [49/300], Loss: 0.2324\n",
            "Epoch [50/300], Loss: 0.4462\n",
            "Epoch [51/300], Loss: 0.3741\n",
            "Epoch [52/300], Loss: 0.3519\n",
            "Epoch [53/300], Loss: 0.3635\n",
            "Epoch [54/300], Loss: 0.2623\n",
            "Epoch [55/300], Loss: 0.2458\n",
            "Epoch [56/300], Loss: 0.6464\n",
            "Epoch [57/300], Loss: 0.2299\n",
            "Epoch [58/300], Loss: 0.2641\n",
            "Epoch [59/300], Loss: 0.2168\n",
            "Epoch [60/300], Loss: 0.6153\n",
            "Epoch [61/300], Loss: 0.2646\n",
            "Epoch [62/300], Loss: 0.3908\n",
            "Epoch [63/300], Loss: 0.1903\n",
            "Epoch [64/300], Loss: 0.3456\n",
            "Epoch [65/300], Loss: 0.3831\n",
            "Epoch [66/300], Loss: 0.2908\n",
            "Epoch [67/300], Loss: 0.2569\n",
            "Epoch [68/300], Loss: 0.3098\n",
            "Epoch [69/300], Loss: 0.2022\n",
            "Epoch [70/300], Loss: 0.2558\n",
            "Epoch [71/300], Loss: 0.4745\n",
            "Epoch [72/300], Loss: 0.1886\n",
            "Epoch [73/300], Loss: 0.1620\n",
            "Epoch [74/300], Loss: 0.2621\n",
            "Epoch [75/300], Loss: 0.3253\n",
            "Epoch [76/300], Loss: 0.0739\n",
            "Epoch [77/300], Loss: 0.3395\n",
            "Epoch [78/300], Loss: 0.6789\n",
            "Epoch [79/300], Loss: 0.1356\n",
            "Epoch [80/300], Loss: 0.4074\n",
            "Epoch [81/300], Loss: 0.3369\n",
            "Epoch [82/300], Loss: 0.1939\n",
            "Epoch [84/300], Loss: 0.3093\n",
            "Epoch [85/300], Loss: 0.1145\n",
            "Epoch [86/300], Loss: 0.1847\n",
            "Epoch [87/300], Loss: 0.0902\n",
            "Epoch [88/300], Loss: 0.1256\n",
            "Epoch [89/300], Loss: 0.1946\n",
            "Epoch [90/300], Loss: 0.1360\n",
            "Epoch [91/300], Loss: 0.1573\n",
            "Epoch [92/300], Loss: 0.3252\n",
            "Epoch [93/300], Loss: 0.1879\n",
            "Epoch [94/300], Loss: 0.1954\n",
            "Epoch [95/300], Loss: 0.2669\n",
            "Epoch [96/300], Loss: 0.3954\n",
            "Epoch [97/300], Loss: 0.1967\n",
            "Epoch [98/300], Loss: 0.2471\n",
            "Epoch [99/300], Loss: 0.1496\n",
            "Epoch [100/300], Loss: 0.1173\n",
            "Epoch [101/300], Loss: 0.0740\n",
            "Epoch [102/300], Loss: 0.1520\n",
            "Epoch [103/300], Loss: 0.0523\n",
            "Epoch [104/300], Loss: 0.1300\n",
            "Epoch [105/300], Loss: 0.1299\n",
            "Epoch [106/300], Loss: 0.2938\n",
            "Epoch [107/300], Loss: 0.1098\n",
            "Epoch [108/300], Loss: 0.3743\n",
            "Epoch [109/300], Loss: 0.1643\n",
            "Epoch [110/300], Loss: 0.1629\n",
            "Epoch [111/300], Loss: 0.2275\n",
            "Epoch [112/300], Loss: 0.1631\n",
            "Epoch [113/300], Loss: 0.1452\n",
            "Epoch [114/300], Loss: 0.2774\n",
            "Epoch [115/300], Loss: 0.1999\n",
            "Epoch [116/300], Loss: 0.2058\n",
            "Epoch [117/300], Loss: 0.1996\n",
            "Epoch [118/300], Loss: 0.1282\n",
            "Epoch [119/300], Loss: 0.2214\n",
            "Epoch [120/300], Loss: 0.3229\n",
            "Epoch [121/300], Loss: 0.1110\n",
            "Epoch [122/300], Loss: 0.2631\n",
            "Epoch [123/300], Loss: 0.0947\n",
            "Epoch [124/300], Loss: 0.0963\n",
            "Epoch [125/300], Loss: 0.2728\n",
            "Epoch [126/300], Loss: 0.5569\n",
            "Epoch [127/300], Loss: 0.2271\n",
            "Epoch [128/300], Loss: 0.1653\n",
            "Epoch [129/300], Loss: 0.1872\n",
            "Epoch [130/300], Loss: 0.2936\n",
            "Epoch [131/300], Loss: 0.1520\n",
            "Epoch [132/300], Loss: 0.1487\n",
            "Epoch [133/300], Loss: 0.1326\n",
            "Epoch [134/300], Loss: 0.0635\n",
            "Epoch [135/300], Loss: 0.0816\n",
            "Epoch [136/300], Loss: 0.1233\n",
            "Epoch [137/300], Loss: 0.1030\n",
            "Epoch [138/300], Loss: 0.1002\n",
            "Epoch [139/300], Loss: 0.0470\n",
            "Epoch [140/300], Loss: 0.2183\n",
            "Epoch [141/300], Loss: 0.2401\n",
            "Epoch [142/300], Loss: 0.6472\n",
            "Epoch [143/300], Loss: 0.1353\n",
            "Epoch [144/300], Loss: 0.1680\n",
            "Epoch [145/300], Loss: 0.0673\n",
            "Epoch [146/300], Loss: 0.0766\n",
            "Epoch [147/300], Loss: 0.1971\n",
            "Epoch [148/300], Loss: 0.1580\n",
            "Epoch [149/300], Loss: 0.1160\n",
            "Epoch [150/300], Loss: 0.2909\n",
            "Epoch [151/300], Loss: 0.0340\n",
            "Epoch [152/300], Loss: 0.0767\n",
            "Epoch [153/300], Loss: 0.1477\n",
            "Epoch [154/300], Loss: 0.1035\n",
            "Epoch [155/300], Loss: 0.1184\n",
            "Epoch [156/300], Loss: 0.0698\n",
            "Epoch [157/300], Loss: 0.0727\n",
            "Epoch [158/300], Loss: 0.1372\n",
            "Epoch [159/300], Loss: 0.0795\n",
            "Epoch [160/300], Loss: 0.0479\n",
            "Epoch [161/300], Loss: 0.0962\n",
            "Epoch [162/300], Loss: 0.0683\n",
            "Epoch [163/300], Loss: 0.1241\n",
            "Epoch [164/300], Loss: 0.0627\n",
            "Epoch [165/300], Loss: 0.2051\n",
            "Epoch [166/300], Loss: 0.1927\n",
            "Epoch [167/300], Loss: 0.1369\n",
            "Epoch [168/300], Loss: 0.0678\n",
            "Epoch [169/300], Loss: 0.2394\n",
            "Epoch [170/300], Loss: 0.3850\n",
            "Epoch [171/300], Loss: 0.0844\n",
            "Epoch [172/300], Loss: 0.0026\n",
            "Epoch [173/300], Loss: 0.1974\n",
            "Epoch [174/300], Loss: 0.0659\n",
            "Epoch [175/300], Loss: 0.1221\n",
            "Epoch [176/300], Loss: 0.0660\n",
            "Epoch [177/300], Loss: 0.3418\n",
            "Epoch [178/300], Loss: 0.0853\n",
            "Epoch [179/300], Loss: 0.1007\n",
            "Epoch [180/300], Loss: 0.0370\n",
            "Epoch [181/300], Loss: 0.3092\n",
            "Epoch [182/300], Loss: 0.1133\n",
            "Epoch [183/300], Loss: 0.1636\n",
            "Epoch [184/300], Loss: 0.2047\n",
            "Epoch [185/300], Loss: 0.0999\n",
            "Epoch [186/300], Loss: 0.0865\n",
            "Epoch [187/300], Loss: 0.0900\n",
            "Epoch [188/300], Loss: 0.1141\n",
            "Epoch [189/300], Loss: 0.0891\n",
            "Epoch [190/300], Loss: 0.0523\n",
            "Epoch [191/300], Loss: 0.0178\n",
            "Epoch [192/300], Loss: 0.0717\n",
            "Epoch [193/300], Loss: 0.0745\n",
            "Epoch [194/300], Loss: 0.0722\n",
            "Epoch [195/300], Loss: 0.1002\n",
            "Epoch [196/300], Loss: 0.0175\n",
            "Epoch [197/300], Loss: 0.0409\n",
            "Epoch [198/300], Loss: 0.0919\n",
            "Epoch [199/300], Loss: 0.0484\n",
            "Epoch [200/300], Loss: 0.0165\n",
            "Epoch [201/300], Loss: 0.0555\n",
            "Epoch [202/300], Loss: 0.2438\n",
            "Epoch [203/300], Loss: 0.0835\n",
            "Epoch [204/300], Loss: 0.1777\n",
            "Epoch [205/300], Loss: 0.1309\n",
            "Epoch [206/300], Loss: 0.2764\n",
            "Epoch [207/300], Loss: 0.0270\n",
            "Epoch [208/300], Loss: 0.0028\n",
            "Epoch [209/300], Loss: 0.1158\n",
            "Epoch [210/300], Loss: 0.0849\n",
            "Epoch [211/300], Loss: 0.1117\n",
            "Epoch [212/300], Loss: 0.0897\n",
            "Epoch [213/300], Loss: 0.0738\n",
            "Epoch [214/300], Loss: 0.1069\n",
            "Epoch [215/300], Loss: 0.0394\n",
            "Epoch [216/300], Loss: 0.1471\n",
            "Epoch [217/300], Loss: 0.0888\n",
            "Epoch [218/300], Loss: 0.1353\n",
            "Epoch [219/300], Loss: 0.0353\n",
            "Epoch [220/300], Loss: 0.0496\n",
            "Epoch [221/300], Loss: 0.0258\n",
            "Epoch [222/300], Loss: 0.0290\n",
            "Epoch [223/300], Loss: 0.0407\n",
            "Epoch [224/300], Loss: 0.0882\n",
            "Epoch [225/300], Loss: 0.0854\n",
            "Epoch [226/300], Loss: 0.0197\n",
            "Epoch [227/300], Loss: 0.0636\n",
            "Epoch [228/300], Loss: 0.0020\n",
            "Epoch [229/300], Loss: 0.0285\n",
            "Epoch [230/300], Loss: 0.0632\n",
            "Epoch [231/300], Loss: 0.1720\n",
            "Epoch [232/300], Loss: 0.2696\n",
            "Epoch [233/300], Loss: 0.0686\n",
            "Epoch [234/300], Loss: 0.0417\n",
            "Epoch [235/300], Loss: 0.1110\n",
            "Epoch [236/300], Loss: 0.0009\n",
            "Epoch [237/300], Loss: 0.0236\n",
            "Epoch [238/300], Loss: 0.0153\n",
            "Epoch [239/300], Loss: 0.1397\n",
            "Epoch [240/300], Loss: 0.0064\n",
            "Epoch [241/300], Loss: 0.0197\n",
            "Epoch [242/300], Loss: 0.1720\n",
            "Epoch [243/300], Loss: 0.0950\n",
            "Epoch [244/300], Loss: 0.1867\n",
            "Epoch [245/300], Loss: 0.0247\n",
            "Epoch [246/300], Loss: 0.1054\n",
            "Epoch [247/300], Loss: 0.1300\n",
            "Epoch [248/300], Loss: 0.0260\n",
            "Epoch [249/300], Loss: 0.0897\n",
            "Epoch [250/300], Loss: 0.0596\n",
            "Epoch [251/300], Loss: 0.0553\n",
            "Epoch [252/300], Loss: 0.1475\n",
            "Epoch [253/300], Loss: 0.0006\n",
            "Epoch [254/300], Loss: 0.1632\n",
            "Epoch [255/300], Loss: 0.3204\n",
            "Epoch [256/300], Loss: 0.0563\n",
            "Epoch [257/300], Loss: 0.0248\n",
            "Epoch [258/300], Loss: 0.0018\n",
            "Epoch [259/300], Loss: 0.1055\n",
            "Epoch [260/300], Loss: 0.0824\n",
            "Epoch [261/300], Loss: 0.0565\n",
            "Epoch [262/300], Loss: 0.1141\n",
            "Epoch [263/300], Loss: 0.0536\n",
            "Epoch [264/300], Loss: 0.1073\n",
            "Epoch [265/300], Loss: 0.0064\n",
            "Epoch [266/300], Loss: 0.0536\n",
            "Epoch [267/300], Loss: 0.0934\n",
            "Epoch [268/300], Loss: 0.1219\n",
            "Epoch [269/300], Loss: 0.0004\n",
            "Epoch [270/300], Loss: 0.0985\n",
            "Epoch [271/300], Loss: 0.0011\n",
            "Epoch [272/300], Loss: 0.0113\n",
            "Epoch [273/300], Loss: 0.0642\n",
            "Epoch [274/300], Loss: 0.0448\n",
            "Epoch [275/300], Loss: 0.1169\n",
            "Epoch [276/300], Loss: 0.0621\n",
            "Epoch [277/300], Loss: 0.0149\n",
            "Epoch [278/300], Loss: 0.1807\n",
            "Epoch [279/300], Loss: 0.0407\n",
            "Epoch [280/300], Loss: 0.1315\n",
            "Epoch [281/300], Loss: 0.0113\n",
            "Epoch [282/300], Loss: 0.0526\n",
            "Epoch [283/300], Loss: 0.1811\n",
            "Epoch [284/300], Loss: 0.0729\n",
            "Epoch [285/300], Loss: 0.0458\n",
            "Epoch [286/300], Loss: 0.0120\n",
            "Epoch [287/300], Loss: 0.0135\n",
            "Epoch [288/300], Loss: 0.1300\n",
            "Epoch [289/300], Loss: 0.1818\n",
            "Epoch [290/300], Loss: 0.0245\n",
            "Epoch [291/300], Loss: 0.0301\n",
            "Epoch [292/300], Loss: 0.0400\n",
            "Epoch [293/300], Loss: 0.0106\n",
            "Epoch [294/300], Loss: 0.1464\n",
            "Epoch [295/300], Loss: 0.0288\n",
            "Epoch [296/300], Loss: 0.0452\n",
            "Epoch [297/300], Loss: 0.0056\n",
            "Epoch [298/300], Loss: 0.0175\n",
            "Epoch [299/300], Loss: 0.1217\n",
            "Epoch [300/300], Loss: 0.0010\n"
          ]
        },
        {
          "output_type": "display_data",
          "data": {
            "text/plain": [
              "<Figure size 432x288 with 1 Axes>"
            ],
            "image/png": "[encoded data removed]"
          },
          "metadata": {
            "needs_background": "light"
          }
        }
      ],
      "source": [
        "aer_dataset = Data()\n",
        "cnn = ConvNet(3, aer_dataset)\n",
        "cnn.to(device)\n",
        "train_model(cnn)"
      ]
    },
    {
      "cell_type": "code",
      "source": [
        "torch.save(cnn, \"/content/data/MyDrive/dl/modelStam.pth\")"
      ],
      "metadata": {
        "id": "JEZvqhOZbHFl"
      },
      "execution_count": null,
      "outputs": []
    },
    {
      "cell_type": "markdown",
      "metadata": {
        "id": "LTWNPkZ04UCp"
      },
      "source": [
        "## START TEST\n",
        "\n",
        "\n",
        "Accuracy of the network: 76.20192307692308 %\n",
        "\n",
        "Accuracy of positive: 65.60693641618496 %\n",
        "\n",
        "Accuracy of neutral: 71.14427860696517 %\n",
        "\n",
        "Accuracy of negative: 82.88159771754636 %\n",
        "\n",
        "---\n",
        "\n"
      ]
    },
    {
      "cell_type": "code",
      "execution_count": 78,
      "metadata": {
        "colab": {
          "base_uri": "https://localhost:8080/"
        },
        "id": "Md2c1Cu8n2Wv",
        "outputId": "1141daa0-4416-4be3-c667-f654c4308c15"
      },
      "outputs": [
        {
          "output_type": "stream",
          "name": "stdout",
          "text": [
            "Accuracy of the network: 73.4775641025641 %\n",
            "Accuracy of positive: 70.30812324929973 %\n",
            "Accuracy of neutral: 64.36170212765957 %\n",
            "Accuracy of negative: 77.52489331436699 %\n"
          ]
        }
      ],
      "source": [
        "n_class, results,  _ = test(cnn)\n",
        "\n",
        "for text in results:\n",
        "  print(text)"
      ]
    },
    {
      "cell_type": "code",
      "source": [
        "from sklearn.metrics import confusion_matrix\n",
        "import matplotlib.pyplot as plt\n",
        "import seaborn as sns\n",
        "\n",
        "# Display the confusion matrix as a heatmap\n",
        "arr = confusion_matrix(aer_dataset.test_y.detach().cpu().numpy(), n_class)\n",
        "class_names = ['Positive', 'Neutral', ' Negative']\n",
        "print(arr)\n",
        "df_cm = pd.DataFrame(arr, class_names, class_names)\n",
        "plt.figure(figsize = (9,6))\n",
        "sns.heatmap(df_cm, annot=True, fmt=\"d\", cmap='BuGn')\n",
        "plt.xlabel(\"prediction\")\n",
        "plt.ylabel(\"label (ground truth)\")\n",
        "plt.show()"
      ],
      "metadata": {
        "colab": {
          "base_uri": "https://localhost:8080/",
          "height": 440
        },
        "id": "b3Ok6cs_J9K_",
        "outputId": "d4982152-e094-47f2-87eb-a1dc1e43a7d2"
      },
      "execution_count": 75,
      "outputs": [
        {
          "output_type": "stream",
          "name": "stdout",
          "text": [
            "[[254  22  88]\n",
            " [ 20 122  52]\n",
            " [119  52 542]]\n"
          ]
        },
        {
          "output_type": "display_data",
          "data": {
            "text/plain": [
              "<Figure size 648x432 with 2 Axes>"
            ],
            "image/png": "[encoded data removed]"
          },
          "metadata": {
            "needs_background": "light"
          }
        }
      ]
    },
    {
      "cell_type": "markdown",
      "metadata": {
        "id": "awUU1AREn3fk"
      },
      "source": [
        "## INFERENCE\n",
        "\n",
        "---\n",
        "\n"
      ]
    },
    {
      "cell_type": "code",
      "source": [
        "def print_results(y):\n",
        "  predict = [np.exp(c) for c in y]\n",
        "  max = np.argmax(predict)\n",
        "  print(f'Predicted: {classes[max].capitalize()}')\n",
        "  print(f'Positive: {round(predict[0][0]*100, 4)}%')\n",
        "  print(f'Neutral: {round(predict[0][1]*100, 4)}%')\n",
        "  print(f'Negative: {round(predict[0][2]*100, 4)}%')"
      ],
      "metadata": {
        "id": "Ph6iOQImBFJF"
      },
      "execution_count": 73,
      "outputs": []
    },
    {
      "cell_type": "code",
      "execution_count": 74,
      "metadata": {
        "colab": {
          "base_uri": "https://localhost:8080/"
        },
        "id": "oH-sKsHj4ZwS",
        "outputId": "587a01e6-bc31-47b9-a1c0-8ce991425e7d"
      },
      "outputs": [
        {
          "output_type": "stream",
          "name": "stdout",
          "text": [
            "Predicted: Negative\n",
            "Positive: 0.0179%\n",
            "Neutral: 0.0%\n",
            "Negative: 99.982%\n"
          ]
        }
      ],
      "source": [
        "inf_X = inference('/content/data/MyDrive/dl/EMOVO/positive/gio-m1-n5.wav')\n",
        "X = Norm(inf_X)\n",
        "y = cnn.forward(X)\n",
        "y = y.cpu().detach().numpy()\n",
        "print_results(y)"
      ]
    }
  ],
  "metadata": {
    "accelerator": "GPU",
    "colab": {
      "machine_shape": "hm",
      "name": "train_model.ipynb",
      "provenance": [],
      "include_colab_link": true
    },
    "kernelspec": {
      "display_name": "Python 3",
      "name": "python3"
    },
    "language_info": {
      "name": "python"
    }
  },
  "nbformat": 4,
  "nbformat_minor": 0
}