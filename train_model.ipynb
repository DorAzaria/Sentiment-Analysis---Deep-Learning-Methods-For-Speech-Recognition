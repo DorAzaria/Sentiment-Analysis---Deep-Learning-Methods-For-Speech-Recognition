{
  "cells": [
    {
      "cell_type": "markdown",
      "metadata": {
        "id": "view-in-github",
        "colab_type": "text"
      },
      "source": [
        "<a href=\"https://colab.research.google.com/github/DorAzaria/Voice-Emotion-Recognition/blob/main/train_model.ipynb\" target=\"_parent\"><img src=\"https://colab.research.google.com/assets/colab-badge.svg\" alt=\"Open In Colab\"/></a>"
      ]
    },
    {
      "cell_type": "code",
      "execution_count": 1,
      "metadata": {
        "colab": {
          "base_uri": "https://localhost:8080/"
        },
        "id": "685hzZYY0Oua",
        "outputId": "6195305d-4974-464b-d610-97ac7adc29f0"
      },
      "outputs": [
        {
          "output_type": "stream",
          "name": "stdout",
          "text": [
            "Mounted at /content/data/\n"
          ]
        }
      ],
      "source": [
        "from google.colab import drive\n",
        "drive.mount('/content/data/')"
      ]
    },
    {
      "cell_type": "markdown",
      "metadata": {
        "id": "W3h7Ml8w1u_g"
      },
      "source": [
        "# **IMPORTS**\n",
        "---"
      ]
    },
    {
      "cell_type": "code",
      "execution_count": 2,
      "metadata": {
        "id": "jCj-OhuD1uyS"
      },
      "outputs": [],
      "source": [
        "%%capture\n",
        "\n",
        "import torch\n",
        "import torch.nn as nn\n",
        "import torch.optim as optim\n",
        "from torch.utils.data import TensorDataset, DataLoader\n",
        "from sklearn.model_selection import train_test_split\n",
        "import pickle\n",
        "import numpy as np\n",
        "import pandas as pd\n",
        "import os\n",
        "import datetime\n",
        "import torchaudio\n",
        "import matplotlib.pyplot as plt\n",
        "from numpy import mat\n",
        "np.set_printoptions(suppress=True)\n",
        "\n",
        "!sudo apt-get install libportaudio2\n",
        "!sudo apt-get install python-scipy\n",
        "\n",
        "!pip install sounddevice\n",
        "!pip install scipy\n",
        "\n",
        "import sounddevice\n",
        "from scipy.io.wavfile import write\n",
        "\n",
        "device = torch.device('cuda' if torch.cuda.is_available() else 'cpu')\n",
        "classes = {0: 'positive', 1:'neutral', 2:'negative'}"
      ]
    },
    {
      "cell_type": "markdown",
      "metadata": {
        "id": "lS4QYGCi02Y7"
      },
      "source": [
        "# **PREPROCESS**\n",
        "\n",
        "---\n",
        "\n"
      ]
    },
    {
      "cell_type": "code",
      "execution_count": 3,
      "metadata": {
        "id": "820sVvYW1E5o"
      },
      "outputs": [],
      "source": [
        "class Data:\n",
        "\n",
        "    def __init__(self):\n",
        "        file_handler = open('/content/data/MyDrive/dl/dataset5.pth', 'rb')\n",
        "        self.data = pickle.load(file_handler)\n",
        "        x_dataset = [embedding[1] for embedding in self.data]\n",
        "        y_dataset = [label[2] for label in self.data]\n",
        "\n",
        "        #[70, 15, 15]\n",
        "        train_x, rem_x, train_y, rem_y = train_test_split(np.array(x_dataset), np.array(y_dataset), train_size=0.70) \n",
        "        valid_x, test_x, valid_y, test_y = train_test_split(rem_x, rem_y, test_size=0.5)\n",
        "\n",
        "        self.train_x = torch.from_numpy(train_x)\n",
        "        self.train_y = torch.from_numpy(train_y)\n",
        "        torch_train = TensorDataset(self.train_x, self.train_y)\n",
        "\n",
        "        self.valid_x = torch.from_numpy(valid_x)\n",
        "        self.valid_y = torch.from_numpy(valid_y)\n",
        "        torch_valid = TensorDataset(self.valid_x, self.valid_y)\n",
        "        \n",
        "        self.test_x = torch.from_numpy(test_x)\n",
        "        self.test_y = torch.from_numpy(test_y)\n",
        "        torch_test = TensorDataset(self.test_x, self.test_y)\n",
        "        \n",
        "        self.train_loader = DataLoader(torch_train, batch_size=32, drop_last=True, shuffle=True)\n",
        "        self.valid_loader = DataLoader(torch_valid, batch_size=32, drop_last=True, shuffle=True)\n",
        "        self.test_loader = DataLoader(torch_test, batch_size=32, drop_last=True, shuffle=False)"
      ]
    },
    {
      "cell_type": "markdown",
      "source": [
        "**PLOT**"
      ],
      "metadata": {
        "id": "Ad32J_Fi1gK9"
      }
    },
    {
      "cell_type": "code",
      "source": [
        "def my_plot(train_acc, test_acc, train_loss):\n",
        "    epochs_x_axis = np.linspace(1, len(train_acc), len(train_acc)).astype(int)\n",
        "\n",
        "    fig, axes = plt.subplots(nrows=1, ncols=2, figsize=(15, 5))\n",
        "    axes[0].plot(epochs_x_axis, train_acc)\n",
        "    axes[0].plot(epochs_x_axis, test_acc)\n",
        "    axes[0].set_ylabel(\"Accuracy\")\n",
        "    axes[0].set_xlabel(\"epochs\")\n",
        "    axes[0].legend(['train', 'test'])\n",
        "    \n",
        "\n",
        "    axes[1].plot(epochs_x_axis, train_loss)\n",
        "    axes[1].set_ylabel(\"Training loss\")\n",
        "    axes[1].set_xlabel(\"epochs\")\n",
        "    fig.tight_layout()"
      ],
      "metadata": {
        "id": "0bAutrVXMY1o"
      },
      "execution_count": 4,
      "outputs": []
    },
    {
      "cell_type": "code",
      "source": [
        "def plotEarlyStopping(train_loss, valid_loss):\n",
        "  epochs_x_axis = np.linspace(1, len(train_loss), len(train_loss)).astype(int)\n",
        "  plt.plot(epochs_x_axis, train_loss)\n",
        "  plt.plot(epochs_x_axis, valid_loss)\n",
        "  plt.title('Train VS Valid Loss')\n",
        "  plt.ylabel('loss')\n",
        "  plt.xlabel('epoch')\n",
        "  plt.legend(['train loss', 'validation loss'], loc='upper left')"
      ],
      "metadata": {
        "id": "ZxC8IagDCrDZ"
      },
      "execution_count": 194,
      "outputs": []
    },
    {
      "cell_type": "markdown",
      "metadata": {
        "id": "I9NoyVXt2F_6"
      },
      "source": [
        "# **Model**\n",
        "\n",
        "1, 149, 32\n",
        "---\n",
        "\n"
      ]
    },
    {
      "cell_type": "code",
      "execution_count": 195,
      "metadata": {
        "id": "56-6NfI62iiW"
      },
      "outputs": [],
      "source": [
        "DROP_OUT = 0.7\n",
        "NUM_OF_CLASSES = 3\n",
        "\n",
        "class ConvNet(nn.Module):\n",
        "\n",
        "    def __init__(self):\n",
        "        super().__init__()\n",
        "\n",
        "        # Hyper parameters\n",
        "        self.epochs = 300\n",
        "        self.batch_size = 32\n",
        "        self.learning_rate = 0.0001\n",
        "\n",
        "        # Model Architecture\n",
        "        self.first_conv = nn.Conv2d(1, 96, kernel_size=(5, 5), padding=1) # (96, 147, 30)\n",
        "        self.first_bn = nn.BatchNorm2d(96)\n",
        "        self.first_polling = nn.MaxPool2d(kernel_size=(3, 3), stride=(2, 2)) # (96, 73, 14)\n",
        "\n",
        "        self.second_conv = nn.Conv2d(96, 256, kernel_size=(5, 5), padding=1) # (256, 71, 12)\n",
        "        self.second_bn = nn.BatchNorm2d(256)\n",
        "        self.second_polling = nn.MaxPool2d(kernel_size=(3, 3), stride=(1, 1)) # (256, 69, 10)\n",
        "\n",
        "        self.third_conv = nn.Conv2d(256, 384, kernel_size=(3, 3), padding=1) # (384, 69, 10 )\n",
        "        self.third_bn = nn.BatchNorm2d(384)\n",
        "\n",
        "        self.forth_conv = nn.Conv2d(384, 256, kernel_size=(3, 3), padding=1) # (256, 69, 10)\n",
        "        self.forth_bn = nn.BatchNorm2d(256)\n",
        "\n",
        "        self.fifth_conv = nn.Conv2d(256, 256, kernel_size=(3, 3), padding=1) # (256, 69, 10)\n",
        "        self.fifth_bn = nn.BatchNorm2d(256)\n",
        "        self.fifth_polling = nn.MaxPool2d(kernel_size=(2, 2), stride=(1, 1)) # (256, 68, 9)\n",
        "\n",
        "        self.sixth_conv = nn.Conv2d(256, 64, kernel_size=(2, 2), padding=1) # (64, 69, 10)\n",
        "\n",
        "        self.seventh_conv = nn.Conv2d(64, 64, kernel_size=(3,3), padding=1) # (64, 69, 10)\n",
        "        self.seventh_polling = nn.MaxPool2d(kernel_size=(2,2), stride=(2, 2)) # (64, 34, 5)\n",
        "\n",
        "        self.eighth_conv = nn.Conv2d(64, 32, kernel_size=(3,3), padding=1) # (32, 34, 5)\n",
        "        self.first_drop = nn.Dropout(p=DROP_OUT)\n",
        "\n",
        "        self.avg_polling = nn.AdaptiveAvgPool2d((1, 1))\n",
        "        self.first_dense = nn.Linear(32, 1024)\n",
        "        self.second_drop = nn.Dropout(p=DROP_OUT)\n",
        "\n",
        "        self.second_dense = nn.Linear(1024, NUM_OF_CLASSES)\n",
        "\n",
        "    def forward(self, X):\n",
        "        x = nn.ReLU()(self.first_conv(X))\n",
        "        x = self.first_bn(x)\n",
        "        x = self.first_polling(x)\n",
        "\n",
        "        x = nn.ReLU()(self.second_conv(x))\n",
        "        x = self.second_bn(x)\n",
        "        x = self.second_polling(x)\n",
        "\n",
        "        x = nn.ReLU()(self.third_conv(x))\n",
        "        x = self.third_bn(x)\n",
        "\n",
        "        x = nn.ReLU()(self.forth_conv(x))\n",
        "        x = self.forth_bn(x)\n",
        "\n",
        "        x = nn.ReLU()(self.fifth_conv(x))\n",
        "        x = self.fifth_bn(x)\n",
        "        x = self.fifth_polling(x)\n",
        "\n",
        "        x = nn.ReLU()(self.sixth_conv(x))\n",
        "\n",
        "        x = nn.ReLU()(self.seventh_conv(x))\n",
        "        x = self.seventh_polling(x)\n",
        "\n",
        "        x = nn.ReLU()(self.eighth_conv(x))\n",
        "\n",
        "        x = self.first_drop(x)\n",
        "        x = self.avg_polling(x)\n",
        "\n",
        "        x = x.view(-1, x.shape[1])  # output channel for flatten before entering the dense layer\n",
        "\n",
        "        x = nn.ReLU()(self.first_dense(x))\n",
        "        x = self.second_drop(x)\n",
        "\n",
        "        x = self.second_dense(x)\n",
        "        y = nn.LogSoftmax(dim=1)(x)  # consider using Log-Softmax\n",
        "\n",
        "        return y\n",
        "\n",
        "    def get_epochs(self):\n",
        "        return self.epochs\n",
        "\n",
        "    def get_learning_rate(self):\n",
        "        return self.learning_rate\n",
        "\n",
        "    def get_batch_size(self):\n",
        "        return self.batch_size"
      ]
    },
    {
      "cell_type": "code",
      "source": [
        "def accuracy(predictions, labels):\n",
        "    classes = torch.argmax(predictions, dim=1)\n",
        "    return torch.mean((classes == labels).float()).to('cpu')"
      ],
      "metadata": {
        "id": "jQ36CsINjRlf"
      },
      "execution_count": 7,
      "outputs": []
    },
    {
      "cell_type": "markdown",
      "metadata": {
        "id": "fpaZ7PlR3CRK"
      },
      "source": [
        "# **TEST**\n",
        "\n",
        "---\n",
        "\n"
      ]
    },
    {
      "cell_type": "code",
      "execution_count": 8,
      "metadata": {
        "id": "oO0UNKVK2-3S"
      },
      "outputs": [],
      "source": [
        "def test(convnet_model, dataset):\n",
        "    results = []\n",
        "    test_batch_acc = []\n",
        "\n",
        "    with torch.no_grad():\n",
        "        n_correct = 0\n",
        "        n_samples = 0\n",
        "        n_class_correct = [0 for i in range(3)]\n",
        "        n_class_samples = [0 for i in range(3)]\n",
        "        \n",
        "        n_class = [0 for i in range(len(dataset.test_y))]\n",
        "        j = 0\n",
        "        \n",
        "        for embedding, labels in dataset.test_loader:\n",
        "            \n",
        "            embedding = embedding.type(torch.FloatTensor)\n",
        "            labels = labels.type(torch.LongTensor)\n",
        "            labels = labels.to(device)\n",
        "            embedding = embedding.to(device)\n",
        "            outputs = convnet_model(embedding)\n",
        "\n",
        "            # max returns (value ,index)\n",
        "            _, predicted = torch.max(outputs, 1)\n",
        "            n_samples += labels.size(0)\n",
        "            n_correct += (predicted == labels).sum().item()\n",
        "\n",
        "            test_batch_acc.append(accuracy(outputs, labels))\n",
        "\n",
        "            for i in range(convnet_model.batch_size):\n",
        "                label = labels[i]\n",
        "                pred = predicted[i]\n",
        "                if label == pred:\n",
        "                    n_class_correct[label] += 1\n",
        "                n_class_samples[label] += 1\n",
        "                n_class[j] = pred.view(-1).detach().cpu().numpy()[0]\n",
        "                j += 1\n",
        "        returned_acc = sum(test_batch_acc)/len(test_batch_acc)\n",
        "\n",
        "        acc = 100.0 * n_correct / n_samples\n",
        "        results.append(f'Accuracy of the network: {acc} %')\n",
        "\n",
        "        for i in range(3):\n",
        "            acc = 100.0 * n_class_correct[i] / n_class_samples[i]\n",
        "            results.append(f'Accuracy of {classes[i]}: {acc} %')\n",
        "        \n",
        "        return n_class, results, returned_acc"
      ]
    },
    {
      "cell_type": "markdown",
      "source": [
        "# **Validation**\n",
        "\n",
        "---\n",
        "\n"
      ],
      "metadata": {
        "id": "tq7sCSuj_I8l"
      }
    },
    {
      "cell_type": "code",
      "source": [
        "def validation(convnet_model, dataset, loss_function):\n",
        "    # Settings\n",
        "    model.eval()\n",
        "    loss_total = 0\n",
        "\n",
        "    # Test validation data\n",
        "    with torch.no_grad():\n",
        "        for embedding, labels in dataset.valid_loader:\n",
        "            embedding = embedding.type(torch.FloatTensor)\n",
        "            labels = labels.type(torch.LongTensor)\n",
        "            labels = labels.to(device)\n",
        "            embedding = embedding.to(device)\n",
        "\n",
        "            outputs = convnet_model(embedding)\n",
        "            loss = loss_function(outputs, labels)\n",
        "            loss_total += loss.item()\n",
        "\n",
        "    return loss_total / len(dataset.valid_loader)\n"
      ],
      "metadata": {
        "id": "z2IV8w_o_Iu8"
      },
      "execution_count": 9,
      "outputs": []
    },
    {
      "cell_type": "markdown",
      "source": [
        "# **Train**\n",
        "---\n"
      ],
      "metadata": {
        "id": "Fmjphp7Uc8UM"
      }
    },
    {
      "cell_type": "code",
      "source": [
        "def train_model(convnet_model, dataset):\n",
        "    save_counter=0\n",
        "    acc_vals_train = []\n",
        "    loss_vals_train = []\n",
        "    loss_valid = []\n",
        "    acc_vals_test = []\n",
        "    optimizer = torch.optim.Adam(convnet_model.parameters(), lr=convnet_model.learning_rate, weight_decay=1e-4)\n",
        "\n",
        "    # [3304, 2895, 9004] --> 15k examples\n",
        "    # [1184, 688, 2363] --> 4235 examples\n",
        "    # criterion = torch.nn.CrossEntropyLoss(weight=torch.tensor([2.72518159806, 3.11018998273, 1])).to(device)\n",
        "    criterion = torch.nn.CrossEntropyLoss(weight=torch.tensor([1.99, 3.43, 1])).to(device)\n",
        "    \n",
        "    n_total_steps = len(dataset.train_loader)\n",
        "\n",
        "    # Early stopping\n",
        "    the_last_loss = 100\n",
        "    patience = 2\n",
        "    trigger_times = 0\n",
        "\n",
        "    for epoch in range(convnet_model.get_epochs()):\n",
        "\n",
        "        convnet_model.train()\n",
        "        epoch_acc = []\n",
        "        epoch_loss = []\n",
        "\n",
        "        for i, (embedding, labels) in enumerate(dataset.train_loader):\n",
        "\n",
        "            embedding = embedding.type(torch.FloatTensor)\n",
        "            labels = labels.type(torch.LongTensor)\n",
        "        \n",
        "            labels = labels.to(device)\n",
        "            embedding = embedding.to(device)\n",
        "\n",
        "            # Forward pass\n",
        "            outputs = convnet_model.forward(embedding)\n",
        "            loss = criterion(outputs, labels)\n",
        "\n",
        "            # Backward and optimize\n",
        "            optimizer.zero_grad()\n",
        "            loss.backward()\n",
        "            optimizer.step()\n",
        "            epoch_acc.append(accuracy(outputs, labels))\n",
        "            epoch_loss.append(loss.item())\n",
        "            if i == 90:\n",
        "                print(f'Epoch [{epoch + 1}/{convnet_model.epochs}], Loss: {loss.item():.4f}')\n",
        "                \n",
        "        acc_vals_train.append(sum(epoch_acc)/len(epoch_acc))\n",
        "        loss_vals_train.append(sum(epoch_loss)/len(epoch_loss))\n",
        "\n",
        "        _ , _, test_acc = test(convnet_model, dataset)\n",
        "        acc_vals_test.append(test_acc)\n",
        "\n",
        "        #### EARLY STOPPING ~~~~~~~~~~~~~~~~~~~\n",
        "        the_current_loss = validation(convnet_model, dataset, criterion)\n",
        "        loss_valid.append(the_current_loss)\n",
        "\n",
        "        if the_current_loss > the_last_loss:\n",
        "            trigger_times += 1\n",
        "            print('trigger times:', trigger_times)\n",
        "            if loss_vals_train[-1] < 0.5:\n",
        "              torch.save(cnn, f\"/content/model{save_counter}.pth\")\n",
        "              print(f'saved model{save_counter}.pth')\n",
        "              save_counter += 1\n",
        "            if trigger_times >= patience:\n",
        "                print('Early stopping!')\n",
        "                break\n",
        "\n",
        "        else:\n",
        "            trigger_times = 0\n",
        "\n",
        "        the_last_loss = the_current_loss\n",
        "        ##### ~~~~~~~~~~~~~~~~~~~~~~~~~~~~~~~~\n",
        "\n",
        "\n",
        "    # my_plot(acc_vals_train, acc_vals_test, loss_vals_train)\n",
        "    plotEarlyStopping(loss_vals_train,loss_valid)"
      ],
      "metadata": {
        "id": "PasvGTEAc5AE"
      },
      "execution_count": 201,
      "outputs": []
    },
    {
      "cell_type": "markdown",
      "metadata": {
        "id": "FbdGGMiq35tS"
      },
      "source": [
        "# **Main**\n",
        "\n",
        "---\n"
      ]
    },
    {
      "cell_type": "markdown",
      "metadata": {
        "id": "McQMhz2iXxNQ"
      },
      "source": [
        "## NORM AND INFERENCE"
      ]
    },
    {
      "cell_type": "code",
      "execution_count": 181,
      "metadata": {
        "id": "sj2SqEan3-Gz"
      },
      "outputs": [],
      "source": [
        "bundle = torchaudio.pipelines.WAV2VEC2_ASR_BASE_960H\n",
        "model = bundle.get_model().to(device)\n",
        "\n",
        "\n",
        "def inference(file_name):\n",
        "    SAMPLE_RATE = 16000\n",
        "    waveform, sample_rate = torchaudio.load(filepath=file_name,  num_frames=SAMPLE_RATE * 3)\n",
        "    # waveform = waveform.view(1, 96000)\n",
        "    waveform = waveform.to(device)\n",
        "    \n",
        "    if (len(waveform[0]) < 48000):\n",
        "        print(f'less than 3 seconds: {file_name}')\n",
        "\n",
        "    if sample_rate != bundle.sample_rate:\n",
        "        waveform = torchaudio.functional.resample(waveform, sample_rate, bundle.sample_rate)\n",
        "\n",
        "    with torch.inference_mode():\n",
        "        embedding, _ = model(waveform)\n",
        "\n",
        "    return embedding.unsqueeze(0)\n",
        "\n",
        "\n",
        "def Norm(X):\n",
        "    embedding = X.detach().cpu().numpy()\n",
        "    for i in range(len(embedding)):\n",
        "        mlist = embedding[0][i]\n",
        "        embedding[0][i] = 2 * (mlist - np.max(mlist)) / (np.max(mlist) - np.min(mlist)) + 1\n",
        "\n",
        "    return torch.from_numpy(embedding).to(device)"
      ]
    },
    {
      "cell_type": "markdown",
      "metadata": {
        "id": "MCDZ2CSE4Mit"
      },
      "source": [
        "## START TRAIN\n",
        "\n",
        "---\n",
        "\n"
      ]
    },
    {
      "cell_type": "code",
      "execution_count": 202,
      "metadata": {
        "id": "SOYlypNI4RD2",
        "outputId": "fc844487-2d6b-4a00-8184-0f1a81719241",
        "colab": {
          "base_uri": "https://localhost:8080/",
          "height": 1000
        }
      },
      "outputs": [
        {
          "output_type": "stream",
          "name": "stdout",
          "text": [
            "Epoch [1/300], Loss: 1.0015\n",
            "Epoch [2/300], Loss: 0.8071\n",
            "Epoch [3/300], Loss: 1.0640\n",
            "Epoch [4/300], Loss: 0.7334\n",
            "Epoch [5/300], Loss: 0.5590\n",
            "Epoch [6/300], Loss: 0.6847\n",
            "Epoch [7/300], Loss: 0.6750\n",
            "Epoch [8/300], Loss: 0.6480\n",
            "Epoch [9/300], Loss: 0.2773\n",
            "trigger times: 1\n",
            "Epoch [10/300], Loss: 0.5833\n",
            "Epoch [11/300], Loss: 1.0276\n",
            "Epoch [12/300], Loss: 0.5913\n",
            "trigger times: 1\n",
            "saved model0.pth\n",
            "Epoch [13/300], Loss: 0.5625\n",
            "Epoch [14/300], Loss: 0.4213\n",
            "trigger times: 1\n",
            "saved model1.pth\n",
            "Epoch [15/300], Loss: 0.4448\n",
            "Epoch [16/300], Loss: 0.3681\n",
            "Epoch [17/300], Loss: 0.1485\n",
            "trigger times: 1\n",
            "saved model2.pth\n",
            "Epoch [18/300], Loss: 0.6077\n",
            "Epoch [19/300], Loss: 0.3808\n",
            "Epoch [20/300], Loss: 0.3834\n",
            "trigger times: 1\n",
            "saved model3.pth\n",
            "Epoch [21/300], Loss: 0.3728\n",
            "Epoch [22/300], Loss: 0.5416\n",
            "trigger times: 1\n",
            "saved model4.pth\n",
            "Epoch [23/300], Loss: 0.2827\n",
            "Epoch [24/300], Loss: 0.3506\n",
            "trigger times: 1\n",
            "saved model5.pth\n",
            "Epoch [25/300], Loss: 0.3766\n",
            "trigger times: 2\n",
            "saved model6.pth\n",
            "Early stopping!\n"
          ]
        },
        {
          "output_type": "display_data",
          "data": {
            "text/plain": [
              "<Figure size 432x288 with 1 Axes>"
            ],
            "image/png": "[encoded data removed]"
          },
          "metadata": {
            "needs_background": "light"
          }
        }
      ],
      "source": [
        "dataset = Data()\n",
        "cnn = ConvNet()\n",
        "cnn.to(device)\n",
        "train_model(cnn, dataset)"
      ]
    },
    {
      "cell_type": "code",
      "source": [
        "torch.save(cnn, \"/content/data/MyDrive/dl/model204.pth\")"
      ],
      "metadata": {
        "id": "JEZvqhOZbHFl"
      },
      "execution_count": 175,
      "outputs": []
    },
    {
      "cell_type": "code",
      "source": [
        "model_import = torch.load(\"/content/model0.pth\")\n",
        "model_import.eval()"
      ],
      "metadata": {
        "id": "mrUVc4DLlOTz"
      },
      "execution_count": null,
      "outputs": []
    },
    {
      "cell_type": "markdown",
      "metadata": {
        "id": "LTWNPkZ04UCp"
      },
      "source": [
        "## START TEST\n",
        "\n",
        "\n",
        "Accuracy of the network: 76.20192307692308 %\n",
        "\n",
        "Accuracy of positive: 65.60693641618496 %\n",
        "\n",
        "Accuracy of neutral: 71.14427860696517 %\n",
        "\n",
        "Accuracy of negative: 82.88159771754636 %\n",
        "\n",
        "---\n",
        "\n"
      ]
    },
    {
      "cell_type": "code",
      "execution_count": 205,
      "metadata": {
        "colab": {
          "base_uri": "https://localhost:8080/"
        },
        "id": "Md2c1Cu8n2Wv",
        "outputId": "6ea5048e-b33f-4df8-824d-842b7a1b595d"
      },
      "outputs": [
        {
          "output_type": "stream",
          "name": "stdout",
          "text": [
            "Accuracy of the network: 72.36842105263158 %\n",
            "Accuracy of positive: 69.62025316455696 %\n",
            "Accuracy of neutral: 86.27450980392157 %\n",
            "Accuracy of negative: 69.54022988505747 %\n"
          ]
        }
      ],
      "source": [
        "n_class, results,  _ = test(cnn, dataset)\n",
        "\n",
        "for text in results:\n",
        "  print(text)"
      ]
    },
    {
      "cell_type": "code",
      "source": [
        "from sklearn.metrics import confusion_matrix\n",
        "import matplotlib.pyplot as plt\n",
        "import seaborn as sns\n",
        "\n",
        "# Display the confusion matrix as a heatmap\n",
        "arr = confusion_matrix(dataset.test_y.detach().cpu().numpy(), n_class)\n",
        "class_names = ['Positive', 'Neutral', ' Negative']\n",
        "print(arr)\n",
        "df_cm = pd.DataFrame(arr, class_names, class_names)\n",
        "plt.figure(figsize = (9,6))\n",
        "sns.heatmap(df_cm, annot=True, fmt=\"d\", cmap='BuGn')\n",
        "plt.xlabel(\"prediction\")\n",
        "plt.ylabel(\"label (ground truth)\")\n",
        "plt.show()"
      ],
      "metadata": {
        "colab": {
          "base_uri": "https://localhost:8080/",
          "height": 440
        },
        "id": "b3Ok6cs_J9K_",
        "outputId": "2acf2e1f-d22e-4eb5-c4b9-2293a49f6717"
      },
      "execution_count": 37,
      "outputs": [
        {
          "output_type": "stream",
          "name": "stdout",
          "text": [
            "[[133  28  21]\n",
            " [ 20  71   8]\n",
            " [ 60  53 242]]\n"
          ]
        },
        {
          "output_type": "display_data",
          "data": {
            "text/plain": [
              "<Figure size 648x432 with 2 Axes>"
            ],
            "image/png": "[encoded data removed]"
          },
          "metadata": {
            "needs_background": "light"
          }
        }
      ]
    },
    {
      "cell_type": "markdown",
      "metadata": {
        "id": "awUU1AREn3fk"
      },
      "source": [
        "## INFERENCE\n",
        "\n",
        "---\n",
        "\n"
      ]
    },
    {
      "cell_type": "code",
      "source": [
        "def print_results(y):\n",
        "  predict = [np.exp(c) for c in y]\n",
        "  max = np.argmax(predict)\n",
        "  print(f'Predicted: {classes[max].capitalize()}')\n",
        "  print(f'Positive: {round(predict[0][0]*100, 4)}%')\n",
        "  print(f'Neutral: {round(predict[0][1]*100, 4)}%')\n",
        "  print(f'Negative: {round(predict[0][2]*100, 4)}%')"
      ],
      "metadata": {
        "id": "Ph6iOQImBFJF"
      },
      "execution_count": 15,
      "outputs": []
    },
    {
      "cell_type": "markdown",
      "source": [
        "Emotion (01 = neutral, 02 = calm, 03 = happy, 04 = sad, 05 = angry, 06 = fearful, 07 = disgust, 08 = surprised)."
      ],
      "metadata": {
        "id": "n9w_o2lLtPYP"
      }
    },
    {
      "cell_type": "code",
      "execution_count": 208,
      "metadata": {
        "colab": {
          "base_uri": "https://localhost:8080/"
        },
        "id": "oH-sKsHj4ZwS",
        "outputId": "c5622667-c533-4d4b-b65e-2a42c8c03b34"
      },
      "outputs": [
        {
          "output_type": "stream",
          "name": "stdout",
          "text": [
            "Predicted: Negative\n",
            "Positive: 7.6188%\n",
            "Neutral: 2.921%\n",
            "Negative: 89.4602%\n"
          ]
        }
      ],
      "source": [
        "inf_X = inference('/content/data/MyDrive/dl/ravdess/Actor_03/03-01-03-02-02-01-03.wav')\n",
        "X = Norm(inf_X)\n",
        "y = cnn.forward(X)\n",
        "y = y.cpu().detach().numpy()\n",
        "print_results(y)"
      ]
    }
  ],
  "metadata": {
    "accelerator": "GPU",
    "colab": {
      "machine_shape": "hm",
      "name": "train_model.ipynb",
      "provenance": [],
      "include_colab_link": true
    },
    "kernelspec": {
      "display_name": "Python 3",
      "name": "python3"
    },
    "language_info": {
      "name": "python"
    }
  },
  "nbformat": 4,
  "nbformat_minor": 0
}