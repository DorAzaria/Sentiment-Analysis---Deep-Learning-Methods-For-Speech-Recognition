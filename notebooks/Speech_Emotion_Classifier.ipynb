{
  "nbformat": 4,
  "nbformat_minor": 0,
  "metadata": {
    "colab": {
      "name": "Final_Project_Demo.ipynb",
      "provenance": [],
      "include_colab_link": true
    },
    "kernelspec": {
      "name": "python3",
      "display_name": "Python 3"
    },
    "language_info": {
      "name": "python"
    },
    "widgets": {
      "application/vnd.jupyter.widget-state+json": {
        "0ef3acc3f86141888c531ff7728a4afd": {
          "model_module": "@jupyter-widgets/controls",
          "model_name": "VBoxModel",
          "model_module_version": "1.5.0",
          "state": {
            "_view_name": "VBoxView",
            "_dom_classes": [],
            "_model_name": "VBoxModel",
            "_view_module": "@jupyter-widgets/controls",
            "_model_module_version": "1.5.0",
            "_view_count": null,
            "_view_module_version": "1.5.0",
            "box_style": "",
            "layout": "IPY_MODEL_34d45f842b6841ef88787c411373e385",
            "_model_module": "@jupyter-widgets/controls",
            "children": [
              "IPY_MODEL_3b9f0ef925ae4f9db77f0b654cf4fbae",
              "IPY_MODEL_f8b25a996bc6469190079f55a72f0f1d"
            ]
          }
        },
        "34d45f842b6841ef88787c411373e385": {
          "model_module": "@jupyter-widgets/base",
          "model_name": "LayoutModel",
          "model_module_version": "1.2.0",
          "state": {
            "_view_name": "LayoutView",
            "grid_template_rows": null,
            "right": null,
            "justify_content": null,
            "_view_module": "@jupyter-widgets/base",
            "overflow": null,
            "_model_module_version": "1.2.0",
            "_view_count": null,
            "flex_flow": null,
            "width": null,
            "min_width": null,
            "border": null,
            "align_items": null,
            "bottom": null,
            "_model_module": "@jupyter-widgets/base",
            "top": null,
            "grid_column": null,
            "overflow_y": null,
            "overflow_x": null,
            "grid_auto_flow": null,
            "grid_area": null,
            "grid_template_columns": null,
            "flex": null,
            "_model_name": "LayoutModel",
            "justify_items": null,
            "grid_row": null,
            "max_height": null,
            "align_content": null,
            "visibility": null,
            "align_self": null,
            "height": null,
            "min_height": null,
            "padding": null,
            "grid_auto_rows": null,
            "grid_gap": null,
            "max_width": null,
            "order": null,
            "_view_module_version": "1.2.0",
            "grid_template_areas": null,
            "object_position": null,
            "object_fit": null,
            "grid_auto_columns": null,
            "margin": null,
            "display": null,
            "left": null
          }
        },
        "3b9f0ef925ae4f9db77f0b654cf4fbae": {
          "model_module": "@jupyter-widgets/controls",
          "model_name": "LabelModel",
          "model_module_version": "1.5.0",
          "state": {
            "_view_name": "LabelView",
            "style": "IPY_MODEL_984c3f0eb61d4b5eb75d03b9342f84c1",
            "_dom_classes": [],
            "description": "",
            "_model_name": "LabelModel",
            "placeholder": "​",
            "_view_module": "@jupyter-widgets/controls",
            "_model_module_version": "1.5.0",
            "value": " 0.01MB of 0.01MB uploaded (0.00MB deduped)\r",
            "_view_count": null,
            "_view_module_version": "1.5.0",
            "description_tooltip": null,
            "_model_module": "@jupyter-widgets/controls",
            "layout": "IPY_MODEL_87510216247e4b90b1da64dd5a804339"
          }
        },
        "f8b25a996bc6469190079f55a72f0f1d": {
          "model_module": "@jupyter-widgets/controls",
          "model_name": "FloatProgressModel",
          "model_module_version": "1.5.0",
          "state": {
            "_view_name": "ProgressView",
            "style": "IPY_MODEL_f50b7c5090dd4520b0608ceebc77252a",
            "_dom_classes": [],
            "description": "",
            "_model_name": "FloatProgressModel",
            "bar_style": "",
            "max": 1,
            "_view_module": "@jupyter-widgets/controls",
            "_model_module_version": "1.5.0",
            "value": 1,
            "_view_count": null,
            "_view_module_version": "1.5.0",
            "orientation": "horizontal",
            "min": 0,
            "description_tooltip": null,
            "_model_module": "@jupyter-widgets/controls",
            "layout": "IPY_MODEL_95bcb95904ab425597367a8eeed4425a"
          }
        },
        "984c3f0eb61d4b5eb75d03b9342f84c1": {
          "model_module": "@jupyter-widgets/controls",
          "model_name": "DescriptionStyleModel",
          "model_module_version": "1.5.0",
          "state": {
            "_view_name": "StyleView",
            "_model_name": "DescriptionStyleModel",
            "description_width": "",
            "_view_module": "@jupyter-widgets/base",
            "_model_module_version": "1.5.0",
            "_view_count": null,
            "_view_module_version": "1.2.0",
            "_model_module": "@jupyter-widgets/controls"
          }
        },
        "87510216247e4b90b1da64dd5a804339": {
          "model_module": "@jupyter-widgets/base",
          "model_name": "LayoutModel",
          "model_module_version": "1.2.0",
          "state": {
            "_view_name": "LayoutView",
            "grid_template_rows": null,
            "right": null,
            "justify_content": null,
            "_view_module": "@jupyter-widgets/base",
            "overflow": null,
            "_model_module_version": "1.2.0",
            "_view_count": null,
            "flex_flow": null,
            "width": null,
            "min_width": null,
            "border": null,
            "align_items": null,
            "bottom": null,
            "_model_module": "@jupyter-widgets/base",
            "top": null,
            "grid_column": null,
            "overflow_y": null,
            "overflow_x": null,
            "grid_auto_flow": null,
            "grid_area": null,
            "grid_template_columns": null,
            "flex": null,
            "_model_name": "LayoutModel",
            "justify_items": null,
            "grid_row": null,
            "max_height": null,
            "align_content": null,
            "visibility": null,
            "align_self": null,
            "height": null,
            "min_height": null,
            "padding": null,
            "grid_auto_rows": null,
            "grid_gap": null,
            "max_width": null,
            "order": null,
            "_view_module_version": "1.2.0",
            "grid_template_areas": null,
            "object_position": null,
            "object_fit": null,
            "grid_auto_columns": null,
            "margin": null,
            "display": null,
            "left": null
          }
        },
        "f50b7c5090dd4520b0608ceebc77252a": {
          "model_module": "@jupyter-widgets/controls",
          "model_name": "ProgressStyleModel",
          "model_module_version": "1.5.0",
          "state": {
            "_view_name": "StyleView",
            "_model_name": "ProgressStyleModel",
            "description_width": "",
            "_view_module": "@jupyter-widgets/base",
            "_model_module_version": "1.5.0",
            "_view_count": null,
            "_view_module_version": "1.2.0",
            "bar_color": null,
            "_model_module": "@jupyter-widgets/controls"
          }
        },
        "95bcb95904ab425597367a8eeed4425a": {
          "model_module": "@jupyter-widgets/base",
          "model_name": "LayoutModel",
          "model_module_version": "1.2.0",
          "state": {
            "_view_name": "LayoutView",
            "grid_template_rows": null,
            "right": null,
            "justify_content": null,
            "_view_module": "@jupyter-widgets/base",
            "overflow": null,
            "_model_module_version": "1.2.0",
            "_view_count": null,
            "flex_flow": null,
            "width": null,
            "min_width": null,
            "border": null,
            "align_items": null,
            "bottom": null,
            "_model_module": "@jupyter-widgets/base",
            "top": null,
            "grid_column": null,
            "overflow_y": null,
            "overflow_x": null,
            "grid_auto_flow": null,
            "grid_area": null,
            "grid_template_columns": null,
            "flex": null,
            "_model_name": "LayoutModel",
            "justify_items": null,
            "grid_row": null,
            "max_height": null,
            "align_content": null,
            "visibility": null,
            "align_self": null,
            "height": null,
            "min_height": null,
            "padding": null,
            "grid_auto_rows": null,
            "grid_gap": null,
            "max_width": null,
            "order": null,
            "_view_module_version": "1.2.0",
            "grid_template_areas": null,
            "object_position": null,
            "object_fit": null,
            "grid_auto_columns": null,
            "margin": null,
            "display": null,
            "left": null
          }
        },
        "4a780493904c4a69b1d1ea0f2b50af48": {
          "model_module": "@jupyter-widgets/controls",
          "model_name": "HBoxModel",
          "model_module_version": "1.5.0",
          "state": {
            "_view_name": "HBoxView",
            "_dom_classes": [],
            "_model_name": "HBoxModel",
            "_view_module": "@jupyter-widgets/controls",
            "_model_module_version": "1.5.0",
            "_view_count": null,
            "_view_module_version": "1.5.0",
            "box_style": "",
            "layout": "IPY_MODEL_ca087c5972e34f38b74f74f517b47db3",
            "_model_module": "@jupyter-widgets/controls",
            "children": [
              "IPY_MODEL_c5cbd4bdd6d54ce3be4175ab5a782548",
              "IPY_MODEL_c352b4bd108044c78ff25d5b0d450b88",
              "IPY_MODEL_83d872152ab84202b1d75d4eb627ad78"
            ]
          }
        },
        "ca087c5972e34f38b74f74f517b47db3": {
          "model_module": "@jupyter-widgets/base",
          "model_name": "LayoutModel",
          "model_module_version": "1.2.0",
          "state": {
            "_view_name": "LayoutView",
            "grid_template_rows": null,
            "right": null,
            "justify_content": null,
            "_view_module": "@jupyter-widgets/base",
            "overflow": null,
            "_model_module_version": "1.2.0",
            "_view_count": null,
            "flex_flow": null,
            "width": null,
            "min_width": null,
            "border": null,
            "align_items": null,
            "bottom": null,
            "_model_module": "@jupyter-widgets/base",
            "top": null,
            "grid_column": null,
            "overflow_y": null,
            "overflow_x": null,
            "grid_auto_flow": null,
            "grid_area": null,
            "grid_template_columns": null,
            "flex": null,
            "_model_name": "LayoutModel",
            "justify_items": null,
            "grid_row": null,
            "max_height": null,
            "align_content": null,
            "visibility": null,
            "align_self": null,
            "height": null,
            "min_height": null,
            "padding": null,
            "grid_auto_rows": null,
            "grid_gap": null,
            "max_width": null,
            "order": null,
            "_view_module_version": "1.2.0",
            "grid_template_areas": null,
            "object_position": null,
            "object_fit": null,
            "grid_auto_columns": null,
            "margin": null,
            "display": null,
            "left": null
          }
        },
        "c5cbd4bdd6d54ce3be4175ab5a782548": {
          "model_module": "@jupyter-widgets/controls",
          "model_name": "HTMLModel",
          "model_module_version": "1.5.0",
          "state": {
            "_view_name": "HTMLView",
            "style": "IPY_MODEL_83121900b7ce4eafa2e00f1fed9aeb52",
            "_dom_classes": [],
            "description": "",
            "_model_name": "HTMLModel",
            "placeholder": "​",
            "_view_module": "@jupyter-widgets/controls",
            "_model_module_version": "1.5.0",
            "value": "100%",
            "_view_count": null,
            "_view_module_version": "1.5.0",
            "description_tooltip": null,
            "_model_module": "@jupyter-widgets/controls",
            "layout": "IPY_MODEL_7f6d5838423e40d68fa04487803f24ef"
          }
        },
        "c352b4bd108044c78ff25d5b0d450b88": {
          "model_module": "@jupyter-widgets/controls",
          "model_name": "FloatProgressModel",
          "model_module_version": "1.5.0",
          "state": {
            "_view_name": "ProgressView",
            "style": "IPY_MODEL_e9480509aed74bb3bb5131d4c5c19daa",
            "_dom_classes": [],
            "description": "",
            "_model_name": "FloatProgressModel",
            "bar_style": "success",
            "max": 1,
            "_view_module": "@jupyter-widgets/controls",
            "_model_module_version": "1.5.0",
            "value": 1,
            "_view_count": null,
            "_view_module_version": "1.5.0",
            "orientation": "horizontal",
            "min": 0,
            "description_tooltip": null,
            "_model_module": "@jupyter-widgets/controls",
            "layout": "IPY_MODEL_3a432cfb2e1e44d2a958cc2abaa262f8"
          }
        },
        "83d872152ab84202b1d75d4eb627ad78": {
          "model_module": "@jupyter-widgets/controls",
          "model_name": "HTMLModel",
          "model_module_version": "1.5.0",
          "state": {
            "_view_name": "HTMLView",
            "style": "IPY_MODEL_d3cdf1d4902b4540b14fd02b5bb33c75",
            "_dom_classes": [],
            "description": "",
            "_model_name": "HTMLModel",
            "placeholder": "​",
            "_view_module": "@jupyter-widgets/controls",
            "_model_module_version": "1.5.0",
            "value": " 1/1 [00:00&lt;00:00, 15.93it/s]",
            "_view_count": null,
            "_view_module_version": "1.5.0",
            "description_tooltip": null,
            "_model_module": "@jupyter-widgets/controls",
            "layout": "IPY_MODEL_2b9f69688bdf418fb01455a429bc0598"
          }
        },
        "83121900b7ce4eafa2e00f1fed9aeb52": {
          "model_module": "@jupyter-widgets/controls",
          "model_name": "DescriptionStyleModel",
          "model_module_version": "1.5.0",
          "state": {
            "_view_name": "StyleView",
            "_model_name": "DescriptionStyleModel",
            "description_width": "",
            "_view_module": "@jupyter-widgets/base",
            "_model_module_version": "1.5.0",
            "_view_count": null,
            "_view_module_version": "1.2.0",
            "_model_module": "@jupyter-widgets/controls"
          }
        },
        "7f6d5838423e40d68fa04487803f24ef": {
          "model_module": "@jupyter-widgets/base",
          "model_name": "LayoutModel",
          "model_module_version": "1.2.0",
          "state": {
            "_view_name": "LayoutView",
            "grid_template_rows": null,
            "right": null,
            "justify_content": null,
            "_view_module": "@jupyter-widgets/base",
            "overflow": null,
            "_model_module_version": "1.2.0",
            "_view_count": null,
            "flex_flow": null,
            "width": null,
            "min_width": null,
            "border": null,
            "align_items": null,
            "bottom": null,
            "_model_module": "@jupyter-widgets/base",
            "top": null,
            "grid_column": null,
            "overflow_y": null,
            "overflow_x": null,
            "grid_auto_flow": null,
            "grid_area": null,
            "grid_template_columns": null,
            "flex": null,
            "_model_name": "LayoutModel",
            "justify_items": null,
            "grid_row": null,
            "max_height": null,
            "align_content": null,
            "visibility": null,
            "align_self": null,
            "height": null,
            "min_height": null,
            "padding": null,
            "grid_auto_rows": null,
            "grid_gap": null,
            "max_width": null,
            "order": null,
            "_view_module_version": "1.2.0",
            "grid_template_areas": null,
            "object_position": null,
            "object_fit": null,
            "grid_auto_columns": null,
            "margin": null,
            "display": null,
            "left": null
          }
        },
        "e9480509aed74bb3bb5131d4c5c19daa": {
          "model_module": "@jupyter-widgets/controls",
          "model_name": "ProgressStyleModel",
          "model_module_version": "1.5.0",
          "state": {
            "_view_name": "StyleView",
            "_model_name": "ProgressStyleModel",
            "description_width": "",
            "_view_module": "@jupyter-widgets/base",
            "_model_module_version": "1.5.0",
            "_view_count": null,
            "_view_module_version": "1.2.0",
            "bar_color": null,
            "_model_module": "@jupyter-widgets/controls"
          }
        },
        "3a432cfb2e1e44d2a958cc2abaa262f8": {
          "model_module": "@jupyter-widgets/base",
          "model_name": "LayoutModel",
          "model_module_version": "1.2.0",
          "state": {
            "_view_name": "LayoutView",
            "grid_template_rows": null,
            "right": null,
            "justify_content": null,
            "_view_module": "@jupyter-widgets/base",
            "overflow": null,
            "_model_module_version": "1.2.0",
            "_view_count": null,
            "flex_flow": null,
            "width": null,
            "min_width": null,
            "border": null,
            "align_items": null,
            "bottom": null,
            "_model_module": "@jupyter-widgets/base",
            "top": null,
            "grid_column": null,
            "overflow_y": null,
            "overflow_x": null,
            "grid_auto_flow": null,
            "grid_area": null,
            "grid_template_columns": null,
            "flex": null,
            "_model_name": "LayoutModel",
            "justify_items": null,
            "grid_row": null,
            "max_height": null,
            "align_content": null,
            "visibility": null,
            "align_self": null,
            "height": null,
            "min_height": null,
            "padding": null,
            "grid_auto_rows": null,
            "grid_gap": null,
            "max_width": null,
            "order": null,
            "_view_module_version": "1.2.0",
            "grid_template_areas": null,
            "object_position": null,
            "object_fit": null,
            "grid_auto_columns": null,
            "margin": null,
            "display": null,
            "left": null
          }
        },
        "d3cdf1d4902b4540b14fd02b5bb33c75": {
          "model_module": "@jupyter-widgets/controls",
          "model_name": "DescriptionStyleModel",
          "model_module_version": "1.5.0",
          "state": {
            "_view_name": "StyleView",
            "_model_name": "DescriptionStyleModel",
            "description_width": "",
            "_view_module": "@jupyter-widgets/base",
            "_model_module_version": "1.5.0",
            "_view_count": null,
            "_view_module_version": "1.2.0",
            "_model_module": "@jupyter-widgets/controls"
          }
        },
        "2b9f69688bdf418fb01455a429bc0598": {
          "model_module": "@jupyter-widgets/base",
          "model_name": "LayoutModel",
          "model_module_version": "1.2.0",
          "state": {
            "_view_name": "LayoutView",
            "grid_template_rows": null,
            "right": null,
            "justify_content": null,
            "_view_module": "@jupyter-widgets/base",
            "overflow": null,
            "_model_module_version": "1.2.0",
            "_view_count": null,
            "flex_flow": null,
            "width": null,
            "min_width": null,
            "border": null,
            "align_items": null,
            "bottom": null,
            "_model_module": "@jupyter-widgets/base",
            "top": null,
            "grid_column": null,
            "overflow_y": null,
            "overflow_x": null,
            "grid_auto_flow": null,
            "grid_area": null,
            "grid_template_columns": null,
            "flex": null,
            "_model_name": "LayoutModel",
            "justify_items": null,
            "grid_row": null,
            "max_height": null,
            "align_content": null,
            "visibility": null,
            "align_self": null,
            "height": null,
            "min_height": null,
            "padding": null,
            "grid_auto_rows": null,
            "grid_gap": null,
            "max_width": null,
            "order": null,
            "_view_module_version": "1.2.0",
            "grid_template_areas": null,
            "object_position": null,
            "object_fit": null,
            "grid_auto_columns": null,
            "margin": null,
            "display": null,
            "left": null
          }
        },
        "384274a9803341bd85f9fb6436fccd19": {
          "model_module": "@jupyter-widgets/controls",
          "model_name": "HBoxModel",
          "model_module_version": "1.5.0",
          "state": {
            "_view_name": "HBoxView",
            "_dom_classes": [],
            "_model_name": "HBoxModel",
            "_view_module": "@jupyter-widgets/controls",
            "_model_module_version": "1.5.0",
            "_view_count": null,
            "_view_module_version": "1.5.0",
            "box_style": "",
            "layout": "IPY_MODEL_6417f1aeef4a4b4d867ce851ef7e10a5",
            "_model_module": "@jupyter-widgets/controls",
            "children": [
              "IPY_MODEL_c09323679c6042c18690d06646598f9b",
              "IPY_MODEL_0efed5cf28654822940b25380b2f28b6",
              "IPY_MODEL_b0e9efacbbc34057a2b5fb4b33d835b7"
            ]
          }
        },
        "6417f1aeef4a4b4d867ce851ef7e10a5": {
          "model_module": "@jupyter-widgets/base",
          "model_name": "LayoutModel",
          "model_module_version": "1.2.0",
          "state": {
            "_view_name": "LayoutView",
            "grid_template_rows": null,
            "right": null,
            "justify_content": null,
            "_view_module": "@jupyter-widgets/base",
            "overflow": null,
            "_model_module_version": "1.2.0",
            "_view_count": null,
            "flex_flow": null,
            "width": null,
            "min_width": null,
            "border": null,
            "align_items": null,
            "bottom": null,
            "_model_module": "@jupyter-widgets/base",
            "top": null,
            "grid_column": null,
            "overflow_y": null,
            "overflow_x": null,
            "grid_auto_flow": null,
            "grid_area": null,
            "grid_template_columns": null,
            "flex": null,
            "_model_name": "LayoutModel",
            "justify_items": null,
            "grid_row": null,
            "max_height": null,
            "align_content": null,
            "visibility": null,
            "align_self": null,
            "height": null,
            "min_height": null,
            "padding": null,
            "grid_auto_rows": null,
            "grid_gap": null,
            "max_width": null,
            "order": null,
            "_view_module_version": "1.2.0",
            "grid_template_areas": null,
            "object_position": null,
            "object_fit": null,
            "grid_auto_columns": null,
            "margin": null,
            "display": null,
            "left": null
          }
        },
        "c09323679c6042c18690d06646598f9b": {
          "model_module": "@jupyter-widgets/controls",
          "model_name": "HTMLModel",
          "model_module_version": "1.5.0",
          "state": {
            "_view_name": "HTMLView",
            "style": "IPY_MODEL_417b0d19eb8e4daa9c9214d236bdced6",
            "_dom_classes": [],
            "description": "",
            "_model_name": "HTMLModel",
            "placeholder": "​",
            "_view_module": "@jupyter-widgets/controls",
            "_model_module_version": "1.5.0",
            "value": "100%",
            "_view_count": null,
            "_view_module_version": "1.5.0",
            "description_tooltip": null,
            "_model_module": "@jupyter-widgets/controls",
            "layout": "IPY_MODEL_406129ccebdc440990992330f0b767c8"
          }
        },
        "0efed5cf28654822940b25380b2f28b6": {
          "model_module": "@jupyter-widgets/controls",
          "model_name": "FloatProgressModel",
          "model_module_version": "1.5.0",
          "state": {
            "_view_name": "ProgressView",
            "style": "IPY_MODEL_c4932bb5e64143668860015e7b3b8c0b",
            "_dom_classes": [],
            "description": "",
            "_model_name": "FloatProgressModel",
            "bar_style": "success",
            "max": 121,
            "_view_module": "@jupyter-widgets/controls",
            "_model_module_version": "1.5.0",
            "value": 121,
            "_view_count": null,
            "_view_module_version": "1.5.0",
            "orientation": "horizontal",
            "min": 0,
            "description_tooltip": null,
            "_model_module": "@jupyter-widgets/controls",
            "layout": "IPY_MODEL_76e681baad7c40478adca8aff9a26217"
          }
        },
        "b0e9efacbbc34057a2b5fb4b33d835b7": {
          "model_module": "@jupyter-widgets/controls",
          "model_name": "HTMLModel",
          "model_module_version": "1.5.0",
          "state": {
            "_view_name": "HTMLView",
            "style": "IPY_MODEL_ef433047e4eb4d9c9b05cece1a66801d",
            "_dom_classes": [],
            "description": "",
            "_model_name": "HTMLModel",
            "placeholder": "​",
            "_view_module": "@jupyter-widgets/controls",
            "_model_module_version": "1.5.0",
            "value": " 121/121 [00:03&lt;00:00, 36.55ex/s]",
            "_view_count": null,
            "_view_module_version": "1.5.0",
            "description_tooltip": null,
            "_model_module": "@jupyter-widgets/controls",
            "layout": "IPY_MODEL_3ff3329ae3ea4d88bdd8a9bc604f4ca0"
          }
        },
        "417b0d19eb8e4daa9c9214d236bdced6": {
          "model_module": "@jupyter-widgets/controls",
          "model_name": "DescriptionStyleModel",
          "model_module_version": "1.5.0",
          "state": {
            "_view_name": "StyleView",
            "_model_name": "DescriptionStyleModel",
            "description_width": "",
            "_view_module": "@jupyter-widgets/base",
            "_model_module_version": "1.5.0",
            "_view_count": null,
            "_view_module_version": "1.2.0",
            "_model_module": "@jupyter-widgets/controls"
          }
        },
        "406129ccebdc440990992330f0b767c8": {
          "model_module": "@jupyter-widgets/base",
          "model_name": "LayoutModel",
          "model_module_version": "1.2.0",
          "state": {
            "_view_name": "LayoutView",
            "grid_template_rows": null,
            "right": null,
            "justify_content": null,
            "_view_module": "@jupyter-widgets/base",
            "overflow": null,
            "_model_module_version": "1.2.0",
            "_view_count": null,
            "flex_flow": null,
            "width": null,
            "min_width": null,
            "border": null,
            "align_items": null,
            "bottom": null,
            "_model_module": "@jupyter-widgets/base",
            "top": null,
            "grid_column": null,
            "overflow_y": null,
            "overflow_x": null,
            "grid_auto_flow": null,
            "grid_area": null,
            "grid_template_columns": null,
            "flex": null,
            "_model_name": "LayoutModel",
            "justify_items": null,
            "grid_row": null,
            "max_height": null,
            "align_content": null,
            "visibility": null,
            "align_self": null,
            "height": null,
            "min_height": null,
            "padding": null,
            "grid_auto_rows": null,
            "grid_gap": null,
            "max_width": null,
            "order": null,
            "_view_module_version": "1.2.0",
            "grid_template_areas": null,
            "object_position": null,
            "object_fit": null,
            "grid_auto_columns": null,
            "margin": null,
            "display": null,
            "left": null
          }
        },
        "c4932bb5e64143668860015e7b3b8c0b": {
          "model_module": "@jupyter-widgets/controls",
          "model_name": "ProgressStyleModel",
          "model_module_version": "1.5.0",
          "state": {
            "_view_name": "StyleView",
            "_model_name": "ProgressStyleModel",
            "description_width": "",
            "_view_module": "@jupyter-widgets/base",
            "_model_module_version": "1.5.0",
            "_view_count": null,
            "_view_module_version": "1.2.0",
            "bar_color": null,
            "_model_module": "@jupyter-widgets/controls"
          }
        },
        "76e681baad7c40478adca8aff9a26217": {
          "model_module": "@jupyter-widgets/base",
          "model_name": "LayoutModel",
          "model_module_version": "1.2.0",
          "state": {
            "_view_name": "LayoutView",
            "grid_template_rows": null,
            "right": null,
            "justify_content": null,
            "_view_module": "@jupyter-widgets/base",
            "overflow": null,
            "_model_module_version": "1.2.0",
            "_view_count": null,
            "flex_flow": null,
            "width": null,
            "min_width": null,
            "border": null,
            "align_items": null,
            "bottom": null,
            "_model_module": "@jupyter-widgets/base",
            "top": null,
            "grid_column": null,
            "overflow_y": null,
            "overflow_x": null,
            "grid_auto_flow": null,
            "grid_area": null,
            "grid_template_columns": null,
            "flex": null,
            "_model_name": "LayoutModel",
            "justify_items": null,
            "grid_row": null,
            "max_height": null,
            "align_content": null,
            "visibility": null,
            "align_self": null,
            "height": null,
            "min_height": null,
            "padding": null,
            "grid_auto_rows": null,
            "grid_gap": null,
            "max_width": null,
            "order": null,
            "_view_module_version": "1.2.0",
            "grid_template_areas": null,
            "object_position": null,
            "object_fit": null,
            "grid_auto_columns": null,
            "margin": null,
            "display": null,
            "left": null
          }
        },
        "ef433047e4eb4d9c9b05cece1a66801d": {
          "model_module": "@jupyter-widgets/controls",
          "model_name": "DescriptionStyleModel",
          "model_module_version": "1.5.0",
          "state": {
            "_view_name": "StyleView",
            "_model_name": "DescriptionStyleModel",
            "description_width": "",
            "_view_module": "@jupyter-widgets/base",
            "_model_module_version": "1.5.0",
            "_view_count": null,
            "_view_module_version": "1.2.0",
            "_model_module": "@jupyter-widgets/controls"
          }
        },
        "3ff3329ae3ea4d88bdd8a9bc604f4ca0": {
          "model_module": "@jupyter-widgets/base",
          "model_name": "LayoutModel",
          "model_module_version": "1.2.0",
          "state": {
            "_view_name": "LayoutView",
            "grid_template_rows": null,
            "right": null,
            "justify_content": null,
            "_view_module": "@jupyter-widgets/base",
            "overflow": null,
            "_model_module_version": "1.2.0",
            "_view_count": null,
            "flex_flow": null,
            "width": null,
            "min_width": null,
            "border": null,
            "align_items": null,
            "bottom": null,
            "_model_module": "@jupyter-widgets/base",
            "top": null,
            "grid_column": null,
            "overflow_y": null,
            "overflow_x": null,
            "grid_auto_flow": null,
            "grid_area": null,
            "grid_template_columns": null,
            "flex": null,
            "_model_name": "LayoutModel",
            "justify_items": null,
            "grid_row": null,
            "max_height": null,
            "align_content": null,
            "visibility": null,
            "align_self": null,
            "height": null,
            "min_height": null,
            "padding": null,
            "grid_auto_rows": null,
            "grid_gap": null,
            "max_width": null,
            "order": null,
            "_view_module_version": "1.2.0",
            "grid_template_areas": null,
            "object_position": null,
            "object_fit": null,
            "grid_auto_columns": null,
            "margin": null,
            "display": null,
            "left": null
          }
        },
        "2f9ccbc3c410463fa8bcfbbe195e7782": {
          "model_module": "@jupyter-widgets/controls",
          "model_name": "HBoxModel",
          "model_module_version": "1.5.0",
          "state": {
            "_view_name": "HBoxView",
            "_dom_classes": [],
            "_model_name": "HBoxModel",
            "_view_module": "@jupyter-widgets/controls",
            "_model_module_version": "1.5.0",
            "_view_count": null,
            "_view_module_version": "1.5.0",
            "box_style": "",
            "layout": "IPY_MODEL_933f6ecb27cb45fa8b226b7acc5d622e",
            "_model_module": "@jupyter-widgets/controls",
            "children": [
              "IPY_MODEL_1937e7bb2b9940d7842c8c46b75531fd",
              "IPY_MODEL_7c3495f6ea3142949ce8420a070bddc0",
              "IPY_MODEL_0d1b7210b3294fe7a5786021a71947bf"
            ]
          }
        },
        "933f6ecb27cb45fa8b226b7acc5d622e": {
          "model_module": "@jupyter-widgets/base",
          "model_name": "LayoutModel",
          "model_module_version": "1.2.0",
          "state": {
            "_view_name": "LayoutView",
            "grid_template_rows": null,
            "right": null,
            "justify_content": null,
            "_view_module": "@jupyter-widgets/base",
            "overflow": null,
            "_model_module_version": "1.2.0",
            "_view_count": null,
            "flex_flow": null,
            "width": null,
            "min_width": null,
            "border": null,
            "align_items": null,
            "bottom": null,
            "_model_module": "@jupyter-widgets/base",
            "top": null,
            "grid_column": null,
            "overflow_y": null,
            "overflow_x": null,
            "grid_auto_flow": null,
            "grid_area": null,
            "grid_template_columns": null,
            "flex": null,
            "_model_name": "LayoutModel",
            "justify_items": null,
            "grid_row": null,
            "max_height": null,
            "align_content": null,
            "visibility": null,
            "align_self": null,
            "height": null,
            "min_height": null,
            "padding": null,
            "grid_auto_rows": null,
            "grid_gap": null,
            "max_width": null,
            "order": null,
            "_view_module_version": "1.2.0",
            "grid_template_areas": null,
            "object_position": null,
            "object_fit": null,
            "grid_auto_columns": null,
            "margin": null,
            "display": null,
            "left": null
          }
        },
        "1937e7bb2b9940d7842c8c46b75531fd": {
          "model_module": "@jupyter-widgets/controls",
          "model_name": "HTMLModel",
          "model_module_version": "1.5.0",
          "state": {
            "_view_name": "HTMLView",
            "style": "IPY_MODEL_c7590403e35048198ddfc25d78e67709",
            "_dom_classes": [],
            "description": "",
            "_model_name": "HTMLModel",
            "placeholder": "​",
            "_view_module": "@jupyter-widgets/controls",
            "_model_module_version": "1.5.0",
            "value": "100%",
            "_view_count": null,
            "_view_module_version": "1.5.0",
            "description_tooltip": null,
            "_model_module": "@jupyter-widgets/controls",
            "layout": "IPY_MODEL_69bcf43356dc4b8f9bb6398d5c3a19b5"
          }
        },
        "7c3495f6ea3142949ce8420a070bddc0": {
          "model_module": "@jupyter-widgets/controls",
          "model_name": "FloatProgressModel",
          "model_module_version": "1.5.0",
          "state": {
            "_view_name": "ProgressView",
            "style": "IPY_MODEL_c6b0776a4f2d4c21855ca772bdc9dc25",
            "_dom_classes": [],
            "description": "",
            "_model_name": "FloatProgressModel",
            "bar_style": "success",
            "max": 16,
            "_view_module": "@jupyter-widgets/controls",
            "_model_module_version": "1.5.0",
            "value": 16,
            "_view_count": null,
            "_view_module_version": "1.5.0",
            "orientation": "horizontal",
            "min": 0,
            "description_tooltip": null,
            "_model_module": "@jupyter-widgets/controls",
            "layout": "IPY_MODEL_4a3c1c68a68840128a5171997c42d1fb"
          }
        },
        "0d1b7210b3294fe7a5786021a71947bf": {
          "model_module": "@jupyter-widgets/controls",
          "model_name": "HTMLModel",
          "model_module_version": "1.5.0",
          "state": {
            "_view_name": "HTMLView",
            "style": "IPY_MODEL_fcf869c5dc154a9ca92eba79c4921c54",
            "_dom_classes": [],
            "description": "",
            "_model_name": "HTMLModel",
            "placeholder": "​",
            "_view_module": "@jupyter-widgets/controls",
            "_model_module_version": "1.5.0",
            "value": " 16/16 [11:38&lt;00:00, 30.63s/ba]",
            "_view_count": null,
            "_view_module_version": "1.5.0",
            "description_tooltip": null,
            "_model_module": "@jupyter-widgets/controls",
            "layout": "IPY_MODEL_9f33e1487937453b948d7b2ec7d1e541"
          }
        },
        "c7590403e35048198ddfc25d78e67709": {
          "model_module": "@jupyter-widgets/controls",
          "model_name": "DescriptionStyleModel",
          "model_module_version": "1.5.0",
          "state": {
            "_view_name": "StyleView",
            "_model_name": "DescriptionStyleModel",
            "description_width": "",
            "_view_module": "@jupyter-widgets/base",
            "_model_module_version": "1.5.0",
            "_view_count": null,
            "_view_module_version": "1.2.0",
            "_model_module": "@jupyter-widgets/controls"
          }
        },
        "69bcf43356dc4b8f9bb6398d5c3a19b5": {
          "model_module": "@jupyter-widgets/base",
          "model_name": "LayoutModel",
          "model_module_version": "1.2.0",
          "state": {
            "_view_name": "LayoutView",
            "grid_template_rows": null,
            "right": null,
            "justify_content": null,
            "_view_module": "@jupyter-widgets/base",
            "overflow": null,
            "_model_module_version": "1.2.0",
            "_view_count": null,
            "flex_flow": null,
            "width": null,
            "min_width": null,
            "border": null,
            "align_items": null,
            "bottom": null,
            "_model_module": "@jupyter-widgets/base",
            "top": null,
            "grid_column": null,
            "overflow_y": null,
            "overflow_x": null,
            "grid_auto_flow": null,
            "grid_area": null,
            "grid_template_columns": null,
            "flex": null,
            "_model_name": "LayoutModel",
            "justify_items": null,
            "grid_row": null,
            "max_height": null,
            "align_content": null,
            "visibility": null,
            "align_self": null,
            "height": null,
            "min_height": null,
            "padding": null,
            "grid_auto_rows": null,
            "grid_gap": null,
            "max_width": null,
            "order": null,
            "_view_module_version": "1.2.0",
            "grid_template_areas": null,
            "object_position": null,
            "object_fit": null,
            "grid_auto_columns": null,
            "margin": null,
            "display": null,
            "left": null
          }
        },
        "c6b0776a4f2d4c21855ca772bdc9dc25": {
          "model_module": "@jupyter-widgets/controls",
          "model_name": "ProgressStyleModel",
          "model_module_version": "1.5.0",
          "state": {
            "_view_name": "StyleView",
            "_model_name": "ProgressStyleModel",
            "description_width": "",
            "_view_module": "@jupyter-widgets/base",
            "_model_module_version": "1.5.0",
            "_view_count": null,
            "_view_module_version": "1.2.0",
            "bar_color": null,
            "_model_module": "@jupyter-widgets/controls"
          }
        },
        "4a3c1c68a68840128a5171997c42d1fb": {
          "model_module": "@jupyter-widgets/base",
          "model_name": "LayoutModel",
          "model_module_version": "1.2.0",
          "state": {
            "_view_name": "LayoutView",
            "grid_template_rows": null,
            "right": null,
            "justify_content": null,
            "_view_module": "@jupyter-widgets/base",
            "overflow": null,
            "_model_module_version": "1.2.0",
            "_view_count": null,
            "flex_flow": null,
            "width": null,
            "min_width": null,
            "border": null,
            "align_items": null,
            "bottom": null,
            "_model_module": "@jupyter-widgets/base",
            "top": null,
            "grid_column": null,
            "overflow_y": null,
            "overflow_x": null,
            "grid_auto_flow": null,
            "grid_area": null,
            "grid_template_columns": null,
            "flex": null,
            "_model_name": "LayoutModel",
            "justify_items": null,
            "grid_row": null,
            "max_height": null,
            "align_content": null,
            "visibility": null,
            "align_self": null,
            "height": null,
            "min_height": null,
            "padding": null,
            "grid_auto_rows": null,
            "grid_gap": null,
            "max_width": null,
            "order": null,
            "_view_module_version": "1.2.0",
            "grid_template_areas": null,
            "object_position": null,
            "object_fit": null,
            "grid_auto_columns": null,
            "margin": null,
            "display": null,
            "left": null
          }
        },
        "fcf869c5dc154a9ca92eba79c4921c54": {
          "model_module": "@jupyter-widgets/controls",
          "model_name": "DescriptionStyleModel",
          "model_module_version": "1.5.0",
          "state": {
            "_view_name": "StyleView",
            "_model_name": "DescriptionStyleModel",
            "description_width": "",
            "_view_module": "@jupyter-widgets/base",
            "_model_module_version": "1.5.0",
            "_view_count": null,
            "_view_module_version": "1.2.0",
            "_model_module": "@jupyter-widgets/controls"
          }
        },
        "9f33e1487937453b948d7b2ec7d1e541": {
          "model_module": "@jupyter-widgets/base",
          "model_name": "LayoutModel",
          "model_module_version": "1.2.0",
          "state": {
            "_view_name": "LayoutView",
            "grid_template_rows": null,
            "right": null,
            "justify_content": null,
            "_view_module": "@jupyter-widgets/base",
            "overflow": null,
            "_model_module_version": "1.2.0",
            "_view_count": null,
            "flex_flow": null,
            "width": null,
            "min_width": null,
            "border": null,
            "align_items": null,
            "bottom": null,
            "_model_module": "@jupyter-widgets/base",
            "top": null,
            "grid_column": null,
            "overflow_y": null,
            "overflow_x": null,
            "grid_auto_flow": null,
            "grid_area": null,
            "grid_template_columns": null,
            "flex": null,
            "_model_name": "LayoutModel",
            "justify_items": null,
            "grid_row": null,
            "max_height": null,
            "align_content": null,
            "visibility": null,
            "align_self": null,
            "height": null,
            "min_height": null,
            "padding": null,
            "grid_auto_rows": null,
            "grid_gap": null,
            "max_width": null,
            "order": null,
            "_view_module_version": "1.2.0",
            "grid_template_areas": null,
            "object_position": null,
            "object_fit": null,
            "grid_auto_columns": null,
            "margin": null,
            "display": null,
            "left": null
          }
        }
      }
    }
  },
  "cells": [
    {
      "cell_type": "markdown",
      "metadata": {
        "id": "view-in-github",
        "colab_type": "text"
      },
      "source": [
        "<a href=\"https://colab.research.google.com/github/DorAzaria/Sentiment-Analysis-Deep-Learning-Methods-For-Speech-Recognition/blob/main/Speech_Emotion_Classifier.ipynb\" target=\"_parent\"><img src=\"https://colab.research.google.com/assets/colab-badge.svg\" alt=\"Open In Colab\"/></a>"
      ]
    },
    {
      "cell_type": "markdown",
      "source": [
        "# Speech Emotion Classifier"
      ],
      "metadata": {
        "id": "61HLGm4gSSLS"
      }
    },
    {
      "cell_type": "markdown",
      "source": [
        "This project and code is largely based on this project: https://colab.research.google.com/github/m3hrdadfi/soxan/blob/main/notebooks/Emotion_recognition_in_Greek_speech_using_Wav2Vec2.ipynb\n",
        "\n",
        "I only modified small parts of the code such as not using the librosa library when loading the audio during training (it raises some backend issues on my training environment) and adapting the training part to a python script so I can train the model in a virtual machine with stronger GPUs"
      ],
      "metadata": {
        "id": "vFiRM3rJWJTF"
      }
    },
    {
      "cell_type": "markdown",
      "source": [
        "## Install and imports and helper functions"
      ],
      "metadata": {
        "id": "YcD271u68JFI"
      }
    },
    {
      "cell_type": "code",
      "execution_count": null,
      "metadata": {
        "id": "JvnpbulC76PM"
      },
      "outputs": [],
      "source": [
        "%%capture\n",
        "\n",
        "!pip install git+https://github.com/huggingface/datasets.git\n",
        "!pip install git+https://github.com/huggingface/transformers.git\n",
        "# !pip install jiwer\n",
        "!pip install torchaudio\n",
        "# !pip install librosa\n",
        "\n",
        "# Monitor the training process\n",
        "!pip install wandb"
      ]
    },
    {
      "cell_type": "code",
      "source": [
        "import pandas as pd\n",
        "import numpy as np\n",
        "import torchaudio\n",
        "from packaging import version\n",
        "from tqdm import tqdm\n",
        "from pathlib import Path\n",
        "import os\n",
        "\n",
        "from datasets import load_dataset, load_metric\n",
        "\n",
        "from dataclasses import dataclass\n",
        "from typing import Any, Dict, List, Optional, Tuple, Union\n",
        "\n",
        "import torch\n",
        "import torch.nn as nn\n",
        "from torch.nn import BCEWithLogitsLoss, CrossEntropyLoss, MSELoss\n",
        "import torch.nn.functional as F\n",
        "\n",
        "\n",
        "import transformers\n",
        "from transformers import AutoConfig, Wav2Vec2Processor\n",
        "from transformers.file_utils import ModelOutput\n",
        "from transformers.models.wav2vec2.modeling_wav2vec2 import (\n",
        "    Wav2Vec2PreTrainedModel,\n",
        "    Wav2Vec2Model\n",
        ")\n",
        "from transformers.file_utils import ModelOutput\n",
        "from transformers import EvalPrediction\n",
        "from transformers import TrainingArguments\n",
        "from transformers import (\n",
        "    Trainer,\n",
        "    is_apex_available,\n",
        ")\n",
        "\n",
        "\n",
        "if is_apex_available():\n",
        "    from apex import amp\n",
        "\n",
        "if version.parse(torch.__version__) >= version.parse(\"1.6\"):\n",
        "    _is_native_amp_available = True\n",
        "    from torch.cuda.amp import autocast\n",
        "\n",
        "from sklearn.model_selection import train_test_split\n",
        "from sklearn.metrics import classification_report, confusion_matrix\n",
        "import seaborn as sns; sns.set_theme()\n",
        "import matplotlib.pyplot as plt"
      ],
      "metadata": {
        "id": "X47XPRJ18wdi"
      },
      "execution_count": null,
      "outputs": []
    },
    {
      "cell_type": "code",
      "source": [
        "@dataclass\n",
        "class SpeechClassifierOutput(ModelOutput):\n",
        "    loss: Optional[torch.FloatTensor] = None\n",
        "    logits: torch.FloatTensor = None\n",
        "    hidden_states: Optional[Tuple[torch.FloatTensor]] = None\n",
        "    attentions: Optional[Tuple[torch.FloatTensor]] = None\n",
        "    \n",
        "class Wav2Vec2ClassificationHead(nn.Module):\n",
        "    \"\"\"Head for wav2vec classification task.\"\"\"\n",
        "\n",
        "    def __init__(self, config):\n",
        "        super().__init__()\n",
        "        self.dense = nn.Linear(config.hidden_size, config.hidden_size)\n",
        "        self.dropout = nn.Dropout(config.final_dropout)\n",
        "        self.out_proj = nn.Linear(config.hidden_size, config.num_labels)\n",
        "\n",
        "    def forward(self, features, **kwargs):\n",
        "        x = features\n",
        "        x = self.dropout(x)\n",
        "        x = self.dense(x)\n",
        "        x = torch.tanh(x)\n",
        "        x = self.dropout(x)\n",
        "        x = self.out_proj(x)\n",
        "        return x\n",
        "\n",
        "\n",
        "class Wav2Vec2ForSpeechClassification(Wav2Vec2PreTrainedModel):\n",
        "    def __init__(self, config):\n",
        "        super().__init__(config)\n",
        "        self.num_labels = config.num_labels\n",
        "        self.pooling_mode = config.pooling_mode\n",
        "        self.config = config\n",
        "\n",
        "        self.wav2vec2 = Wav2Vec2Model(config)\n",
        "        self.classifier = Wav2Vec2ClassificationHead(config)\n",
        "\n",
        "        self.init_weights()\n",
        "\n",
        "    def freeze_feature_extractor(self):\n",
        "        self.wav2vec2.feature_extractor._freeze_parameters()\n",
        "\n",
        "    def merged_strategy(\n",
        "            self,\n",
        "            hidden_states,\n",
        "            mode=\"mean\"\n",
        "    ):\n",
        "        if mode == \"mean\":\n",
        "            outputs = torch.mean(hidden_states, dim=1)\n",
        "        elif mode == \"sum\":\n",
        "            outputs = torch.sum(hidden_states, dim=1)\n",
        "        elif mode == \"max\":\n",
        "            outputs = torch.max(hidden_states, dim=1)[0]\n",
        "        else:\n",
        "            raise Exception(\n",
        "                \"The pooling method hasn't been defined! Your pooling mode must be one of these ['mean', 'sum', 'max']\")\n",
        "\n",
        "        return outputs\n",
        "\n",
        "    def forward(\n",
        "            self,\n",
        "            input_values,\n",
        "            attention_mask=None,\n",
        "            output_attentions=None,\n",
        "            output_hidden_states=None,\n",
        "            return_dict=None,\n",
        "            labels=None,\n",
        "    ):\n",
        "        return_dict = return_dict if return_dict is not None else self.config.use_return_dict\n",
        "        outputs = self.wav2vec2(\n",
        "            input_values,\n",
        "            attention_mask=attention_mask,\n",
        "            output_attentions=output_attentions,\n",
        "            output_hidden_states=output_hidden_states,\n",
        "            return_dict=return_dict,\n",
        "        )\n",
        "        hidden_states = outputs[0]\n",
        "        hidden_states = self.merged_strategy(hidden_states, mode=self.pooling_mode)\n",
        "        logits = self.classifier(hidden_states)\n",
        "\n",
        "        loss = None\n",
        "        if labels is not None:\n",
        "            if self.config.problem_type is None:\n",
        "                if self.num_labels == 1:\n",
        "                    self.config.problem_type = \"regression\"\n",
        "                elif self.num_labels > 1 and (labels.dtype == torch.long or labels.dtype == torch.int):\n",
        "                    self.config.problem_type = \"single_label_classification\"\n",
        "                else:\n",
        "                    self.config.problem_type = \"multi_label_classification\"\n",
        "\n",
        "            if self.config.problem_type == \"regression\":\n",
        "                loss_fct = MSELoss()\n",
        "                loss = loss_fct(logits.view(-1, self.num_labels), labels)\n",
        "            elif self.config.problem_type == \"single_label_classification\":\n",
        "                loss_fct = CrossEntropyLoss()\n",
        "                loss = loss_fct(logits.view(-1, self.num_labels), labels.view(-1))\n",
        "            elif self.config.problem_type == \"multi_label_classification\":\n",
        "                loss_fct = BCEWithLogitsLoss()\n",
        "                loss = loss_fct(logits, labels)\n",
        "\n",
        "        if not return_dict:\n",
        "            output = (logits,) + outputs[2:]\n",
        "            return ((loss,) + output) if loss is not None else output\n",
        "\n",
        "        return SpeechClassifierOutput(\n",
        "            loss=loss,\n",
        "            logits=logits,\n",
        "            hidden_states=outputs.hidden_states,\n",
        "            attentions=outputs.attentions,\n",
        "        )"
      ],
      "metadata": {
        "id": "ZDLNjzgVHaUM"
      },
      "execution_count": null,
      "outputs": []
    },
    {
      "cell_type": "code",
      "source": [
        "def demo_speech_file_to_array_fn(path):\n",
        "    speech_array, _sampling_rate = torchaudio.load(path, normalize=True)\n",
        "    resampler = torchaudio.transforms.Resample(_sampling_rate, 16_000)\n",
        "    speech = resampler(speech_array).squeeze().numpy()\n",
        "    return speech\n",
        "\n",
        "def demo_predict(path):\n",
        "    speech = demo_speech_file_to_array_fn(path)\n",
        "    features = processor(speech, sampling_rate=16_000, return_tensors=\"pt\", padding=True)\n",
        "\n",
        "    input_values = features.input_values.to(device)\n",
        "    attention_mask = features.attention_mask.to(device)\n",
        "\n",
        "    with torch.no_grad():\n",
        "        logits = model(input_values, attention_mask=attention_mask).logits\n",
        "\n",
        "    scores = F.softmax(logits, dim=1).detach().cpu().numpy()[0]\n",
        "    outputs = [{\"Emotion\": config.id2label[i], \"Score\": f\"{round(score * 100, 3):.1f}%\"} for i, score in enumerate(scores)]\n",
        "    return outputs\n",
        "  \n",
        "STYLES = \"\"\"\n",
        "<style>\n",
        "div.display_data {\n",
        "    margin: 0 auto;\n",
        "    max-width: 500px;\n",
        "}\n",
        "table.xxx {\n",
        "    margin: 50px !important;\n",
        "    float: right !important;\n",
        "    clear: both !important;\n",
        "}\n",
        "table.xxx td {\n",
        "    min-width: 300px !important;\n",
        "    text-align: center !important;\n",
        "}\n",
        "</style>\n",
        "\"\"\".strip()\n",
        "\n",
        "def prediction(df_row):\n",
        "    path, emotion = df_row[\"path\"], df_row[\"emotion\"]\n",
        "    df = pd.DataFrame([{\"Emotion\": emotion, \"Sentence\": \"    \"}])\n",
        "    setup = {\n",
        "        'border': 2,\n",
        "        'show_dimensions': True,\n",
        "        'justify': 'center',\n",
        "        'classes': 'xxx',\n",
        "        'escape': False,\n",
        "    }\n",
        "    ipd.display(ipd.HTML(STYLES + df.to_html(**setup) + \"<br />\"))\n",
        "    speech_array, sampling_rate = torchaudio.load(path)\n",
        "    resampler = torchaudio.transforms.Resample(sampling_rate, 16_000)\n",
        "    speech = resampler(speech_array).squeeze().numpy()\n",
        "    ipd.display(ipd.Audio(data=np.asarray(speech), autoplay=True, rate=16_000))\n",
        "\n",
        "    outputs = demo_predict(path)\n",
        "    r = pd.DataFrame(outputs)\n",
        "    ipd.display(ipd.HTML(STYLES + r.to_html(**setup) + \"<br />\"))\n",
        "\n",
        "test = pd.read_csv(\"/content/data/test.csv\", sep=\"\\t\")"
      ],
      "metadata": {
        "id": "5-qBpDsfRJ7Y"
      },
      "execution_count": null,
      "outputs": []
    },
    {
      "cell_type": "code",
      "source": [
        "def speech_file_to_array_fn(batch):\n",
        "    speech_array, sampling_rate = torchaudio.load(batch[\"path\"], normalize=True)\n",
        "    speech_array = speech_array\n",
        "    resampler = torchaudio.transforms.Resample(sampling_rate, 16_000)\n",
        "    speech_array = resampler(speech_array).squeeze().numpy()\n",
        "\n",
        "    batch[\"speech\"] = speech_array\n",
        "    return batch\n",
        "\n",
        "\n",
        "def predict(batch):\n",
        "    features = processor(batch[\"speech\"], sampling_rate=processor.feature_extractor.sampling_rate, return_tensors=\"pt\", padding=True)\n",
        "\n",
        "    input_values = features.input_values.to(device)\n",
        "    attention_mask = features.attention_mask.to(device)\n",
        "\n",
        "    with torch.no_grad():\n",
        "        logits = model(input_values, attention_mask=attention_mask).logits \n",
        "\n",
        "    pred_ids = torch.argmax(logits, dim=-1).detach().cpu().numpy()\n",
        "    batch[\"predicted\"] = pred_ids\n",
        "    return batch"
      ],
      "metadata": {
        "id": "SQB_vNubT_Ef"
      },
      "execution_count": null,
      "outputs": []
    },
    {
      "cell_type": "markdown",
      "source": [
        "## Download dataset"
      ],
      "metadata": {
        "id": "Xwe_IGKM80_7"
      }
    },
    {
      "cell_type": "code",
      "source": [
        "# Download the dataset from drive\n",
        "\n",
        "!mkdir -p /content/data\n",
        "!gdown https://drive.google.com/uc?id=1_IAWexEWpH-ly_JaA5EGfZDp-_3flkN1\n",
        "!unzip -q aesdd.zip -d /content/data/\n",
        "!mv \"/content/data/Acted Emotional Speech Dynamic Database/\" /content/data/aesdd/"
      ],
      "metadata": {
        "colab": {
          "base_uri": "https://localhost:8080/"
        },
        "id": "zALa9U5B84kR",
        "outputId": "b05d9f63-d6ef-46c6-9f6c-0f3c4022e390"
      },
      "execution_count": null,
      "outputs": [
        {
          "output_type": "stream",
          "name": "stdout",
          "text": [
            "Downloading...\n",
            "From: https://drive.google.com/uc?id=1_IAWexEWpH-ly_JaA5EGfZDp-_3flkN1\n",
            "To: /content/aesdd.zip\n",
            "100% 410M/410M [00:02<00:00, 184MB/s]\n"
          ]
        }
      ]
    },
    {
      "cell_type": "code",
      "source": [
        "data = []\n",
        "\n",
        "for path in tqdm(Path(\"/content/data/aesdd\").glob(\"**/*.wav\")):\n",
        "    name = str(path).split('/')[-1].split('.')[0]\n",
        "    label = str(path).split('/')[-2]\n",
        "    \n",
        "    try:\n",
        "        # There are some broken files\n",
        "        s = torchaudio.load(path)\n",
        "        data.append({\n",
        "            \"name\": name,\n",
        "            \"path\": path,\n",
        "            \"emotion\": label\n",
        "        })\n",
        "    except Exception as e:\n",
        "        # print(str(path), e)\n",
        "        pass\n",
        "\n",
        "    # break"
      ],
      "metadata": {
        "colab": {
          "base_uri": "https://localhost:8080/"
        },
        "id": "fw-FcypC9SUx",
        "outputId": "cd587320-b4e7-44f2-e045-4a016d6311fb"
      },
      "execution_count": null,
      "outputs": [
        {
          "output_type": "stream",
          "name": "stderr",
          "text": [
            "605it [00:01, 422.77it/s]\n"
          ]
        }
      ]
    },
    {
      "cell_type": "code",
      "source": [
        "df = pd.DataFrame(data)\n",
        "# Filter broken and non-existed paths\n",
        "\n",
        "print(f\"Step 0: {len(df)}\")\n",
        "\n",
        "df[\"status\"] = df[\"path\"].apply(lambda path: True if os.path.exists(path) else None)\n",
        "df = df.dropna(subset=[\"path\"])\n",
        "df = df.drop(\"status\", 1)\n",
        "print(f\"Step 1: {len(df)}\")\n",
        "\n",
        "df = df.sample(frac=1)\n",
        "df = df.reset_index(drop=True)"
      ],
      "metadata": {
        "colab": {
          "base_uri": "https://localhost:8080/"
        },
        "id": "yT-7GOvt-AQ0",
        "outputId": "c9b5327b-1070-4f3a-852a-84e54135a067"
      },
      "execution_count": null,
      "outputs": [
        {
          "output_type": "stream",
          "name": "stdout",
          "text": [
            "Step 0: 604\n",
            "Step 1: 604\n"
          ]
        }
      ]
    },
    {
      "cell_type": "markdown",
      "source": [
        "## Data Exploration\n",
        "The dataset includes a CSV file with the path to the audio files and their corresponding emotions. The emotions are labeled for happiness, anger, fear, sadness, and disgust"
      ],
      "metadata": {
        "id": "nPIx-tDs9ICS"
      }
    },
    {
      "cell_type": "code",
      "source": [
        "df.sample(10)"
      ],
      "metadata": {
        "colab": {
          "base_uri": "https://localhost:8080/",
          "height": 363
        },
        "id": "knHV_y2T9G1s",
        "outputId": "4399ae83-0f93-4ab4-c3fd-53165051a40c"
      },
      "execution_count": null,
      "outputs": [
        {
          "output_type": "execute_result",
          "data": {
            "text/html": [
              "\n",
              "  <div id=\"df-946999a7-29cc-4a65-b9e5-2cce562b28c7\">\n",
              "    <div class=\"colab-df-container\">\n",
              "      <div>\n",
              "<style scoped>\n",
              "    .dataframe tbody tr th:only-of-type {\n",
              "        vertical-align: middle;\n",
              "    }\n",
              "\n",
              "    .dataframe tbody tr th {\n",
              "        vertical-align: top;\n",
              "    }\n",
              "\n",
              "    .dataframe thead th {\n",
              "        text-align: right;\n",
              "    }\n",
              "</style>\n",
              "<table border=\"1\" class=\"dataframe\">\n",
              "  <thead>\n",
              "    <tr style=\"text-align: right;\">\n",
              "      <th></th>\n",
              "      <th>name</th>\n",
              "      <th>path</th>\n",
              "      <th>emotion</th>\n",
              "    </tr>\n",
              "  </thead>\n",
              "  <tbody>\n",
              "    <tr>\n",
              "      <th>271</th>\n",
              "      <td>d07 (4)</td>\n",
              "      <td>/content/data/aesdd/disgust/d07 (4).wav</td>\n",
              "      <td>disgust</td>\n",
              "    </tr>\n",
              "    <tr>\n",
              "      <th>24</th>\n",
              "      <td>s14 (3)</td>\n",
              "      <td>/content/data/aesdd/sadness/s14 (3).wav</td>\n",
              "      <td>sadness</td>\n",
              "    </tr>\n",
              "    <tr>\n",
              "      <th>400</th>\n",
              "      <td>d09 (3)</td>\n",
              "      <td>/content/data/aesdd/disgust/d09 (3).wav</td>\n",
              "      <td>disgust</td>\n",
              "    </tr>\n",
              "    <tr>\n",
              "      <th>163</th>\n",
              "      <td>a09 (4)</td>\n",
              "      <td>/content/data/aesdd/anger/a09 (4).wav</td>\n",
              "      <td>anger</td>\n",
              "    </tr>\n",
              "    <tr>\n",
              "      <th>315</th>\n",
              "      <td>a11 (4)</td>\n",
              "      <td>/content/data/aesdd/anger/a11 (4).wav</td>\n",
              "      <td>anger</td>\n",
              "    </tr>\n",
              "    <tr>\n",
              "      <th>348</th>\n",
              "      <td>f12 (4)</td>\n",
              "      <td>/content/data/aesdd/fear/f12 (4).wav</td>\n",
              "      <td>fear</td>\n",
              "    </tr>\n",
              "    <tr>\n",
              "      <th>44</th>\n",
              "      <td>a07 (6)</td>\n",
              "      <td>/content/data/aesdd/anger/a07 (6).wav</td>\n",
              "      <td>anger</td>\n",
              "    </tr>\n",
              "    <tr>\n",
              "      <th>579</th>\n",
              "      <td>s16 (5)</td>\n",
              "      <td>/content/data/aesdd/sadness/s16 (5).wav</td>\n",
              "      <td>sadness</td>\n",
              "    </tr>\n",
              "    <tr>\n",
              "      <th>227</th>\n",
              "      <td>h08 (6)</td>\n",
              "      <td>/content/data/aesdd/happiness/h08 (6).wav</td>\n",
              "      <td>happiness</td>\n",
              "    </tr>\n",
              "    <tr>\n",
              "      <th>442</th>\n",
              "      <td>d20 (4)</td>\n",
              "      <td>/content/data/aesdd/disgust/d20 (4).wav</td>\n",
              "      <td>disgust</td>\n",
              "    </tr>\n",
              "  </tbody>\n",
              "</table>\n",
              "</div>\n",
              "      <button class=\"colab-df-convert\" onclick=\"convertToInteractive('df-946999a7-29cc-4a65-b9e5-2cce562b28c7')\"\n",
              "              title=\"Convert this dataframe to an interactive table.\"\n",
              "              style=\"display:none;\">\n",
              "        \n",
              "  <svg xmlns=\"http://www.w3.org/2000/svg\" height=\"24px\"viewBox=\"0 0 24 24\"\n",
              "       width=\"24px\">\n",
              "    <path d=\"M0 0h24v24H0V0z\" fill=\"none\"/>\n",
              "    <path d=\"M18.56 5.44l.94 2.06.94-2.06 2.06-.94-2.06-.94-.94-2.06-.94 2.06-2.06.94zm-11 1L8.5 8.5l.94-2.06 2.06-.94-2.06-.94L8.5 2.5l-.94 2.06-2.06.94zm10 10l.94 2.06.94-2.06 2.06-.94-2.06-.94-.94-2.06-.94 2.06-2.06.94z\"/><path d=\"M17.41 7.96l-1.37-1.37c-.4-.4-.92-.59-1.43-.59-.52 0-1.04.2-1.43.59L10.3 9.45l-7.72 7.72c-.78.78-.78 2.05 0 2.83L4 21.41c.39.39.9.59 1.41.59.51 0 1.02-.2 1.41-.59l7.78-7.78 2.81-2.81c.8-.78.8-2.07 0-2.86zM5.41 20L4 18.59l7.72-7.72 1.47 1.35L5.41 20z\"/>\n",
              "  </svg>\n",
              "      </button>\n",
              "      \n",
              "  <style>\n",
              "    .colab-df-container {\n",
              "      display:flex;\n",
              "      flex-wrap:wrap;\n",
              "      gap: 12px;\n",
              "    }\n",
              "\n",
              "    .colab-df-convert {\n",
              "      background-color: #E8F0FE;\n",
              "      border: none;\n",
              "      border-radius: 50%;\n",
              "      cursor: pointer;\n",
              "      display: none;\n",
              "      fill: #1967D2;\n",
              "      height: 32px;\n",
              "      padding: 0 0 0 0;\n",
              "      width: 32px;\n",
              "    }\n",
              "\n",
              "    .colab-df-convert:hover {\n",
              "      background-color: #E2EBFA;\n",
              "      box-shadow: 0px 1px 2px rgba(60, 64, 67, 0.3), 0px 1px 3px 1px rgba(60, 64, 67, 0.15);\n",
              "      fill: #174EA6;\n",
              "    }\n",
              "\n",
              "    [theme=dark] .colab-df-convert {\n",
              "      background-color: #3B4455;\n",
              "      fill: #D2E3FC;\n",
              "    }\n",
              "\n",
              "    [theme=dark] .colab-df-convert:hover {\n",
              "      background-color: #434B5C;\n",
              "      box-shadow: 0px 1px 3px 1px rgba(0, 0, 0, 0.15);\n",
              "      filter: drop-shadow(0px 1px 2px rgba(0, 0, 0, 0.3));\n",
              "      fill: #FFFFFF;\n",
              "    }\n",
              "  </style>\n",
              "\n",
              "      <script>\n",
              "        const buttonEl =\n",
              "          document.querySelector('#df-946999a7-29cc-4a65-b9e5-2cce562b28c7 button.colab-df-convert');\n",
              "        buttonEl.style.display =\n",
              "          google.colab.kernel.accessAllowed ? 'block' : 'none';\n",
              "\n",
              "        async function convertToInteractive(key) {\n",
              "          const element = document.querySelector('#df-946999a7-29cc-4a65-b9e5-2cce562b28c7');\n",
              "          const dataTable =\n",
              "            await google.colab.kernel.invokeFunction('convertToInteractive',\n",
              "                                                     [key], {});\n",
              "          if (!dataTable) return;\n",
              "\n",
              "          const docLinkHtml = 'Like what you see? Visit the ' +\n",
              "            '<a target=\"_blank\" href=https://colab.research.google.com/notebooks/data_table.ipynb>data table notebook</a>'\n",
              "            + ' to learn more about interactive tables.';\n",
              "          element.innerHTML = '';\n",
              "          dataTable['output_type'] = 'display_data';\n",
              "          await google.colab.output.renderOutput(dataTable, element);\n",
              "          const docLink = document.createElement('div');\n",
              "          docLink.innerHTML = docLinkHtml;\n",
              "          element.appendChild(docLink);\n",
              "        }\n",
              "      </script>\n",
              "    </div>\n",
              "  </div>\n",
              "  "
            ],
            "text/plain": [
              "        name                                       path    emotion\n",
              "271  d07 (4)    /content/data/aesdd/disgust/d07 (4).wav    disgust\n",
              "24   s14 (3)    /content/data/aesdd/sadness/s14 (3).wav    sadness\n",
              "400  d09 (3)    /content/data/aesdd/disgust/d09 (3).wav    disgust\n",
              "163  a09 (4)      /content/data/aesdd/anger/a09 (4).wav      anger\n",
              "315  a11 (4)      /content/data/aesdd/anger/a11 (4).wav      anger\n",
              "348  f12 (4)       /content/data/aesdd/fear/f12 (4).wav       fear\n",
              "44   a07 (6)      /content/data/aesdd/anger/a07 (6).wav      anger\n",
              "579  s16 (5)    /content/data/aesdd/sadness/s16 (5).wav    sadness\n",
              "227  h08 (6)  /content/data/aesdd/happiness/h08 (6).wav  happiness\n",
              "442  d20 (4)    /content/data/aesdd/disgust/d20 (4).wav    disgust"
            ]
          },
          "metadata": {},
          "execution_count": 6
        }
      ]
    },
    {
      "cell_type": "code",
      "source": [
        "print(\"Labels: \", df[\"emotion\"].unique())\n",
        "print()\n",
        "df.groupby(\"emotion\").count()[[\"path\"]]"
      ],
      "metadata": {
        "colab": {
          "base_uri": "https://localhost:8080/",
          "height": 272
        },
        "id": "cUw1YbNn95HQ",
        "outputId": "34932dab-4db7-4b7a-b0a8-67807c384da6"
      },
      "execution_count": null,
      "outputs": [
        {
          "output_type": "stream",
          "name": "stdout",
          "text": [
            "Labels:  ['happiness' 'anger' 'fear' 'sadness' 'disgust']\n",
            "\n"
          ]
        },
        {
          "output_type": "execute_result",
          "data": {
            "text/html": [
              "\n",
              "  <div id=\"df-59a8f456-3dc8-46cd-aadc-92588a15f24d\">\n",
              "    <div class=\"colab-df-container\">\n",
              "      <div>\n",
              "<style scoped>\n",
              "    .dataframe tbody tr th:only-of-type {\n",
              "        vertical-align: middle;\n",
              "    }\n",
              "\n",
              "    .dataframe tbody tr th {\n",
              "        vertical-align: top;\n",
              "    }\n",
              "\n",
              "    .dataframe thead th {\n",
              "        text-align: right;\n",
              "    }\n",
              "</style>\n",
              "<table border=\"1\" class=\"dataframe\">\n",
              "  <thead>\n",
              "    <tr style=\"text-align: right;\">\n",
              "      <th></th>\n",
              "      <th>path</th>\n",
              "    </tr>\n",
              "    <tr>\n",
              "      <th>emotion</th>\n",
              "      <th></th>\n",
              "    </tr>\n",
              "  </thead>\n",
              "  <tbody>\n",
              "    <tr>\n",
              "      <th>anger</th>\n",
              "      <td>121</td>\n",
              "    </tr>\n",
              "    <tr>\n",
              "      <th>disgust</th>\n",
              "      <td>122</td>\n",
              "    </tr>\n",
              "    <tr>\n",
              "      <th>fear</th>\n",
              "      <td>120</td>\n",
              "    </tr>\n",
              "    <tr>\n",
              "      <th>happiness</th>\n",
              "      <td>119</td>\n",
              "    </tr>\n",
              "    <tr>\n",
              "      <th>sadness</th>\n",
              "      <td>122</td>\n",
              "    </tr>\n",
              "  </tbody>\n",
              "</table>\n",
              "</div>\n",
              "      <button class=\"colab-df-convert\" onclick=\"convertToInteractive('df-59a8f456-3dc8-46cd-aadc-92588a15f24d')\"\n",
              "              title=\"Convert this dataframe to an interactive table.\"\n",
              "              style=\"display:none;\">\n",
              "        \n",
              "  <svg xmlns=\"http://www.w3.org/2000/svg\" height=\"24px\"viewBox=\"0 0 24 24\"\n",
              "       width=\"24px\">\n",
              "    <path d=\"M0 0h24v24H0V0z\" fill=\"none\"/>\n",
              "    <path d=\"M18.56 5.44l.94 2.06.94-2.06 2.06-.94-2.06-.94-.94-2.06-.94 2.06-2.06.94zm-11 1L8.5 8.5l.94-2.06 2.06-.94-2.06-.94L8.5 2.5l-.94 2.06-2.06.94zm10 10l.94 2.06.94-2.06 2.06-.94-2.06-.94-.94-2.06-.94 2.06-2.06.94z\"/><path d=\"M17.41 7.96l-1.37-1.37c-.4-.4-.92-.59-1.43-.59-.52 0-1.04.2-1.43.59L10.3 9.45l-7.72 7.72c-.78.78-.78 2.05 0 2.83L4 21.41c.39.39.9.59 1.41.59.51 0 1.02-.2 1.41-.59l7.78-7.78 2.81-2.81c.8-.78.8-2.07 0-2.86zM5.41 20L4 18.59l7.72-7.72 1.47 1.35L5.41 20z\"/>\n",
              "  </svg>\n",
              "      </button>\n",
              "      \n",
              "  <style>\n",
              "    .colab-df-container {\n",
              "      display:flex;\n",
              "      flex-wrap:wrap;\n",
              "      gap: 12px;\n",
              "    }\n",
              "\n",
              "    .colab-df-convert {\n",
              "      background-color: #E8F0FE;\n",
              "      border: none;\n",
              "      border-radius: 50%;\n",
              "      cursor: pointer;\n",
              "      display: none;\n",
              "      fill: #1967D2;\n",
              "      height: 32px;\n",
              "      padding: 0 0 0 0;\n",
              "      width: 32px;\n",
              "    }\n",
              "\n",
              "    .colab-df-convert:hover {\n",
              "      background-color: #E2EBFA;\n",
              "      box-shadow: 0px 1px 2px rgba(60, 64, 67, 0.3), 0px 1px 3px 1px rgba(60, 64, 67, 0.15);\n",
              "      fill: #174EA6;\n",
              "    }\n",
              "\n",
              "    [theme=dark] .colab-df-convert {\n",
              "      background-color: #3B4455;\n",
              "      fill: #D2E3FC;\n",
              "    }\n",
              "\n",
              "    [theme=dark] .colab-df-convert:hover {\n",
              "      background-color: #434B5C;\n",
              "      box-shadow: 0px 1px 3px 1px rgba(0, 0, 0, 0.15);\n",
              "      filter: drop-shadow(0px 1px 2px rgba(0, 0, 0, 0.3));\n",
              "      fill: #FFFFFF;\n",
              "    }\n",
              "  </style>\n",
              "\n",
              "      <script>\n",
              "        const buttonEl =\n",
              "          document.querySelector('#df-59a8f456-3dc8-46cd-aadc-92588a15f24d button.colab-df-convert');\n",
              "        buttonEl.style.display =\n",
              "          google.colab.kernel.accessAllowed ? 'block' : 'none';\n",
              "\n",
              "        async function convertToInteractive(key) {\n",
              "          const element = document.querySelector('#df-59a8f456-3dc8-46cd-aadc-92588a15f24d');\n",
              "          const dataTable =\n",
              "            await google.colab.kernel.invokeFunction('convertToInteractive',\n",
              "                                                     [key], {});\n",
              "          if (!dataTable) return;\n",
              "\n",
              "          const docLinkHtml = 'Like what you see? Visit the ' +\n",
              "            '<a target=\"_blank\" href=https://colab.research.google.com/notebooks/data_table.ipynb>data table notebook</a>'\n",
              "            + ' to learn more about interactive tables.';\n",
              "          element.innerHTML = '';\n",
              "          dataTable['output_type'] = 'display_data';\n",
              "          await google.colab.output.renderOutput(dataTable, element);\n",
              "          const docLink = document.createElement('div');\n",
              "          docLink.innerHTML = docLinkHtml;\n",
              "          element.appendChild(docLink);\n",
              "        }\n",
              "      </script>\n",
              "    </div>\n",
              "  </div>\n",
              "  "
            ],
            "text/plain": [
              "           path\n",
              "emotion        \n",
              "anger       121\n",
              "disgust     122\n",
              "fear        120\n",
              "happiness   119\n",
              "sadness     122"
            ]
          },
          "metadata": {},
          "execution_count": 7
        }
      ]
    },
    {
      "cell_type": "markdown",
      "source": [
        "Listen to a random audio sample from the dataset"
      ],
      "metadata": {
        "id": "vEdHFQKySpch"
      }
    },
    {
      "cell_type": "code",
      "source": [
        "import IPython.display as ipd\n",
        "\n",
        "idx = np.random.randint(0, len(df))\n",
        "sample = df.iloc[idx]\n",
        "path = sample[\"path\"]\n",
        "label = sample[\"emotion\"]\n",
        "\n",
        "\n",
        "print(f\"ID Location: {idx}\")\n",
        "print(f\"      Label: {label}\")\n",
        "print()\n",
        "\n",
        "speech, sr = torchaudio.load(path)\n",
        "speech = speech[0]\n",
        "resampler = torchaudio.transforms.Resample(sr, 16_000)\n",
        "speech = resampler(speech).numpy().squeeze()\n",
        "ipd.Audio(data=np.asarray(speech), autoplay=True, rate=16000)"
      ],
      "metadata": {
        "colab": {
          "base_uri": "https://localhost:8080/",
          "height": 127
        },
        "id": "pfL3qE5k_U0Z",
        "outputId": "379cab75-4a0e-4538-9fd8-193d7771ef19"
      },
      "execution_count": null,
      "outputs": [
        {
          "output_type": "stream",
          "name": "stdout",
          "text": [
            "ID Location: 226\n",
            "      Label: fear\n",
            "\n"
          ]
        },
        {
          "output_type": "execute_result",
          "data": {
            "text/html": [
              "\n",
              "                <audio controls=\"controls\" autoplay=\"autoplay\">\n",
              "                    <source src=\"data:audio/wav;base64,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\" type=\"audio/wav\" />\n",
              "                    Your browser does not support the audio element.\n",
              "                </audio>\n",
              "              "
            ],
            "text/plain": [
              "<IPython.lib.display.Audio object>"
            ]
          },
          "metadata": {},
          "execution_count": 9
        }
      ]
    },
    {
      "cell_type": "markdown",
      "source": [
        "# Train test split"
      ],
      "metadata": {
        "id": "e7UF2vSc_uZ1"
      }
    },
    {
      "cell_type": "markdown",
      "source": [
        "The dataset is split into training and testing data with 20% set aside for testing. Note that it uses stratify by \"emotion\" such that the distribution of each emotion across datasets remain the same"
      ],
      "metadata": {
        "id": "TE95dZJ1Subl"
      }
    },
    {
      "cell_type": "code",
      "source": [
        "save_path = \"/content/data\"\n",
        "\n",
        "train_df, test_df = train_test_split(df, test_size=0.2, random_state=101, stratify=df[\"emotion\"])\n",
        "\n",
        "train_df = train_df.reset_index(drop=True)\n",
        "test_df = test_df.reset_index(drop=True)\n",
        "\n",
        "train_df.to_csv(f\"{save_path}/train.csv\", sep=\"\\t\", encoding=\"utf-8\", index=False)\n",
        "test_df.to_csv(f\"{save_path}/test.csv\", sep=\"\\t\", encoding=\"utf-8\", index=False)\n",
        "\n",
        "\n",
        "print(train_df.shape)\n",
        "print(test_df.shape)"
      ],
      "metadata": {
        "colab": {
          "base_uri": "https://localhost:8080/"
        },
        "id": "rpeHLeM8_yzv",
        "outputId": "6f924d3b-3be7-47ff-a00d-071d00aea403"
      },
      "execution_count": null,
      "outputs": [
        {
          "output_type": "stream",
          "name": "stdout",
          "text": [
            "(483, 3)\n",
            "(121, 3)\n"
          ]
        }
      ]
    },
    {
      "cell_type": "markdown",
      "source": [
        "# Download our trained model from Weights and Biases\n",
        "I have separated the training code into a script so it can be trained on a virtual machine with stronger GPU. Here, we just download the trained model from an online repository"
      ],
      "metadata": {
        "id": "_b_H-dDzAYvj"
      }
    },
    {
      "cell_type": "code",
      "source": [
        "import wandb\n",
        "\n",
        "with wandb.init(project = \"EE286_final_project\") as run:\n",
        "  artifact = run.use_artifact('khizon/EE286_final_project/aesdd_classifier:v0', type='model')\n",
        "  artifact_dir = artifact.download()"
      ],
      "metadata": {
        "colab": {
          "base_uri": "https://localhost:8080/",
          "height": 159,
          "referenced_widgets": [
            "0ef3acc3f86141888c531ff7728a4afd",
            "34d45f842b6841ef88787c411373e385",
            "3b9f0ef925ae4f9db77f0b654cf4fbae",
            "f8b25a996bc6469190079f55a72f0f1d",
            "984c3f0eb61d4b5eb75d03b9342f84c1",
            "87510216247e4b90b1da64dd5a804339",
            "f50b7c5090dd4520b0608ceebc77252a",
            "95bcb95904ab425597367a8eeed4425a"
          ]
        },
        "id": "yEA3Psh7AeLB",
        "outputId": "ce7606dd-4183-414c-f159-d6481f4302c4"
      },
      "execution_count": null,
      "outputs": [
        {
          "output_type": "display_data",
          "data": {
            "text/html": [
              "\n",
              "                    Syncing run <strong><a href=\"https://wandb.ai/khizon/EE286_final_project/runs/3q6zxxc8\" target=\"_blank\">unique-serenity-11</a></strong> to <a href=\"https://wandb.ai/khizon/EE286_final_project\" target=\"_blank\">Weights & Biases</a> (<a href=\"https://docs.wandb.com/integrations/jupyter.html\" target=\"_blank\">docs</a>).<br/>\n",
              "\n",
              "                "
            ],
            "text/plain": [
              "<IPython.core.display.HTML object>"
            ]
          },
          "metadata": {}
        },
        {
          "output_type": "stream",
          "name": "stderr",
          "text": [
            "\u001b[34m\u001b[1mwandb\u001b[0m: Downloading large artifact aesdd_classifier:v0, 3590.27MB. 9 files... Done. 0:0:0\n"
          ]
        },
        {
          "output_type": "display_data",
          "data": {
            "text/html": [
              "<br/>Waiting for W&B process to finish, PID 1440... <strong style=\"color:green\">(success).</strong>"
            ],
            "text/plain": [
              "<IPython.core.display.HTML object>"
            ]
          },
          "metadata": {}
        },
        {
          "output_type": "display_data",
          "data": {
            "application/vnd.jupyter.widget-view+json": {
              "model_id": "0ef3acc3f86141888c531ff7728a4afd",
              "version_minor": 0,
              "version_major": 2
            },
            "text/plain": [
              "VBox(children=(Label(value=' 0.00MB of 0.00MB uploaded (0.00MB deduped)\\r'), FloatProgress(value=1.0, max=1.0)…"
            ]
          },
          "metadata": {}
        },
        {
          "output_type": "display_data",
          "data": {
            "text/html": [
              "<style>\n",
              "    table.wandb td:nth-child(1) { padding: 0 10px; text-align: right }\n",
              "    .wandb-row { display: flex; flex-direction: row; flex-wrap: wrap; width: 100% }\n",
              "    .wandb-col { display: flex; flex-direction: column; flex-basis: 100%; flex: 1; padding: 10px; }\n",
              "    </style>\n",
              "<div class=\"wandb-row\"><div class=\"wandb-col\">\n",
              "</div><div class=\"wandb-col\">\n",
              "</div></div>\n",
              "Synced 5 W&B file(s), 0 media file(s), 0 artifact file(s) and 0 other file(s)\n",
              "<br/>Synced <strong style=\"color:#cdcd00\">unique-serenity-11</strong>: <a href=\"https://wandb.ai/khizon/EE286_final_project/runs/3q6zxxc8\" target=\"_blank\">https://wandb.ai/khizon/EE286_final_project/runs/3q6zxxc8</a><br/>\n",
              "Find logs at: <code>./wandb/run-20220106_025336-3q6zxxc8/logs</code><br/>\n"
            ],
            "text/plain": [
              "<IPython.core.display.HTML object>"
            ]
          },
          "metadata": {}
        }
      ]
    },
    {
      "cell_type": "markdown",
      "source": [
        "## Instantiate our model objects with their pre-trained weights.\n",
        "Our processor still uses the trained weights from the generic Greek model that we used for training, while our classifier uses the trained weights that we downloaded earlier"
      ],
      "metadata": {
        "id": "Hq1q_4pFGjWL"
      }
    },
    {
      "cell_type": "code",
      "source": [
        "device = torch.device(\"cuda\" if torch.cuda.is_available() else \"cpu\")\n",
        "print(f\"Device: {device}\")\n",
        "\n",
        "model_name_or_path = \"artifacts/aesdd_classifier:v0\"\n",
        "generic_greek_model = \"lighteternal/wav2vec2-large-xlsr-53-greek\"\n",
        "config = AutoConfig.from_pretrained(model_name_or_path)\n",
        "processor = Wav2Vec2Processor.from_pretrained(generic_greek_model)\n",
        "model = Wav2Vec2ForSpeechClassification.from_pretrained(model_name_or_path).to(device)"
      ],
      "metadata": {
        "colab": {
          "base_uri": "https://localhost:8080/"
        },
        "id": "bXC2IqTmGqwl",
        "outputId": "354b9fe3-3129-4969-ad16-c0cd2aa413de"
      },
      "execution_count": null,
      "outputs": [
        {
          "output_type": "stream",
          "name": "stdout",
          "text": [
            "Device: cpu\n"
          ]
        },
        {
          "output_type": "stream",
          "name": "stderr",
          "text": [
            "/usr/local/lib/python3.7/dist-packages/transformers/configuration_utils.py:350: UserWarning: Passing `gradient_checkpointing` to a config initialization is deprecated and will be removed in v5 Transformers. Using `model.gradient_checkpointing_enable()` instead, or if you are using the `Trainer` API, pass `gradient_checkpointing=True` in your `TrainingArguments`.\n",
            "  \"Passing `gradient_checkpointing` to a config initialization is deprecated and will be removed in v5 \"\n",
            "Special tokens have been added in the vocabulary, make sure the associated word embeddings are fine-tuned or trained.\n"
          ]
        }
      ]
    },
    {
      "cell_type": "markdown",
      "source": [
        "## Load our test dataset and apply the processing/tokenization"
      ],
      "metadata": {
        "id": "NF1RBe70HpsZ"
      }
    },
    {
      "cell_type": "code",
      "source": [
        "test_dataset = load_dataset(\"csv\", data_files={\"test\": \"/content/data/test.csv\"}, delimiter=\"\\t\")[\"test\"]\n",
        "test_dataset"
      ],
      "metadata": {
        "colab": {
          "base_uri": "https://localhost:8080/",
          "height": 153,
          "referenced_widgets": [
            "4a780493904c4a69b1d1ea0f2b50af48",
            "ca087c5972e34f38b74f74f517b47db3",
            "c5cbd4bdd6d54ce3be4175ab5a782548",
            "c352b4bd108044c78ff25d5b0d450b88",
            "83d872152ab84202b1d75d4eb627ad78",
            "83121900b7ce4eafa2e00f1fed9aeb52",
            "7f6d5838423e40d68fa04487803f24ef",
            "e9480509aed74bb3bb5131d4c5c19daa",
            "3a432cfb2e1e44d2a958cc2abaa262f8",
            "d3cdf1d4902b4540b14fd02b5bb33c75",
            "2b9f69688bdf418fb01455a429bc0598"
          ]
        },
        "id": "JXdIVTfRHo0T",
        "outputId": "fc6b4d78-c0af-497b-f8c9-58502e4fb453"
      },
      "execution_count": null,
      "outputs": [
        {
          "output_type": "stream",
          "name": "stderr",
          "text": [
            "Using custom data configuration default-d30b63be42a4947d\n",
            "Reusing dataset csv (/root/.cache/huggingface/datasets/csv/default-d30b63be42a4947d/0.0.0/6b9057d9e23d9d8a2f05b985917a0da84d70c5dae3d22ddd8a3f22fb01c69d9e)\n"
          ]
        },
        {
          "output_type": "display_data",
          "data": {
            "application/vnd.jupyter.widget-view+json": {
              "model_id": "4a780493904c4a69b1d1ea0f2b50af48",
              "version_minor": 0,
              "version_major": 2
            },
            "text/plain": [
              "  0%|          | 0/1 [00:00<?, ?it/s]"
            ]
          },
          "metadata": {}
        },
        {
          "output_type": "execute_result",
          "data": {
            "text/plain": [
              "Dataset({\n",
              "    features: ['name', 'path', 'emotion'],\n",
              "    num_rows: 121\n",
              "})"
            ]
          },
          "metadata": {},
          "execution_count": 92
        }
      ]
    },
    {
      "cell_type": "code",
      "source": [
        "test_dataset = test_dataset.map(speech_file_to_array_fn)"
      ],
      "metadata": {
        "colab": {
          "base_uri": "https://localhost:8080/",
          "height": 49,
          "referenced_widgets": [
            "384274a9803341bd85f9fb6436fccd19",
            "6417f1aeef4a4b4d867ce851ef7e10a5",
            "c09323679c6042c18690d06646598f9b",
            "0efed5cf28654822940b25380b2f28b6",
            "b0e9efacbbc34057a2b5fb4b33d835b7",
            "417b0d19eb8e4daa9c9214d236bdced6",
            "406129ccebdc440990992330f0b767c8",
            "c4932bb5e64143668860015e7b3b8c0b",
            "76e681baad7c40478adca8aff9a26217",
            "ef433047e4eb4d9c9b05cece1a66801d",
            "3ff3329ae3ea4d88bdd8a9bc604f4ca0"
          ]
        },
        "id": "vQl1pry6H6v4",
        "outputId": "877e1fd0-0792-4b69-a326-c7f0426a0717"
      },
      "execution_count": null,
      "outputs": [
        {
          "output_type": "display_data",
          "data": {
            "application/vnd.jupyter.widget-view+json": {
              "model_id": "384274a9803341bd85f9fb6436fccd19",
              "version_minor": 0,
              "version_major": 2
            },
            "text/plain": [
              "  0%|          | 0/121 [00:00<?, ?ex/s]"
            ]
          },
          "metadata": {}
        }
      ]
    },
    {
      "cell_type": "markdown",
      "source": [
        "## Prediction\n",
        "We now use our test set as input to our trained model to get predictions. This might take a while depending if your colab instance has a GPU or not."
      ],
      "metadata": {
        "id": "Ly38lBfNIBbM"
      }
    },
    {
      "cell_type": "code",
      "source": [
        "result = test_dataset.map(predict, batched=True, batch_size=8)"
      ],
      "metadata": {
        "colab": {
          "base_uri": "https://localhost:8080/",
          "height": 104,
          "referenced_widgets": [
            "2f9ccbc3c410463fa8bcfbbe195e7782",
            "933f6ecb27cb45fa8b226b7acc5d622e",
            "1937e7bb2b9940d7842c8c46b75531fd",
            "7c3495f6ea3142949ce8420a070bddc0",
            "0d1b7210b3294fe7a5786021a71947bf",
            "c7590403e35048198ddfc25d78e67709",
            "69bcf43356dc4b8f9bb6398d5c3a19b5",
            "c6b0776a4f2d4c21855ca772bdc9dc25",
            "4a3c1c68a68840128a5171997c42d1fb",
            "fcf869c5dc154a9ca92eba79c4921c54",
            "9f33e1487937453b948d7b2ec7d1e541"
          ]
        },
        "id": "Vx8nujrwID-n",
        "outputId": "340339ed-eb4d-47da-8d50-7b872e69cd7b"
      },
      "execution_count": null,
      "outputs": [
        {
          "output_type": "display_data",
          "data": {
            "application/vnd.jupyter.widget-view+json": {
              "model_id": "2f9ccbc3c410463fa8bcfbbe195e7782",
              "version_minor": 0,
              "version_major": 2
            },
            "text/plain": [
              "  0%|          | 0/16 [00:00<?, ?ba/s]"
            ]
          },
          "metadata": {}
        },
        {
          "output_type": "stream",
          "name": "stderr",
          "text": [
            "/usr/local/lib/python3.7/dist-packages/transformers/models/wav2vec2/modeling_wav2vec2.py:1107: UserWarning: __floordiv__ is deprecated, and its behavior will change in a future version of pytorch. It currently rounds toward 0 (like the 'trunc' function NOT 'floor'). This results in incorrect rounding for negative values. To keep the current behavior, use torch.div(a, b, rounding_mode='trunc'), or for actual floor division, use torch.div(a, b, rounding_mode='floor').\n",
            "  return (input_length - kernel_size) // stride + 1\n"
          ]
        }
      ]
    },
    {
      "cell_type": "code",
      "source": [
        "label_names = [config.id2label[i] for i in range(config.num_labels)]\n",
        "print(label_names)\n",
        "y_true = [config.label2id[name] for name in result[\"emotion\"]]\n",
        "y_pred = result[\"predicted\"]"
      ],
      "metadata": {
        "colab": {
          "base_uri": "https://localhost:8080/"
        },
        "id": "AuEy35oxIYu0",
        "outputId": "0137a56b-7a34-474b-8bfa-c40ce5dc0b99"
      },
      "execution_count": null,
      "outputs": [
        {
          "output_type": "stream",
          "name": "stdout",
          "text": [
            "['anger', 'disgust', 'fear', 'happiness', 'sadness']\n"
          ]
        }
      ]
    },
    {
      "cell_type": "markdown",
      "source": [
        "Our model achieved an overall score of 88% accuracy. It's lowest precision and recall is on \"happiness\". On the confusion matrix below some happiness audio are labeled as anger, while some fear and disgust audio are labeled as happiness"
      ],
      "metadata": {
        "id": "9YUqqsZWUZoO"
      }
    },
    {
      "cell_type": "code",
      "source": [
        "print(classification_report(y_true, y_pred, target_names=label_names))"
      ],
      "metadata": {
        "colab": {
          "base_uri": "https://localhost:8080/"
        },
        "id": "8_R9ZcBtLvaR",
        "outputId": "7050a7c5-f872-400a-c298-36ec88a8871e"
      },
      "execution_count": null,
      "outputs": [
        {
          "output_type": "stream",
          "name": "stdout",
          "text": [
            "              precision    recall  f1-score   support\n",
            "\n",
            "       anger       0.86      1.00      0.92        24\n",
            "     disgust       0.91      0.83      0.87        24\n",
            "        fear       0.90      0.79      0.84        24\n",
            "   happiness       0.78      0.75      0.77        24\n",
            "     sadness       0.93      1.00      0.96        25\n",
            "\n",
            "    accuracy                           0.88       121\n",
            "   macro avg       0.88      0.88      0.87       121\n",
            "weighted avg       0.88      0.88      0.87       121\n",
            "\n"
          ]
        }
      ]
    },
    {
      "cell_type": "code",
      "source": [
        "y_pred_label = [config.id2label[i] for i in result[\"predicted\"]]\n",
        "y_true_label = result[\"emotion\"]"
      ],
      "metadata": {
        "id": "zwvWAH8TMP9j"
      },
      "execution_count": null,
      "outputs": []
    },
    {
      "cell_type": "code",
      "source": [
        "cm = confusion_matrix(y_true_label, y_pred_label, labels = label_names)\n",
        "sns.heatmap(cm, square=True,\n",
        "            xticklabels = label_names, yticklabels=label_names,\n",
        "            annot=True, fmt=\"d\")\n",
        "plt.ylabel('True label')\n",
        "_ = plt.xlabel('Predicted label')"
      ],
      "metadata": {
        "colab": {
          "base_uri": "https://localhost:8080/",
          "height": 335
        },
        "id": "D1vfBGpMLzd0",
        "outputId": "028c7cf9-6a47-4ac7-cd8d-7762ae009726"
      },
      "execution_count": null,
      "outputs": [
        {
          "output_type": "display_data",
          "data": {
            "image/png": "[encoded data removed]",
            "text/plain": [
              "<Figure size 432x288 with 2 Axes>"
            ]
          },
          "metadata": {}
        }
      ]
    },
    {
      "cell_type": "markdown",
      "source": [
        "## Demonstration\n",
        "In this demonstration, we take a random sample from our test set and show the predicted probabilities of the classes"
      ],
      "metadata": {
        "id": "ufaiuHNqOm-_"
      }
    },
    {
      "cell_type": "code",
      "source": [
        "idx = np.random.randint(0, len(test))\n",
        "prediction(test.iloc[idx])"
      ],
      "metadata": {
        "colab": {
          "base_uri": "https://localhost:8080/",
          "height": 676
        },
        "id": "Jo4uriT3PBlv",
        "outputId": "a7baaa77-b851-4195-9478-b0731fa9f031"
      },
      "execution_count": null,
      "outputs": [
        {
          "output_type": "display_data",
          "data": {
            "text/html": [
              "<style>\n",
              "div.display_data {\n",
              "    margin: 0 auto;\n",
              "    max-width: 500px;\n",
              "}\n",
              "table.xxx {\n",
              "    margin: 50px !important;\n",
              "    float: right !important;\n",
              "    clear: both !important;\n",
              "}\n",
              "table.xxx td {\n",
              "    min-width: 300px !important;\n",
              "    text-align: center !important;\n",
              "}\n",
              "</style><table border=\"2\" class=\"dataframe xxx\">\n",
              "  <thead>\n",
              "    <tr style=\"text-align: center;\">\n",
              "      <th></th>\n",
              "      <th>Emotion</th>\n",
              "      <th>Sentence</th>\n",
              "    </tr>\n",
              "  </thead>\n",
              "  <tbody>\n",
              "    <tr>\n",
              "      <th>0</th>\n",
              "      <td>happiness</td>\n",
              "      <td></td>\n",
              "    </tr>\n",
              "  </tbody>\n",
              "</table>\n",
              "<p>1 rows × 2 columns</p><br />"
            ],
            "text/plain": [
              "<IPython.core.display.HTML object>"
            ]
          },
          "metadata": {}
        },
        {
          "output_type": "display_data",
          "data": {
            "text/html": [
              "\n",
              "                <audio controls=\"controls\" autoplay=\"autoplay\">\n",
              "                    <source src=\"data:audio/wav;base64,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\" type=\"audio/wav\" />\n",
              "                    Your browser does not support the audio element.\n",
              "                </audio>\n",
              "              "
            ],
            "text/plain": [
              "<IPython.lib.display.Audio object>"
            ]
          },
          "metadata": {}
        },
        {
          "output_type": "stream",
          "name": "stderr",
          "text": [
            "/usr/local/lib/python3.7/dist-packages/transformers/models/wav2vec2/modeling_wav2vec2.py:1107: UserWarning: __floordiv__ is deprecated, and its behavior will change in a future version of pytorch. It currently rounds toward 0 (like the 'trunc' function NOT 'floor'). This results in incorrect rounding for negative values. To keep the current behavior, use torch.div(a, b, rounding_mode='trunc'), or for actual floor division, use torch.div(a, b, rounding_mode='floor').\n",
            "  return (input_length - kernel_size) // stride + 1\n"
          ]
        },
        {
          "output_type": "display_data",
          "data": {
            "text/html": [
              "<style>\n",
              "div.display_data {\n",
              "    margin: 0 auto;\n",
              "    max-width: 500px;\n",
              "}\n",
              "table.xxx {\n",
              "    margin: 50px !important;\n",
              "    float: right !important;\n",
              "    clear: both !important;\n",
              "}\n",
              "table.xxx td {\n",
              "    min-width: 300px !important;\n",
              "    text-align: center !important;\n",
              "}\n",
              "</style><table border=\"2\" class=\"dataframe xxx\">\n",
              "  <thead>\n",
              "    <tr style=\"text-align: center;\">\n",
              "      <th></th>\n",
              "      <th>Emotion</th>\n",
              "      <th>Score</th>\n",
              "    </tr>\n",
              "  </thead>\n",
              "  <tbody>\n",
              "    <tr>\n",
              "      <th>0</th>\n",
              "      <td>anger</td>\n",
              "      <td>4.2%</td>\n",
              "    </tr>\n",
              "    <tr>\n",
              "      <th>1</th>\n",
              "      <td>disgust</td>\n",
              "      <td>10.6%</td>\n",
              "    </tr>\n",
              "    <tr>\n",
              "      <th>2</th>\n",
              "      <td>fear</td>\n",
              "      <td>2.3%</td>\n",
              "    </tr>\n",
              "    <tr>\n",
              "      <th>3</th>\n",
              "      <td>happiness</td>\n",
              "      <td>82.6%</td>\n",
              "    </tr>\n",
              "    <tr>\n",
              "      <th>4</th>\n",
              "      <td>sadness</td>\n",
              "      <td>0.3%</td>\n",
              "    </tr>\n",
              "  </tbody>\n",
              "</table>\n",
              "<p>5 rows × 2 columns</p><br />"
            ],
            "text/plain": [
              "<IPython.core.display.HTML object>"
            ]
          },
          "metadata": {}
        }
      ]
    }
  ]
}