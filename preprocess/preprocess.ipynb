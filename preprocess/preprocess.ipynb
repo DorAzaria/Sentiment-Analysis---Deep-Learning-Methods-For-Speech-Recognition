{
  "nbformat": 4,
  "nbformat_minor": 0,
  "metadata": {
    "colab": {
      "name": "preprocess.ipynb",
      "provenance": [],
      "machine_shape": "hm",
      "authorship_tag": "ABX9TyN1atBxdTDp4GSLsgf4guXf",
      "include_colab_link": true
    },
    "kernelspec": {
      "name": "python3",
      "display_name": "Python 3"
    },
    "language_info": {
      "name": "python"
    },
    "accelerator": "GPU",
    "widgets": {
      "application/vnd.jupyter.widget-state+json": {
        "6e0f607c451a4560bba0984f9a6771bc": {
          "model_module": "@jupyter-widgets/controls",
          "model_name": "HBoxModel",
          "model_module_version": "1.5.0",
          "state": {
            "_dom_classes": [],
            "_model_module": "@jupyter-widgets/controls",
            "_model_module_version": "1.5.0",
            "_model_name": "HBoxModel",
            "_view_count": null,
            "_view_module": "@jupyter-widgets/controls",
            "_view_module_version": "1.5.0",
            "_view_name": "HBoxView",
            "box_style": "",
            "children": [
              "IPY_MODEL_8ca830a07e8a4c4abdbf7817f15d6688",
              "IPY_MODEL_1afb124c76194cbdb681f77077141374",
              "IPY_MODEL_5d52487739bf4017b3b466ed013fa8b6"
            ],
            "layout": "IPY_MODEL_b930a48a0a1442138eabdf7827585c9c"
          }
        },
        "8ca830a07e8a4c4abdbf7817f15d6688": {
          "model_module": "@jupyter-widgets/controls",
          "model_name": "HTMLModel",
          "model_module_version": "1.5.0",
          "state": {
            "_dom_classes": [],
            "_model_module": "@jupyter-widgets/controls",
            "_model_module_version": "1.5.0",
            "_model_name": "HTMLModel",
            "_view_count": null,
            "_view_module": "@jupyter-widgets/controls",
            "_view_module_version": "1.5.0",
            "_view_name": "HTMLView",
            "description": "",
            "description_tooltip": null,
            "layout": "IPY_MODEL_1cb48c27b0684f45a8fe120660f8597c",
            "placeholder": "​",
            "style": "IPY_MODEL_fb9bdbaf420a40d2a061a5b276bd374c",
            "value": "100%"
          }
        },
        "1afb124c76194cbdb681f77077141374": {
          "model_module": "@jupyter-widgets/controls",
          "model_name": "FloatProgressModel",
          "model_module_version": "1.5.0",
          "state": {
            "_dom_classes": [],
            "_model_module": "@jupyter-widgets/controls",
            "_model_module_version": "1.5.0",
            "_model_name": "FloatProgressModel",
            "_view_count": null,
            "_view_module": "@jupyter-widgets/controls",
            "_view_module_version": "1.5.0",
            "_view_name": "ProgressView",
            "bar_style": "success",
            "description": "",
            "description_tooltip": null,
            "layout": "IPY_MODEL_46e13263892e491686081e42f8e0ee7c",
            "max": 377664473,
            "min": 0,
            "orientation": "horizontal",
            "style": "IPY_MODEL_a1743ff7ee7f45e68e46ec72085b1394",
            "value": 377664473
          }
        },
        "5d52487739bf4017b3b466ed013fa8b6": {
          "model_module": "@jupyter-widgets/controls",
          "model_name": "HTMLModel",
          "model_module_version": "1.5.0",
          "state": {
            "_dom_classes": [],
            "_model_module": "@jupyter-widgets/controls",
            "_model_module_version": "1.5.0",
            "_model_name": "HTMLModel",
            "_view_count": null,
            "_view_module": "@jupyter-widgets/controls",
            "_view_module_version": "1.5.0",
            "_view_name": "HTMLView",
            "description": "",
            "description_tooltip": null,
            "layout": "IPY_MODEL_61135841210345d8b1f56e7f12744ca0",
            "placeholder": "​",
            "style": "IPY_MODEL_bc1b0d480a874e4a837a36cb329edfcd",
            "value": " 360M/360M [00:06&lt;00:00, 66.4MB/s]"
          }
        },
        "b930a48a0a1442138eabdf7827585c9c": {
          "model_module": "@jupyter-widgets/base",
          "model_name": "LayoutModel",
          "model_module_version": "1.2.0",
          "state": {
            "_model_module": "@jupyter-widgets/base",
            "_model_module_version": "1.2.0",
            "_model_name": "LayoutModel",
            "_view_count": null,
            "_view_module": "@jupyter-widgets/base",
            "_view_module_version": "1.2.0",
            "_view_name": "LayoutView",
            "align_content": null,
            "align_items": null,
            "align_self": null,
            "border": null,
            "bottom": null,
            "display": null,
            "flex": null,
            "flex_flow": null,
            "grid_area": null,
            "grid_auto_columns": null,
            "grid_auto_flow": null,
            "grid_auto_rows": null,
            "grid_column": null,
            "grid_gap": null,
            "grid_row": null,
            "grid_template_areas": null,
            "grid_template_columns": null,
            "grid_template_rows": null,
            "height": null,
            "justify_content": null,
            "justify_items": null,
            "left": null,
            "margin": null,
            "max_height": null,
            "max_width": null,
            "min_height": null,
            "min_width": null,
            "object_fit": null,
            "object_position": null,
            "order": null,
            "overflow": null,
            "overflow_x": null,
            "overflow_y": null,
            "padding": null,
            "right": null,
            "top": null,
            "visibility": null,
            "width": null
          }
        },
        "1cb48c27b0684f45a8fe120660f8597c": {
          "model_module": "@jupyter-widgets/base",
          "model_name": "LayoutModel",
          "model_module_version": "1.2.0",
          "state": {
            "_model_module": "@jupyter-widgets/base",
            "_model_module_version": "1.2.0",
            "_model_name": "LayoutModel",
            "_view_count": null,
            "_view_module": "@jupyter-widgets/base",
            "_view_module_version": "1.2.0",
            "_view_name": "LayoutView",
            "align_content": null,
            "align_items": null,
            "align_self": null,
            "border": null,
            "bottom": null,
            "display": null,
            "flex": null,
            "flex_flow": null,
            "grid_area": null,
            "grid_auto_columns": null,
            "grid_auto_flow": null,
            "grid_auto_rows": null,
            "grid_column": null,
            "grid_gap": null,
            "grid_row": null,
            "grid_template_areas": null,
            "grid_template_columns": null,
            "grid_template_rows": null,
            "height": null,
            "justify_content": null,
            "justify_items": null,
            "left": null,
            "margin": null,
            "max_height": null,
            "max_width": null,
            "min_height": null,
            "min_width": null,
            "object_fit": null,
            "object_position": null,
            "order": null,
            "overflow": null,
            "overflow_x": null,
            "overflow_y": null,
            "padding": null,
            "right": null,
            "top": null,
            "visibility": null,
            "width": null
          }
        },
        "fb9bdbaf420a40d2a061a5b276bd374c": {
          "model_module": "@jupyter-widgets/controls",
          "model_name": "DescriptionStyleModel",
          "model_module_version": "1.5.0",
          "state": {
            "_model_module": "@jupyter-widgets/controls",
            "_model_module_version": "1.5.0",
            "_model_name": "DescriptionStyleModel",
            "_view_count": null,
            "_view_module": "@jupyter-widgets/base",
            "_view_module_version": "1.2.0",
            "_view_name": "StyleView",
            "description_width": ""
          }
        },
        "46e13263892e491686081e42f8e0ee7c": {
          "model_module": "@jupyter-widgets/base",
          "model_name": "LayoutModel",
          "model_module_version": "1.2.0",
          "state": {
            "_model_module": "@jupyter-widgets/base",
            "_model_module_version": "1.2.0",
            "_model_name": "LayoutModel",
            "_view_count": null,
            "_view_module": "@jupyter-widgets/base",
            "_view_module_version": "1.2.0",
            "_view_name": "LayoutView",
            "align_content": null,
            "align_items": null,
            "align_self": null,
            "border": null,
            "bottom": null,
            "display": null,
            "flex": null,
            "flex_flow": null,
            "grid_area": null,
            "grid_auto_columns": null,
            "grid_auto_flow": null,
            "grid_auto_rows": null,
            "grid_column": null,
            "grid_gap": null,
            "grid_row": null,
            "grid_template_areas": null,
            "grid_template_columns": null,
            "grid_template_rows": null,
            "height": null,
            "justify_content": null,
            "justify_items": null,
            "left": null,
            "margin": null,
            "max_height": null,
            "max_width": null,
            "min_height": null,
            "min_width": null,
            "object_fit": null,
            "object_position": null,
            "order": null,
            "overflow": null,
            "overflow_x": null,
            "overflow_y": null,
            "padding": null,
            "right": null,
            "top": null,
            "visibility": null,
            "width": null
          }
        },
        "a1743ff7ee7f45e68e46ec72085b1394": {
          "model_module": "@jupyter-widgets/controls",
          "model_name": "ProgressStyleModel",
          "model_module_version": "1.5.0",
          "state": {
            "_model_module": "@jupyter-widgets/controls",
            "_model_module_version": "1.5.0",
            "_model_name": "ProgressStyleModel",
            "_view_count": null,
            "_view_module": "@jupyter-widgets/base",
            "_view_module_version": "1.2.0",
            "_view_name": "StyleView",
            "bar_color": null,
            "description_width": ""
          }
        },
        "61135841210345d8b1f56e7f12744ca0": {
          "model_module": "@jupyter-widgets/base",
          "model_name": "LayoutModel",
          "model_module_version": "1.2.0",
          "state": {
            "_model_module": "@jupyter-widgets/base",
            "_model_module_version": "1.2.0",
            "_model_name": "LayoutModel",
            "_view_count": null,
            "_view_module": "@jupyter-widgets/base",
            "_view_module_version": "1.2.0",
            "_view_name": "LayoutView",
            "align_content": null,
            "align_items": null,
            "align_self": null,
            "border": null,
            "bottom": null,
            "display": null,
            "flex": null,
            "flex_flow": null,
            "grid_area": null,
            "grid_auto_columns": null,
            "grid_auto_flow": null,
            "grid_auto_rows": null,
            "grid_column": null,
            "grid_gap": null,
            "grid_row": null,
            "grid_template_areas": null,
            "grid_template_columns": null,
            "grid_template_rows": null,
            "height": null,
            "justify_content": null,
            "justify_items": null,
            "left": null,
            "margin": null,
            "max_height": null,
            "max_width": null,
            "min_height": null,
            "min_width": null,
            "object_fit": null,
            "object_position": null,
            "order": null,
            "overflow": null,
            "overflow_x": null,
            "overflow_y": null,
            "padding": null,
            "right": null,
            "top": null,
            "visibility": null,
            "width": null
          }
        },
        "bc1b0d480a874e4a837a36cb329edfcd": {
          "model_module": "@jupyter-widgets/controls",
          "model_name": "DescriptionStyleModel",
          "model_module_version": "1.5.0",
          "state": {
            "_model_module": "@jupyter-widgets/controls",
            "_model_module_version": "1.5.0",
            "_model_name": "DescriptionStyleModel",
            "_view_count": null,
            "_view_module": "@jupyter-widgets/base",
            "_view_module_version": "1.2.0",
            "_view_name": "StyleView",
            "description_width": ""
          }
        }
      }
    }
  },
  "cells": [
    {
      "cell_type": "markdown",
      "metadata": {
        "id": "view-in-github",
        "colab_type": "text"
      },
      "source": [
        "<a href=\"https://colab.research.google.com/github/DorAzaria/Sentiment-Analysis-Deep-Learning-Methods-For-Speech-Recognition/blob/main/preprocess/preprocess.ipynb\" target=\"_parent\"><img src=\"https://colab.research.google.com/assets/colab-badge.svg\" alt=\"Open In Colab\"/></a>"
      ]
    },
    {
      "cell_type": "code",
      "execution_count": 1,
      "metadata": {
        "colab": {
          "base_uri": "https://localhost:8080/"
        },
        "id": "ZO5JOfpL9hiD",
        "outputId": "2bddec83-49c6-4283-b496-20991750a130"
      },
      "outputs": [
        {
          "output_type": "stream",
          "name": "stdout",
          "text": [
            "Mounted at /content/data/\n"
          ]
        }
      ],
      "source": [
        "from google.colab import drive\n",
        "drive.mount('/content/data/')"
      ]
    },
    {
      "cell_type": "markdown",
      "source": [
        "# **IMPORTS**\n",
        "\n",
        "---"
      ],
      "metadata": {
        "id": "ru4q5AgG_jpA"
      }
    },
    {
      "cell_type": "code",
      "source": [
        "import numpy as np\n",
        "import pandas as pd\n",
        "import os\n",
        "import librosa\n",
        "import sys\n",
        "import IPython\n",
        "import matplotlib\n",
        "import matplotlib.pyplot as plt\n",
        "import requests\n",
        "import random\n",
        "import torch\n",
        "import pickle\n",
        "import torchaudio\n",
        "from pathlib import Path\n",
        "from tqdm import tqdm\n",
        "from sklearn.model_selection import train_test_split"
      ],
      "metadata": {
        "id": "pL6DmFwx_i3H"
      },
      "execution_count": 2,
      "outputs": []
    },
    {
      "cell_type": "markdown",
      "source": [
        "# **STATICS**\n",
        "---\n",
        "\n"
      ],
      "metadata": {
        "id": "LF3nZ02K_rU7"
      }
    },
    {
      "cell_type": "code",
      "source": [
        "torch.random.manual_seed(0)\n",
        "device = torch.device(\"cuda\" if torch.cuda.is_available() else \"cpu\")\n",
        "bundle = torchaudio.pipelines.WAV2VEC2_ASR_BASE_960H\n",
        "model = bundle.get_model().to(device)\n",
        "EMOTIONS = {0: 'surprise', 1: 'calm', 2: 'happy', 3: 'sad', 4: 'angry', 5: 'fear', 6: 'disgust'}  # surprise has been changed from 8 to 0\n",
        "RAVDESS_PATH = '/content/data/MyDrive/dl/ravdess'\n",
        "TESS_PATH = '/content/data/MyDrive/dl/tess'\n",
        "URDU_PATH = '/content/data/MyDrive/dl/urdu'\n",
        "EMOVO_PATH = '/content/data/MyDrive/dl/EMOVO'\n",
        "AMERICAN_PATH = '/content/data/MyDrive/dl/american'\n",
        "SHEMO_PATH = '/content/data/MyDrive/dl/ShEMO'\n",
        "CREMA_PATH = '/content/data/MyDrive/dl/CREMA-D'\n",
        "SAMPLE_RATE = 16000\n",
        "count_calm = 0\n",
        "data = pd.DataFrame(columns=['Emotion', 'Path'])\n",
        "POSITIVE = 0\n",
        "NEUTRAL = 1\n",
        "NEGATIVE = 2"
      ],
      "metadata": {
        "id": "7BEJhPMwAjDy",
        "colab": {
          "base_uri": "https://localhost:8080/",
          "height": 86,
          "referenced_widgets": [
            "6e0f607c451a4560bba0984f9a6771bc",
            "8ca830a07e8a4c4abdbf7817f15d6688",
            "1afb124c76194cbdb681f77077141374",
            "5d52487739bf4017b3b466ed013fa8b6",
            "b930a48a0a1442138eabdf7827585c9c",
            "1cb48c27b0684f45a8fe120660f8597c",
            "fb9bdbaf420a40d2a061a5b276bd374c",
            "46e13263892e491686081e42f8e0ee7c",
            "a1743ff7ee7f45e68e46ec72085b1394",
            "61135841210345d8b1f56e7f12744ca0",
            "bc1b0d480a874e4a837a36cb329edfcd"
          ]
        },
        "outputId": "2eaff67c-0378-4929-bacd-3eabdcd515d7"
      },
      "execution_count": 3,
      "outputs": [
        {
          "output_type": "stream",
          "name": "stderr",
          "text": [
            "Downloading: \"https://download.pytorch.org/torchaudio/models/wav2vec2_fairseq_base_ls960_asr_ls960.pth\" to /root/.cache/torch/hub/checkpoints/wav2vec2_fairseq_base_ls960_asr_ls960.pth\n"
          ]
        },
        {
          "output_type": "display_data",
          "data": {
            "text/plain": [
              "  0%|          | 0.00/360M [00:00<?, ?B/s]"
            ],
            "application/vnd.jupyter.widget-view+json": {
              "version_major": 2,
              "version_minor": 0,
              "model_id": "6e0f607c451a4560bba0984f9a6771bc"
            }
          },
          "metadata": {}
        }
      ]
    },
    {
      "cell_type": "code",
      "source": [
        "def distributeEmotion(emotion):\n",
        "\n",
        "    if isinstance(emotion, str):\n",
        "      emotion = emotion.lower()\n",
        "\n",
        "    if emotion in {'ang', 'dis', 'fea', 'sad','angry' , 'anger', 'disgust', 'fear', 'fearful', 'sad', 'sadness', 4, 5, 6, 7, 'negative', 's', 'a', 'f'}:\n",
        "      return NEGATIVE\n",
        "\n",
        "    if emotion in {'neu','neutral', 'calm', 1, 2, 'n'}:\n",
        "      return NEUTRAL\n",
        "\n",
        "    if emotion in {'hap', 'happy', 'hapiness', 'ps', 'surprised', 'excited', 'encouraging', 3, 8, 'positive', 'h', 'w'}:\n",
        "      return POSITIVE\n",
        "\n",
        "    return -1\n",
        "        "
      ],
      "metadata": {
        "id": "ftxiHx_XhKPE"
      },
      "execution_count": 4,
      "outputs": []
    },
    {
      "cell_type": "markdown",
      "source": [
        "# **IMPORT RAVDESS**\n",
        "---"
      ],
      "metadata": {
        "id": "ug0CEh1UAqPM"
      }
    },
    {
      "cell_type": "code",
      "source": [
        "for dirname, _, filenames in os.walk(RAVDESS_PATH):\n",
        "    for filename in filenames:\n",
        "        file_path = os.path.join('\\\\', dirname, filename)\n",
        "        identifiers = filename.split('.')[0].split('-')\n",
        "        emotion = distributeEmotion(int(identifiers[2]))\n",
        "\n",
        "        if emotion != -1:\n",
        "            data = data.append({\"Emotion\": emotion,\n",
        "                                \"Path\": file_path\n",
        "                                },\n",
        "                              ignore_index=True\n",
        "                              )"
      ],
      "metadata": {
        "id": "6KV0CG8UApRE"
      },
      "execution_count": 5,
      "outputs": []
    },
    {
      "cell_type": "markdown",
      "source": [
        "# **IMPORT TESS**\n",
        "---"
      ],
      "metadata": {
        "id": "qMm6NjxwBO_Y"
      }
    },
    {
      "cell_type": "code",
      "source": [
        "for dirname, _, filenames in os.walk(TESS_PATH):\n",
        "    for filename in filenames:\n",
        "        file_path = os.path.join('\\\\', dirname, filename)\n",
        "        identifiers = filename.split('.')[0].split('_')\n",
        "        emotion = distributeEmotion(identifiers[2])\n",
        "\n",
        "        if emotion != -1:\n",
        "            data = data.append({\"Emotion\": emotion,\n",
        "                                \"Path\": file_path\n",
        "                                },\n",
        "                              ignore_index=True\n",
        "                              )"
      ],
      "metadata": {
        "id": "gFIbbV8wBURB"
      },
      "execution_count": 6,
      "outputs": []
    },
    {
      "cell_type": "markdown",
      "source": [
        "# **IMPORT URDU**\n",
        "---"
      ],
      "metadata": {
        "id": "2aTGlIZnBR71"
      }
    },
    {
      "cell_type": "code",
      "source": [
        "for dirname, _, filenames in os.walk(URDU_PATH):\n",
        "    emo_name = dirname[10:]\n",
        "    for filename in filenames:\n",
        "        file_path = os.path.join('\\\\', dirname, filename)\n",
        "        identifiers = filename.split('.')[0].split('_')\n",
        "        emotion = distributeEmotion(emo_name)\n",
        "\n",
        "        if emotion != -1:\n",
        "            data = data.append({\"Emotion\": emotion,\n",
        "                                \"Path\": file_path\n",
        "                                },\n",
        "                              ignore_index=True\n",
        "                              )"
      ],
      "metadata": {
        "id": "sv9MXawfBUqR"
      },
      "execution_count": 7,
      "outputs": []
    },
    {
      "cell_type": "markdown",
      "source": [
        "# **AMERICAN**\n",
        "---"
      ],
      "metadata": {
        "id": "Dho5z_9WfWbO"
      }
    },
    {
      "cell_type": "code",
      "source": [
        "for dirname, _, filenames in os.walk(AMERICAN_PATH):\n",
        "    for filename in filenames:\n",
        "        file_path = os.path.join('\\\\', dirname, filename)\n",
        "        identifiers = filename.split('.')[0].split('_')\n",
        "        emotion = distributeEmotion(identifiers[1])\n",
        "\n",
        "        if emotion != -1:\n",
        "            data = data.append({\"Emotion\": emotion,\n",
        "                                \"Path\": file_path\n",
        "                                },\n",
        "                              ignore_index=True\n",
        "                              )"
      ],
      "metadata": {
        "id": "LnN4xMlRfbFK"
      },
      "execution_count": null,
      "outputs": []
    },
    {
      "cell_type": "markdown",
      "source": [
        "# **EMOVO - ITALIAN**\n",
        "---\n",
        "\n",
        "*   disgusto =  disgust\n",
        "*   gioia = joy happiness\n",
        "*   paura = fear\n",
        "*   rabbia = anger\n",
        "*   sorpresa = surprised\n",
        "*   (stato emotivo neutro) = neutral\n",
        "*   tristezza = sad"
      ],
      "metadata": {
        "id": "iL1F5vsxa9Mf"
      }
    },
    {
      "cell_type": "code",
      "source": [
        "for dirname, _, filenames in os.walk(EMOVO_PATH):\n",
        "    for filename in filenames:\n",
        "        file_path = os.path.join('\\\\', dirname, filename)\n",
        "        identifiers = filename.split('.')[0].split('_')\n",
        "        emotion = distributeEmotion(dirname)\n",
        "\n",
        "        if emotion != -1:\n",
        "            data = data.append({\"Emotion\": emotion,\n",
        "                                \"Path\": file_path\n",
        "                                },\n",
        "                              ignore_index=True\n",
        "                              )"
      ],
      "metadata": {
        "id": "WU29JkjIa846"
      },
      "execution_count": null,
      "outputs": []
    },
    {
      "cell_type": "markdown",
      "source": [
        "# **ShEMO**\n",
        "---"
      ],
      "metadata": {
        "id": "dYL1eB5Z8_Zq"
      }
    },
    {
      "cell_type": "code",
      "source": [
        "for dirname, _, filenames in os.walk(SHEMO_PATH):\n",
        "    for filename in filenames:\n",
        "        file_path = os.path.join('\\\\', dirname, filename)\n",
        "        emotion = distributeEmotion(filename[3])\n",
        "        if emotion != -1:\n",
        "            data = data.append({\"Emotion\": emotion,\n",
        "                                \"Path\": file_path\n",
        "                                },\n",
        "                              ignore_index=True\n",
        "                              )"
      ],
      "metadata": {
        "id": "RDyteL8V8_Hp"
      },
      "execution_count": null,
      "outputs": []
    },
    {
      "cell_type": "markdown",
      "source": [
        "# **CREMA-D**\n",
        "---"
      ],
      "metadata": {
        "id": "emLxChWxC7Ty"
      }
    },
    {
      "cell_type": "code",
      "source": [
        "for dirname, _, filenames in os.walk(CREMA_PATH):\n",
        "    for filename in filenames:\n",
        "        file_path = os.path.join('\\\\', dirname, filename)\n",
        "        identifiers = filename.split('.')[0].split('_')\n",
        "        emotion = distributeEmotion(identifiers[2])\n",
        "\n",
        "        if emotion != -1:\n",
        "            data = data.append({\"Emotion\": emotion,\n",
        "                                \"Path\": file_path\n",
        "                                },\n",
        "                              ignore_index=True\n",
        "                              )"
      ],
      "metadata": {
        "id": "gP37CkG3C9g5"
      },
      "execution_count": null,
      "outputs": []
    },
    {
      "cell_type": "code",
      "source": [
        "data['Emotion'].value_counts()"
      ],
      "metadata": {
        "colab": {
          "base_uri": "https://localhost:8080/"
        },
        "id": "nTIXHu5DBZOW",
        "outputId": "d6584652-1608-4b43-8ec7-860b8bc14cf6"
      },
      "execution_count": 8,
      "outputs": [
        {
          "output_type": "execute_result",
          "data": {
            "text/plain": [
              "2    2368\n",
              "0    1184\n",
              "1     688\n",
              "Name: Emotion, dtype: int64"
            ]
          },
          "metadata": {},
          "execution_count": 8
        }
      ]
    },
    {
      "cell_type": "markdown",
      "source": [
        "# IMPORT SUMMRARY\n",
        "---\n",
        "*   TOTAL - 16,122 \n",
        "*   0) POSITIVE - 3601\n",
        "*   1) NEUTRAL - 3043\n",
        "*   2) NEGATIVE - 9478\n",
        "\n",
        "\n",
        "\n"
      ],
      "metadata": {
        "id": "nwptcHcLpDK1"
      }
    },
    {
      "cell_type": "markdown",
      "source": [
        "# **SAMPLE & NORMALIZATION**\n",
        "---"
      ],
      "metadata": {
        "id": "S9GlEW1YBU8E"
      }
    },
    {
      "cell_type": "code",
      "source": [
        "def speech_file_to_array_fn(path):\n",
        "    signal = np.zeros((int(SAMPLE_RATE*3 ,)))\n",
        "  \n",
        "    waveform, sampling_rate = torchaudio.load(filepath=path, num_frames=SAMPLE_RATE * 3)\n",
        "\n",
        "    waveform = waveform.to(device)\n",
        "    waveform = waveform.detach().cpu().numpy()[0]\n",
        "\n",
        "    if len(waveform) <= 48000 and len(waveform) >= 32000:\n",
        "        signal[:len(waveform)] = waveform\n",
        "\n",
        "        if sampling_rate < 48000: # if there is more to fill\n",
        "          rest = len(signal) - len(waveform) # get the \"rest length\"\n",
        "          reversed_waveform = np.flipud(waveform) # flip the array reverse\n",
        "          reversed_waveform = reversed_waveform[:rest] # cut the array to the rest length\n",
        "          signal[len(waveform):] = reversed_waveform # place the rest in the signal\n",
        "          \n",
        "        signal_final = np.array([np.array(signal)])\n",
        "        signal_final = torch.from_numpy(signal_final).to(device)\n",
        "        signal_final = signal_final.type(torch.cuda.FloatTensor).to(device)\n",
        "\n",
        "        return signal_final\n",
        "\n",
        "    return -1\n",
        "\n",
        "\n",
        "def normalize_features(features):\n",
        "    for i in range(len(features[0])):\n",
        "        mlist = features[0][i]\n",
        "        features[0][i] = 2 * (mlist - np.max(mlist)) / (np.max(mlist) - np.min(mlist)) + 1"
      ],
      "metadata": {
        "id": "oMwEplwzBmpo"
      },
      "execution_count": 9,
      "outputs": []
    },
    {
      "cell_type": "code",
      "source": [
        "def diff_speech_file_to_array_fn(path):\n",
        "    signal = np.zeros((int(SAMPLE_RATE*3 ,)))\n",
        "  \n",
        "    waveform, sampling_rate = torchaudio.load(filepath=path, num_frames=SAMPLE_RATE * 3)\n",
        "\n",
        "    waveform = waveform.to(device)\n",
        "    waveform = waveform.detach().cpu().numpy()[0]\n",
        "\n",
        "    if len(waveform) <= 48000 and len(waveform) >= 32000:\n",
        "        signal[:len(waveform)] = waveform\n",
        "\n",
        "        if sampling_rate < 48000: # if there is more to fill\n",
        "          rest = len(signal) - len(waveform) # get the \"rest length\"\n",
        "          filled_list = signal[:len(waveform)] # we don't want to choose zero values, so this list contains non-zero values only.\n",
        "          signal[len(waveform):] = random.choices(filled_list, k=rest) # choose k values from the filled_list\n",
        "          \n",
        "        signal_final = np.array([np.array(signal)])\n",
        "        signal_final = torch.from_numpy(signal_final).to(device)\n",
        "        signal_final = signal_final.type(torch.cuda.FloatTensor).to(device)\n",
        "\n",
        "        return signal_final\n",
        "\n",
        "    return -1"
      ],
      "metadata": {
        "id": "Ub2-T99aO0WR"
      },
      "execution_count": 10,
      "outputs": []
    },
    {
      "cell_type": "markdown",
      "source": [
        "# **SAMPLE DATA**\n",
        "---\n",
        "EACH SAMPLE SHAPE IS (1, 149, 32)\n",
        "\n",
        "15203"
      ],
      "metadata": {
        "id": "mA9aJZZtBohm"
      }
    },
    {
      "cell_type": "code",
      "source": [
        "signals = []\n",
        "\n",
        "total_data = len(data)\n",
        "with torch.inference_mode():\n",
        "    for i, file_path in enumerate(data.Path):\n",
        "        tor = diff_speech_file_to_array_fn(file_path)\n",
        "\n",
        "        if isinstance(tor, torch.Tensor):\n",
        "        \n",
        "            emission, _ = model(tor)\n",
        "            features = emission.detach().cpu().numpy()\n",
        "            normalize_features(features)\n",
        "            check = 0\n",
        "            max = np.max(features)\n",
        "            min = np.min(features)\n",
        "\n",
        "            if max > 1:\n",
        "                print(f'\\n{j} max is not 1, current max: {max}')\n",
        "                check += 1\n",
        "            if min < -1:\n",
        "                print(f'\\n{j} min is not -1, current min: {min}')\n",
        "                check += 1\n",
        "\n",
        "            if check == 0:\n",
        "                row = (file_path, features, data.iloc[i]['Emotion'])\n",
        "                signals.append(row)\n",
        "            else:\n",
        "                total_data -= 1\n",
        "\n",
        "        percent = (len(signals) / total_data) * 100\n",
        "        print(\"\\r Processed {}/{} files. ({}%) \".format(len(signals), total_data, int(percent)), end='')\n"
      ],
      "metadata": {
        "colab": {
          "base_uri": "https://localhost:8080/"
        },
        "id": "u7GkyWe9B4MU",
        "outputId": "7d94b61d-fcf5-4a96-fc25-cb1640ad68f6"
      },
      "execution_count": 11,
      "outputs": [
        {
          "output_type": "stream",
          "name": "stdout",
          "text": [
            " Processed 4235/4240 files. (99%) "
          ]
        }
      ]
    },
    {
      "cell_type": "markdown",
      "source": [
        "# **SAVE DATA**\n",
        "\n",
        "---\n",
        "\n"
      ],
      "metadata": {
        "id": "4cjP-RpHB56x"
      }
    },
    {
      "cell_type": "code",
      "source": [
        "file_pth = open('/content/dataset.pth', 'wb')\n",
        "pickle.dump(signals, file_pth)"
      ],
      "metadata": {
        "id": "UG_kipMoB8Yh"
      },
      "execution_count": null,
      "outputs": []
    },
    {
      "cell_type": "code",
      "source": [
        "file_pth = open('/content/data/MyDrive/dl/dataset5.pth', 'wb')\n",
        "pickle.dump(signals, file_pth)"
      ],
      "metadata": {
        "id": "6S7yf4QQUG70"
      },
      "execution_count": 12,
      "outputs": []
    },
    {
      "cell_type": "code",
      "source": [
        "counter = [0, 0, 0]\n",
        "\n",
        "for tup in signals:\n",
        "  counter[tup[2]] += 1\n",
        "\n",
        "print(counter)"
      ],
      "metadata": {
        "id": "UfIF8PgeZZRI",
        "outputId": "75b65ab4-2fe0-467f-df6e-1ee8c77bbae4",
        "colab": {
          "base_uri": "https://localhost:8080/"
        }
      },
      "execution_count": 13,
      "outputs": [
        {
          "output_type": "stream",
          "name": "stdout",
          "text": [
            "[1184, 688, 2363]\n"
          ]
        }
      ]
    }
  ]
}